{
 "cells": [
  {
   "cell_type": "code",
   "execution_count": 1,
   "metadata": {},
   "outputs": [],
   "source": [
    "from scipy.special import expit\n",
    "import sys\n",
    "import pandas as pd\n",
    "import numpy as np\n",
    "\n",
    "class MultiLayerPerceptronBase(object):\n",
    "    def __init__(self, layers = 2, layer_width=[4, 3, 3], C = 0.1,\n",
    "                 epochs = 500, eta = .001, activation=\"sigmoid\", obj = \"mse\", random_state = None):\n",
    "        np.random.seed(random_state)\n",
    "        self.C = C\n",
    "        self.epochs = epochs\n",
    "        self.eta = eta\n",
    "        self.layer_width = layer_width\n",
    "        self.activation=activation\n",
    "        self.obj = obj\n",
    "        #add widths for input and output layers\n",
    "#         self.layer_width.insert(0, 8)\n",
    "        #output layer\n",
    "#         self.layer_width.append(8)\n",
    "        \n",
    "        \n",
    "        \n",
    "    @staticmethod\n",
    "    def _encode_labels(y):\n",
    "        onehot = pd.get_dummies(y).values.T\n",
    "        return onehot\n",
    "    \n",
    "    def _initialize_weights(self):\n",
    "        self.weights = []\n",
    "        for idx, w in enumerate(self.layer_width[:-1]):\n",
    "            Wn_num_elements = (w + 1) * self.layer_width[idx+1]\n",
    "            self.weights.append(np.random.uniform(-1.0, 1.0, size = Wn_num_elements).\n",
    "                                reshape(self.layer_width[idx+1], w + 1))\n",
    "        for w in self.weights:\n",
    "            print(w.shape)\n",
    "    \n",
    "    @staticmethod\n",
    "    def _sigmoid(z):\n",
    "        return expit(z)\n",
    "    \n",
    "    @staticmethod\n",
    "    def _relu(z):\n",
    "        return np.maximum(0,z.copy())\n",
    "    \n",
    "    \n",
    "    def _derive_activation(self, a_l, w_l, v_last, z_l):\n",
    "        if self.activation == \"sigmoid\":\n",
    "            return a_l * (1 - a_l) * (w_l.T @ v_last)\n",
    "        \n",
    "        if self.activation == \"relu\":\n",
    "            a_l[a_l<=0] = 0\n",
    "            a_l[a_l>0] = (w_l.T @ v_last)\n",
    "            return a_l\n",
    "    \n",
    "    \n",
    "    @staticmethod\n",
    "    def _add_bias_unit(X, how='column'):\n",
    "        \"\"\"Add bias unit (column or row of 1s) to array at index 0\"\"\"\n",
    "        if how == 'column':\n",
    "            ones = np.ones((X.shape[0], 1))\n",
    "            X_new = np.hstack((ones, X))\n",
    "        elif how == 'row':\n",
    "        \n",
    "            ones = np.ones((1, X.shape[1]))\n",
    "            X_new = np.vstack((ones, X))\n",
    "        return X_new\n",
    "    \n",
    "    @staticmethod\n",
    "    def _l2_reg(lambda_, weights):\n",
    "        t = 0\n",
    "        for w in weights:\n",
    "            t += np.mean(w[:, 1:] **2)\n",
    "        t = np.sqrt(t)\n",
    "        t *= (lambda_/len(weights))\n",
    "        return t\n",
    "    def _cost(self, A_n, y_enc, weights):\n",
    "        cost = np.mean((y_enc - A_n) **2)\n",
    "        L2_term = self._l2_reg(self.C, weights)\n",
    "        return cost + L2_term\n",
    "    "
   ]
  },
  {
   "cell_type": "code",
   "execution_count": 2,
   "metadata": {},
   "outputs": [],
   "source": [
    "class MultiLayerPerceptron(MultiLayerPerceptronBase):\n",
    "    def _feedforward(self, X):\n",
    "        A = []\n",
    "        Z = []\n",
    "        for idx, W_n in enumerate(self.weights):\n",
    "            if len(Z) > 0:\n",
    "                A_n = self._sigmoid(Z[-1])\n",
    "                A_n = self._add_bias_unit(A_n, how=\"row\")\n",
    "                Z_n = W_n @ A_n\n",
    "                A.append(A_n)\n",
    "                Z.append(Z_n)\n",
    "            else:\n",
    "                A_n = self._add_bias_unit(X, how=\"row\")\n",
    "                A_n = A_n\n",
    "                Z_n = W_n @ A_n\n",
    "                A.append(A_n)\n",
    "                Z.append(Z_n)\n",
    "        A.append(self._sigmoid(Z[-1]))\n",
    "        return A, Z\n",
    "    \n",
    "    def _get_gradient(self, A, Z, Y_enc):\n",
    "        gradients = []\n",
    "        #gradient of objective function w/r to last activation\n",
    "        gradients.append(np.zeros(self.weights[-1].shape))\n",
    "        V2 = -2 * (Y_enc - A[-1]) * A[-1] * (1-A[-1])\n",
    "        gradients[-1] = V2 @ A[-2].T\n",
    "        V_last = V2\n",
    "        \n",
    "        for l in range(1, len(self.weights)):\n",
    "            gradients.append(np.zeros(self.weights[len(self.weights) - l].shape))\n",
    "            A_l = list(reversed(A))[l]\n",
    "            W_l = list(reversed(self.weights))[l-1]\n",
    "            if l == 1:\n",
    "                V_l = A_l * (1 - A_l) * (W_l.T @ V_last)\n",
    "                V_last = V_l\n",
    "            else:\n",
    "                V_l = self._derive_activation(A_l, W_l, V_last, Z[-1])\n",
    "                V_last = V_l\n",
    "            gradients[-1] = V_l[1:, :] @ list(reversed(A))[l+1].T\n",
    "    \n",
    "        return list(reversed(gradients))\n",
    "    \n",
    "    def predict(self, X):\n",
    "        A, Z = self._feedforward(X)\n",
    "        a = A[-1]\n",
    "        ypred = np.argmax(a, axis=0)\n",
    "        return ypred\n",
    "    \n",
    "    def fit(self, X, y, print_progress=False):\n",
    "        X_data, y_data = X.copy(), y.copy()\n",
    "        Y_enc = self._encode_labels(y)\n",
    "        self._initialize_weights()\n",
    "        self.cost = []\n",
    "        \n",
    "        for i in range(self.epochs):\n",
    "            if print_progress>0 and (i+1)%print_progress==0:\n",
    "                sys.stderr.write('\\rEpoch: %d/%d' % (i+1, self.epochs))\n",
    "                sys.stderr.flush()\n",
    "            \n",
    "            A, Z = self._feedforward(X_data.reshape(self.layer_width[0], -1))\n",
    " \n",
    "            cost = self._cost(A[-1], Y_enc, self.weights)\n",
    "            self.cost.append(cost)\n",
    "            grad = self._get_gradient(A,Z, Y_enc)\n",
    "            for g in grad:\n",
    "                print(g.shape)\n",
    "            print('\\n')\n",
    "            for w, g in zip(self.weights, grad):\n",
    "                g[:,1:] -= w[:,1:] * self.C\n",
    "                w -= self.eta*g\n",
    "        print(self.cost)\n",
    "        return self"
   ]
  },
  {
   "cell_type": "code",
   "execution_count": 3,
   "metadata": {},
   "outputs": [],
   "source": [
    "\n",
    "# lets load up the handwritten digit dataset\n",
    "from sklearn.datasets import load_digits, load_iris\n",
    "from sklearn.metrics import accuracy_score\n",
    "from sklearn.preprocessing import StandardScaler\n",
    "import numpy as np\n",
    "\n",
    "ds = load_iris()\n",
    "X = ds.data/16.0-0.5\n",
    "y = ds.target"
   ]
  },
  {
   "cell_type": "code",
   "execution_count": 4,
   "metadata": {},
   "outputs": [
    {
     "ename": "ValueError",
     "evalue": "cannot reshape array of size 4 into shape (8,8)",
     "output_type": "error",
     "traceback": [
      "\u001b[0;31m---------------------------------------------------------------------------\u001b[0m",
      "\u001b[0;31mValueError\u001b[0m                                Traceback (most recent call last)",
      "\u001b[0;32m<ipython-input-4-09fef154e895>\u001b[0m in \u001b[0;36m<module>\u001b[0;34m\u001b[0m\n\u001b[1;32m      5\u001b[0m \u001b[0max\u001b[0m \u001b[0;34m=\u001b[0m \u001b[0max\u001b[0m\u001b[0;34m.\u001b[0m\u001b[0mflatten\u001b[0m\u001b[0;34m(\u001b[0m\u001b[0;34m)\u001b[0m\u001b[0;34m\u001b[0m\u001b[0;34m\u001b[0m\u001b[0m\n\u001b[1;32m      6\u001b[0m \u001b[0;32mfor\u001b[0m \u001b[0mi\u001b[0m \u001b[0;32min\u001b[0m \u001b[0mrange\u001b[0m\u001b[0;34m(\u001b[0m\u001b[0;36m10\u001b[0m\u001b[0;34m)\u001b[0m\u001b[0;34m:\u001b[0m\u001b[0;34m\u001b[0m\u001b[0;34m\u001b[0m\u001b[0m\n\u001b[0;32m----> 7\u001b[0;31m     \u001b[0mimg\u001b[0m \u001b[0;34m=\u001b[0m \u001b[0mX\u001b[0m\u001b[0;34m[\u001b[0m\u001b[0my\u001b[0m \u001b[0;34m==\u001b[0m \u001b[0mi\u001b[0m\u001b[0;34m]\u001b[0m\u001b[0;34m[\u001b[0m\u001b[0;36m0\u001b[0m\u001b[0;34m]\u001b[0m\u001b[0;34m.\u001b[0m\u001b[0mreshape\u001b[0m\u001b[0;34m(\u001b[0m\u001b[0;36m8\u001b[0m\u001b[0;34m,\u001b[0m \u001b[0;36m8\u001b[0m\u001b[0;34m)\u001b[0m\u001b[0;34m\u001b[0m\u001b[0;34m\u001b[0m\u001b[0m\n\u001b[0m\u001b[1;32m      8\u001b[0m     \u001b[0max\u001b[0m\u001b[0;34m[\u001b[0m\u001b[0mi\u001b[0m\u001b[0;34m]\u001b[0m\u001b[0;34m.\u001b[0m\u001b[0mimshow\u001b[0m\u001b[0;34m(\u001b[0m\u001b[0mimg\u001b[0m\u001b[0;34m,\u001b[0m \u001b[0mcmap\u001b[0m\u001b[0;34m=\u001b[0m\u001b[0;34m'Greys'\u001b[0m\u001b[0;34m,\u001b[0m \u001b[0minterpolation\u001b[0m\u001b[0;34m=\u001b[0m\u001b[0;34m'nearest'\u001b[0m\u001b[0;34m)\u001b[0m\u001b[0;34m\u001b[0m\u001b[0;34m\u001b[0m\u001b[0m\n\u001b[1;32m      9\u001b[0m \u001b[0;34m\u001b[0m\u001b[0m\n",
      "\u001b[0;31mValueError\u001b[0m: cannot reshape array of size 4 into shape (8,8)"
     ]
    },
    {
     "data": {
      "image/png": "[encoded data removed]",
      "text/plain": [
       "<Figure size 432x288 with 10 Axes>"
      ]
     },
     "metadata": {
      "needs_background": "light"
     },
     "output_type": "display_data"
    }
   ],
   "source": [
    "import matplotlib.pyplot as plt\n",
    "%matplotlib inline\n",
    "\n",
    "fig, ax = plt.subplots(nrows=2, ncols=5, sharex=True, sharey=True,)\n",
    "ax = ax.flatten()\n",
    "for i in range(10):\n",
    "    img = X[y == i][0].reshape(8, 8)\n",
    "    ax[i].imshow(img, cmap='Greys', interpolation='nearest')\n",
    "\n",
    "ax[0].set_xticks([])\n",
    "ax[0].set_yticks([])\n",
    "plt.tight_layout()\n",
    "plt.show()"
   ]
  },
  {
   "cell_type": "code",
   "execution_count": 5,
   "metadata": {},
   "outputs": [
    {
     "ename": "IndexError",
     "evalue": "index 0 is out of bounds for axis 0 with size 0",
     "output_type": "error",
     "traceback": [
      "\u001b[0;31m---------------------------------------------------------------------------\u001b[0m",
      "\u001b[0;31mIndexError\u001b[0m                                Traceback (most recent call last)",
      "\u001b[0;32m<ipython-input-5-cce55f4e1c09>\u001b[0m in \u001b[0;36m<module>\u001b[0;34m\u001b[0m\n\u001b[1;32m      4\u001b[0m \u001b[0mx_digits\u001b[0m \u001b[0;34m=\u001b[0m \u001b[0mX\u001b[0m\u001b[0;34m[\u001b[0m\u001b[0my\u001b[0m \u001b[0;34m==\u001b[0m \u001b[0mdigit\u001b[0m\u001b[0;34m]\u001b[0m\u001b[0;34m\u001b[0m\u001b[0;34m\u001b[0m\u001b[0m\n\u001b[1;32m      5\u001b[0m \u001b[0;32mfor\u001b[0m \u001b[0mi\u001b[0m \u001b[0;32min\u001b[0m \u001b[0mrange\u001b[0m\u001b[0;34m(\u001b[0m\u001b[0;36m25\u001b[0m\u001b[0;34m)\u001b[0m\u001b[0;34m:\u001b[0m\u001b[0;34m\u001b[0m\u001b[0;34m\u001b[0m\u001b[0m\n\u001b[0;32m----> 6\u001b[0;31m     \u001b[0mimg\u001b[0m \u001b[0;34m=\u001b[0m \u001b[0mx_digits\u001b[0m\u001b[0;34m[\u001b[0m\u001b[0mi\u001b[0m\u001b[0;34m]\u001b[0m\u001b[0;34m.\u001b[0m\u001b[0mreshape\u001b[0m\u001b[0;34m(\u001b[0m\u001b[0;36m8\u001b[0m\u001b[0;34m,\u001b[0m \u001b[0;36m8\u001b[0m\u001b[0;34m)\u001b[0m\u001b[0;34m\u001b[0m\u001b[0;34m\u001b[0m\u001b[0m\n\u001b[0m\u001b[1;32m      7\u001b[0m     \u001b[0max\u001b[0m\u001b[0;34m[\u001b[0m\u001b[0mi\u001b[0m\u001b[0;34m]\u001b[0m\u001b[0;34m.\u001b[0m\u001b[0mimshow\u001b[0m\u001b[0;34m(\u001b[0m\u001b[0mimg\u001b[0m\u001b[0;34m,\u001b[0m \u001b[0mcmap\u001b[0m\u001b[0;34m=\u001b[0m\u001b[0;34m'Greys'\u001b[0m\u001b[0;34m,\u001b[0m \u001b[0minterpolation\u001b[0m\u001b[0;34m=\u001b[0m\u001b[0;34m'nearest'\u001b[0m\u001b[0;34m)\u001b[0m\u001b[0;34m\u001b[0m\u001b[0;34m\u001b[0m\u001b[0m\n\u001b[1;32m      8\u001b[0m \u001b[0;34m\u001b[0m\u001b[0m\n",
      "\u001b[0;31mIndexError\u001b[0m: index 0 is out of bounds for axis 0 with size 0"
     ]
    },
    {
     "data": {
      "image/png": "[encoded data removed]",
      "text/plain": [
       "<Figure size 432x288 with 25 Axes>"
      ]
     },
     "metadata": {
      "needs_background": "light"
     },
     "output_type": "display_data"
    }
   ],
   "source": [
    "fig, ax = plt.subplots(nrows=5, ncols=5, sharex=True, sharey=True,)\n",
    "ax = ax.flatten()\n",
    "digit = 7\n",
    "x_digits = X[y == digit]\n",
    "for i in range(25):\n",
    "    img = x_digits[i].reshape(8, 8)\n",
    "    ax[i].imshow(img, cmap='Greys', interpolation='nearest')\n",
    "\n",
    "ax[0].set_xticks([])\n",
    "ax[0].set_yticks([])\n",
    "plt.tight_layout()\n",
    "plt.show()"
   ]
  },
  {
   "cell_type": "code",
   "execution_count": 13,
   "metadata": {},
   "outputs": [
    {
     "name": "stdout",
     "output_type": "stream",
     "text": [
      "(1030732, 5)\n",
      "(1030732,)\n",
      "(687155, 5)\n",
      "(687155,)\n"
     ]
    }
   ],
   "source": [
    "from sklearn.model_selection import train_test_split\n",
    "\n",
    "X_train, X_test, y_train, y_test = train_test_split(X,y,test_size = 0.4)\n",
    "print(X_train.shape)\n",
    "print(y_train.shape)\n",
    "print(X_test.shape)\n",
    "print(y_test.shape)"
   ]
  },
  {
   "cell_type": "code",
   "execution_count": 6,
   "metadata": {},
   "outputs": [
    {
     "ename": "NameError",
     "evalue": "name 'X_train' is not defined",
     "output_type": "error",
     "traceback": [
      "\u001b[0;31m---------------------------------------------------------------------------\u001b[0m",
      "\u001b[0;31mNameError\u001b[0m                                 Traceback (most recent call last)",
      "\u001b[0;32m<ipython-input-6-8d580390b0d7>\u001b[0m in \u001b[0;36m<module>\u001b[0;34m\u001b[0m\n\u001b[1;32m      1\u001b[0m \u001b[0;34m\u001b[0m\u001b[0m\n\u001b[0;32m----> 2\u001b[0;31m \u001b[0mnn\u001b[0m \u001b[0;34m=\u001b[0m \u001b[0mMultiLayerPerceptron\u001b[0m\u001b[0;34m(\u001b[0m\u001b[0;36m2\u001b[0m\u001b[0;34m,\u001b[0m \u001b[0;34m[\u001b[0m\u001b[0mX_train\u001b[0m\u001b[0;34m.\u001b[0m\u001b[0mshape\u001b[0m\u001b[0;34m[\u001b[0m\u001b[0;36m1\u001b[0m\u001b[0;34m]\u001b[0m\u001b[0;34m,\u001b[0m \u001b[0;36m10\u001b[0m \u001b[0;34m,\u001b[0m \u001b[0;36m3\u001b[0m\u001b[0;34m]\u001b[0m\u001b[0;34m,\u001b[0m \u001b[0;36m0.7\u001b[0m\u001b[0;34m,\u001b[0m \u001b[0;36m500\u001b[0m\u001b[0;34m,\u001b[0m \u001b[0;36m0.000005\u001b[0m\u001b[0;34m,\u001b[0m \u001b[0;34m\"relu\"\u001b[0m\u001b[0;34m)\u001b[0m\u001b[0;34m\u001b[0m\u001b[0;34m\u001b[0m\u001b[0m\n\u001b[0m\u001b[1;32m      3\u001b[0m \u001b[0mnn\u001b[0m\u001b[0;34m.\u001b[0m\u001b[0mfit\u001b[0m\u001b[0;34m(\u001b[0m\u001b[0mX_train\u001b[0m\u001b[0;34m,\u001b[0m \u001b[0my_train\u001b[0m\u001b[0;34m,\u001b[0m \u001b[0mprint_progress\u001b[0m\u001b[0;34m=\u001b[0m\u001b[0;36m10\u001b[0m\u001b[0;34m)\u001b[0m\u001b[0;34m\u001b[0m\u001b[0;34m\u001b[0m\u001b[0m\n\u001b[1;32m      4\u001b[0m \u001b[0myhat\u001b[0m \u001b[0;34m=\u001b[0m \u001b[0mnn\u001b[0m\u001b[0;34m.\u001b[0m\u001b[0mpredict\u001b[0m\u001b[0;34m(\u001b[0m\u001b[0mX_test\u001b[0m\u001b[0;34m.\u001b[0m\u001b[0mT\u001b[0m\u001b[0;34m)\u001b[0m\u001b[0;34m\u001b[0m\u001b[0;34m\u001b[0m\u001b[0m\n\u001b[1;32m      5\u001b[0m \u001b[0mprint\u001b[0m\u001b[0;34m(\u001b[0m\u001b[0myhat\u001b[0m\u001b[0;34m)\u001b[0m\u001b[0;34m\u001b[0m\u001b[0;34m\u001b[0m\u001b[0m\n",
      "\u001b[0;31mNameError\u001b[0m: name 'X_train' is not defined"
     ]
    }
   ],
   "source": [
    "\n",
    "nn = MultiLayerPerceptron(2, [X_train.shape[1], 10 , 3], 0.7, 500, 0.000005, \"relu\")\n",
    "nn.fit(X_train, y_train, print_progress=10)\n",
    "yhat = nn.predict(X_test.T)\n",
    "print(yhat)\n",
    "print(y_test)\n",
    "print('Test acc:',accuracy_score(y_test,yhat))"
   ]
  },
  {
   "cell_type": "code",
   "execution_count": 7,
   "metadata": {},
   "outputs": [
    {
     "ename": "NameError",
     "evalue": "name 'nn' is not defined",
     "output_type": "error",
     "traceback": [
      "\u001b[0;31m---------------------------------------------------------------------------\u001b[0m",
      "\u001b[0;31mNameError\u001b[0m                                 Traceback (most recent call last)",
      "\u001b[0;32m<ipython-input-7-4bc1218137f4>\u001b[0m in \u001b[0;36m<module>\u001b[0;34m\u001b[0m\n\u001b[0;32m----> 1\u001b[0;31m \u001b[0mplt\u001b[0m\u001b[0;34m.\u001b[0m\u001b[0mplot\u001b[0m\u001b[0;34m(\u001b[0m\u001b[0mrange\u001b[0m\u001b[0;34m(\u001b[0m\u001b[0mlen\u001b[0m\u001b[0;34m(\u001b[0m\u001b[0mnn\u001b[0m\u001b[0;34m.\u001b[0m\u001b[0mcost\u001b[0m\u001b[0;34m)\u001b[0m\u001b[0;34m)\u001b[0m\u001b[0;34m,\u001b[0m \u001b[0mnn\u001b[0m\u001b[0;34m.\u001b[0m\u001b[0mcost\u001b[0m\u001b[0;34m)\u001b[0m\u001b[0;34m\u001b[0m\u001b[0;34m\u001b[0m\u001b[0m\n\u001b[0m\u001b[1;32m      2\u001b[0m \u001b[0mplt\u001b[0m\u001b[0;34m.\u001b[0m\u001b[0mylabel\u001b[0m\u001b[0;34m(\u001b[0m\u001b[0;34m'Cost'\u001b[0m\u001b[0;34m)\u001b[0m\u001b[0;34m\u001b[0m\u001b[0;34m\u001b[0m\u001b[0m\n\u001b[1;32m      3\u001b[0m \u001b[0mplt\u001b[0m\u001b[0;34m.\u001b[0m\u001b[0mxlabel\u001b[0m\u001b[0;34m(\u001b[0m\u001b[0;34m'Epochs'\u001b[0m\u001b[0;34m)\u001b[0m\u001b[0;34m\u001b[0m\u001b[0;34m\u001b[0m\u001b[0m\n\u001b[1;32m      4\u001b[0m \u001b[0mplt\u001b[0m\u001b[0;34m.\u001b[0m\u001b[0mtight_layout\u001b[0m\u001b[0;34m(\u001b[0m\u001b[0;34m)\u001b[0m\u001b[0;34m\u001b[0m\u001b[0;34m\u001b[0m\u001b[0m\n\u001b[1;32m      5\u001b[0m \u001b[0mplt\u001b[0m\u001b[0;34m.\u001b[0m\u001b[0mshow\u001b[0m\u001b[0;34m(\u001b[0m\u001b[0;34m)\u001b[0m\u001b[0;34m\u001b[0m\u001b[0;34m\u001b[0m\u001b[0m\n",
      "\u001b[0;31mNameError\u001b[0m: name 'nn' is not defined"
     ]
    }
   ],
   "source": [
    "plt.plot(range(len(nn.cost)), nn.cost)\n",
    "plt.ylabel('Cost')\n",
    "plt.xlabel('Epochs')\n",
    "plt.tight_layout()\n",
    "plt.show()"
   ]
  },
  {
   "cell_type": "code",
   "execution_count": 8,
   "metadata": {},
   "outputs": [],
   "source": [
    "import pandas as pd\n",
    "import numpy as np\n",
    "df = pd.read_csv('../pitches.csv')"
   ]
  },
  {
   "cell_type": "code",
   "execution_count": 9,
   "metadata": {},
   "outputs": [],
   "source": [
    "#drop unkown prediction classes and prediction classes with no definition from data source\n",
    "df.drop_duplicates(inplace=True)\n",
    "df = df[df.pitch_type != 'UN']\n",
    "df = df[df.pitch_type != 'FA']\n",
    "\n",
    "features = ['break_angle', 'break_length', 'end_speed', 'start_speed', 'spin_rate']\n",
    "#remove wild pitches or intentional walks as break length outliers. Code sourced from https://stackoverflow.com/questions/23199796/detect-and-exclude-outliers-in-pandas-data-frame\n",
    "for feature in features:\n",
    "    if feature != 'pitch_type':\n",
    "        df = df[np.abs(df[feature]-df[feature].mean()) <= (12*df[feature].std())]\n",
    "\n",
    "#drop data points where prediction class is unreliable\n",
    "df = df[df.type_confidence >= 1.0]\n",
    "\n",
    "#Drop any data with incomplete records\n",
    "df.dropna(inplace=True)"
   ]
  },
  {
   "cell_type": "code",
   "execution_count": 10,
   "metadata": {},
   "outputs": [
    {
     "name": "stderr",
     "output_type": "stream",
     "text": [
      "/Users/rasimon/anaconda3/lib/python3.6/site-packages/ipykernel_launcher.py:5: SettingWithCopyWarning: \n",
      "A value is trying to be set on a copy of a slice from a DataFrame.\n",
      "Try using .loc[row_indexer,col_indexer] = value instead\n",
      "\n",
      "See the caveats in the documentation: http://pandas.pydata.org/pandas-docs/stable/indexing.html#indexing-view-versus-copy\n",
      "  \"\"\"\n",
      "/Users/rasimon/anaconda3/lib/python3.6/site-packages/ipykernel_launcher.py:7: SettingWithCopyWarning: \n",
      "A value is trying to be set on a copy of a slice from a DataFrame.\n",
      "Try using .loc[row_indexer,col_indexer] = value instead\n",
      "\n",
      "See the caveats in the documentation: http://pandas.pydata.org/pandas-docs/stable/indexing.html#indexing-view-versus-copy\n",
      "  import sys\n",
      "/Users/rasimon/anaconda3/lib/python3.6/site-packages/ipykernel_launcher.py:9: SettingWithCopyWarning: \n",
      "A value is trying to be set on a copy of a slice from a DataFrame.\n",
      "Try using .loc[row_indexer,col_indexer] = value instead\n",
      "\n",
      "See the caveats in the documentation: http://pandas.pydata.org/pandas-docs/stable/indexing.html#indexing-view-versus-copy\n",
      "  if __name__ == '__main__':\n"
     ]
    }
   ],
   "source": [
    "#separate pitches based on prediction class for visualization\n",
    "# What might be a reasonable value for bounding break_length ? I picked 100.0\n",
    "df = df[df.break_length <= 100.0] \n",
    "fast_pitches_super_group = df[df.pitch_type.isin(['FC','FF','FS','FT','SI'])]\n",
    "fast_pitches_super_group['grouping'] = 'fast_ball'\n",
    "breaking_pitches_super_group = df[df.pitch_type.isin(['CU', 'KC', 'KN', 'SL', 'SC'])]\n",
    "breaking_pitches_super_group['grouping'] = 'breaking_ball'\n",
    "slow_pitches_super_group = df[df.pitch_type.isin(['CH','EP','FO','PO','IN'])]\n",
    "slow_pitches_super_group['grouping'] = 'slow_ball'\n",
    "visualization_frames = [fast_pitches_super_group, breaking_pitches_super_group, slow_pitches_super_group]\n",
    "result = pd.concat(visualization_frames)\n"
   ]
  },
  {
   "cell_type": "code",
   "execution_count": 11,
   "metadata": {},
   "outputs": [
    {
     "name": "stderr",
     "output_type": "stream",
     "text": [
      "/Users/rasimon/anaconda3/lib/python3.6/site-packages/ipykernel_launcher.py:7: SettingWithCopyWarning: \n",
      "A value is trying to be set on a copy of a slice from a DataFrame\n",
      "\n",
      "See the caveats in the documentation: http://pandas.pydata.org/pandas-docs/stable/indexing.html#indexing-view-versus-copy\n",
      "  import sys\n",
      "/Users/rasimon/anaconda3/lib/python3.6/site-packages/ipykernel_launcher.py:8: SettingWithCopyWarning: \n",
      "A value is trying to be set on a copy of a slice from a DataFrame\n",
      "\n",
      "See the caveats in the documentation: http://pandas.pydata.org/pandas-docs/stable/indexing.html#indexing-view-versus-copy\n",
      "  \n"
     ]
    },
    {
     "name": "stdout",
     "output_type": "stream",
     "text": [
      "[[0.18151354 0.05555556 0.77719298 0.79799666 0.35226407]\n",
      " [0.13767104 0.05913978 0.77719298 0.79632721 0.41114229]\n",
      " [0.12929349 0.06451613 0.79649123 0.81803005 0.40472292]\n",
      " ...\n",
      " [0.31471656 0.10215054 0.76315789 0.74290484 0.2383596 ]\n",
      " [0.3387322  0.10573477 0.75789474 0.75292154 0.29016753]\n",
      " [0.21641999 0.12544803 0.72280702 0.69949917 0.15544979]] [2 2 2 ... 0 0 0]\n"
     ]
    },
    {
     "name": "stderr",
     "output_type": "stream",
     "text": [
      "/Users/rasimon/anaconda3/lib/python3.6/site-packages/ipykernel_launcher.py:9: SettingWithCopyWarning: \n",
      "A value is trying to be set on a copy of a slice from a DataFrame\n",
      "\n",
      "See the caveats in the documentation: http://pandas.pydata.org/pandas-docs/stable/indexing.html#indexing-view-versus-copy\n",
      "  if __name__ == '__main__':\n"
     ]
    }
   ],
   "source": [
    "X = result[features]\n",
    "y = result['grouping']\n",
    "for f in features:\n",
    "    col = X[f]\n",
    "    col -= min(col)\n",
    "    col /= (max(col) - min(col))\n",
    "y[y == \"breaking_ball\"] = 1\n",
    "y[y == \"fast_ball\"] = 2\n",
    "y[y == \"slow_ball\"] = 0\n",
    "\n",
    "y = y.values\n",
    "X = X.values\n",
    "print(X, y)"
   ]
  },
  {
   "cell_type": "code",
   "execution_count": 14,
   "metadata": {},
   "outputs": [],
   "source": [
    "X_train, X_test, y_train, y_test = train_test_split(X,y,test_size = 0.4)"
   ]
  },
  {
   "cell_type": "code",
   "execution_count": 16,
   "metadata": {},
   "outputs": [
    {
     "name": "stdout",
     "output_type": "stream",
     "text": [
      "(10, 6)\n",
      "(3, 11)\n",
      "(10, 6)\n",
      "(3, 11)\n",
      "\n",
      "\n",
      "(10, 6)\n",
      "(3, 11)\n",
      "\n",
      "\n",
      "(10, 6)\n",
      "(3, 11)\n",
      "\n",
      "\n",
      "(10, 6)\n",
      "(3, 11)\n",
      "\n",
      "\n",
      "(10, 6)\n",
      "(3, 11)\n",
      "\n",
      "\n",
      "(10, 6)\n",
      "(3, 11)\n",
      "\n",
      "\n",
      "(10, 6)\n",
      "(3, 11)\n",
      "\n",
      "\n",
      "(10, 6)\n",
      "(3, 11)\n",
      "\n",
      "\n"
     ]
    },
    {
     "name": "stderr",
     "output_type": "stream",
     "text": [
      "Epoch: 10/30"
     ]
    },
    {
     "name": "stdout",
     "output_type": "stream",
     "text": [
      "(10, 6)\n",
      "(3, 11)\n",
      "\n",
      "\n",
      "(10, 6)\n",
      "(3, 11)\n",
      "\n",
      "\n",
      "(10, 6)\n",
      "(3, 11)\n",
      "\n",
      "\n",
      "(10, 6)\n",
      "(3, 11)\n",
      "\n",
      "\n",
      "(10, 6)\n",
      "(3, 11)\n",
      "\n",
      "\n",
      "(10, 6)\n",
      "(3, 11)\n",
      "\n",
      "\n",
      "(10, 6)\n",
      "(3, 11)\n",
      "\n",
      "\n",
      "(10, 6)\n",
      "(3, 11)\n",
      "\n",
      "\n",
      "(10, 6)\n",
      "(3, 11)\n",
      "\n",
      "\n",
      "(10, 6)\n",
      "(3, 11)\n",
      "\n",
      "\n"
     ]
    },
    {
     "name": "stderr",
     "output_type": "stream",
     "text": [
      "Epoch: 20/30"
     ]
    },
    {
     "name": "stdout",
     "output_type": "stream",
     "text": [
      "(10, 6)\n",
      "(3, 11)\n",
      "\n",
      "\n",
      "(10, 6)\n",
      "(3, 11)\n",
      "\n",
      "\n",
      "(10, 6)\n",
      "(3, 11)\n",
      "\n",
      "\n",
      "(10, 6)\n",
      "(3, 11)\n",
      "\n",
      "\n",
      "(10, 6)\n",
      "(3, 11)\n",
      "\n",
      "\n",
      "(10, 6)\n",
      "(3, 11)\n",
      "\n",
      "\n",
      "(10, 6)\n",
      "(3, 11)\n",
      "\n",
      "\n",
      "(10, 6)\n",
      "(3, 11)\n",
      "\n",
      "\n",
      "(10, 6)\n",
      "(3, 11)\n",
      "\n",
      "\n",
      "(10, 6)\n",
      "(3, 11)\n",
      "\n",
      "\n"
     ]
    },
    {
     "name": "stderr",
     "output_type": "stream",
     "text": [
      "Epoch: 30/30"
     ]
    },
    {
     "name": "stdout",
     "output_type": "stream",
     "text": [
      "(10, 6)\n",
      "(3, 11)\n",
      "\n",
      "\n",
      "(10, 6)\n",
      "(3, 11)\n",
      "\n",
      "\n",
      "[0.3822813116066296, 1.4662530273246013, 1.4654295738564314, 1.4636112522443037, 1.4503356087381467, 1.331980697618198, 1.3320093632439358, 1.332037966979906, 1.3320665082313239, 1.332094986394952, 1.3321234008589404, 1.3321517510026581, 1.332180036196528, 1.3322082558018495, 1.3322364091706225, 1.3322644956453662, 1.3322925145589304, 1.3323204652343046, 1.3323483469844242, 1.3323761591119672, 1.3324039009091488, 1.3324315716575112, 1.3324591706277058, 1.3324866970792724, 1.3325141502604094, 1.3325415294077434, 1.3325688337460866, 1.3325960624881912, 1.332623214834499, 1.33265028997288]\n",
      "yhat [2 2 2 ... 2 2 2]\n",
      "ytest [1 2 2 ... 2 1 2]\n",
      "Test acc: 0.6238636115577999\n"
     ]
    }
   ],
   "source": [
    "nn = MultiLayerPerceptron(2, [X_train.shape[1], 10, 3], 0.4, 30, 0.0001, \"relu\")\n",
    "nn.fit(X_train, y_train, print_progress=10)\n",
    "yhat = nn.predict(X_test.T)\n",
    "\n",
    "\n",
    "\n",
    "print(\"yhat\",yhat)\n",
    "print(\"ytest\", y_test)\n",
    "\n",
    "print('Test acc:',accuracy_score(y_test.astype(np.int),yhat))"
   ]
  },
  {
   "cell_type": "code",
   "execution_count": 17,
   "metadata": {},
   "outputs": [
    {
     "data": {
      "image/png": "[encoded data removed]",
      "text/plain": [
       "<Figure size 432x288 with 1 Axes>"
      ]
     },
     "metadata": {
      "needs_background": "light"
     },
     "output_type": "display_data"
    }
   ],
   "source": [
    "plt.plot(range(len(nn.cost)), nn.cost)\n",
    "plt.ylabel('Cost')\n",
    "plt.xlabel('Epochs')\n",
    "plt.tight_layout()\n",
    "plt.show()"
   ]
  },
  {
   "cell_type": "code",
   "execution_count": null,
   "metadata": {},
   "outputs": [],
   "source": []
  }
 ],
 "metadata": {
  "kernelspec": {
   "display_name": "Python 3",
   "language": "python",
   "name": "python3"
  },
  "language_info": {
   "codemirror_mode": {
    "name": "ipython",
    "version": 3
   },
   "file_extension": ".py",
   "mimetype": "text/x-python",
   "name": "python",
   "nbconvert_exporter": "python",
   "pygments_lexer": "ipython3",
   "version": "3.6.7"
  }
 },
 "nbformat": 4,
 "nbformat_minor": 2
}
