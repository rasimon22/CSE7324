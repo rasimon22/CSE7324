{
 "cells": [
  {
   "cell_type": "code",
   "execution_count": 18,
   "metadata": {},
   "outputs": [],
   "source": [
    "import numpy as np\n",
    "import pandas as pd\n",
    "from scipy.special import expit\n",
    "\n",
    "class MultiLayerPerceptronBase(object):\n",
    "    def __init__(self, layer_widths=[20,3,3],\n",
    "                 C=0.3, epochs=5000, eta=0.0001, random_state=None):\n",
    "        np.random.seed(random_state)\n",
    "        self.l2_C = C\n",
    "        self.epochs = epochs\n",
    "        self.eta = eta\n",
    "        self.weights = []\n",
    "        self.layer_widths=layer_widths\n",
    "        \n",
    "    @staticmethod\n",
    "    def _encode_labels(y):\n",
    "        \"\"\"Encode labels into one-hot representation\"\"\"\n",
    "        onehot = pd.get_dummies(y).values.T\n",
    "        return onehot\n",
    "\n",
    "    def _initialize_weights(self):\n",
    "        \"\"\"Initialize weights with small random numbers.\"\"\"\n",
    "        \n",
    "        for idx, w in enumerate(self.layer_widths[:-1]):\n",
    "            W_element_count = ((w + 1) * self.layer_widths[idx+1])\n",
    "            W = np.random.uniform(-1,1, size = W_element_count)\n",
    "            W.reshape((self.layer_widths[idx+1], -1))\n",
    "            self.weights.append(W.reshape((self.layer_widths[idx+1], -1)))    \n",
    "#         for w in self.weights:\n",
    "#             print(w.shape)\n",
    "    @staticmethod\n",
    "    def _sigmoid(z):\n",
    "        \"\"\"Use scipy.special.expit to avoid overflow\"\"\"\n",
    "        # 1.0 / (1.0 + np.exp(-z))\n",
    "        return expit(z)\n",
    "    \n",
    "    def _derive_activations(self, a, w, v, t=\"sigmoid\"):\n",
    "        if t == \"sigmoid\": \n",
    "#             print(a.shape, w.shape, v.shape)\n",
    "            return (a*(1-a) * (w[:,1:].T @ v[1:,:]))\n",
    "    \n",
    "    def _derive_objective(self, y, a, t=\"mse\"):\n",
    "        if t == \"mse\":\n",
    "            return -2*(y-a)*a*(1-a)\n",
    "    \n",
    "    @staticmethod\n",
    "    def _add_bias_unit(X, how='column'):\n",
    "        \"\"\"Add bias unit (column or row of 1s) to array at index 0\"\"\"\n",
    "        if how == 'column':\n",
    "            ones = np.ones((X.shape[0], 1))\n",
    "            X_new = np.hstack((ones, X))\n",
    "        elif how == 'row':\n",
    "            ones = np.ones((1, X.shape[1]))\n",
    "            X_new = np.vstack((ones, X))\n",
    "        return X_new\n",
    "    \n",
    "    def _L2_reg(self, lambda_):\n",
    "        \"\"\"Compute L2-regularization cost\"\"\"\n",
    "        # only compute for non-bias terms    \n",
    "        s = 0\n",
    "        for w in self.weights:\n",
    "            s += np.mean(w[:, 1:] **2)\n",
    "        return (lambda_/len(self.weights)) * np.sqrt(s)\n",
    "    \n",
    "    def _cost(self,A,Y_enc):\n",
    "        '''Get the objective function value'''\n",
    "        cost = np.mean((Y_enc-A[-1])**2)\n",
    "        L2_term = self._L2_reg(self.l2_C)\n",
    "        return cost + L2_term"
   ]
  },
  {
   "cell_type": "code",
   "execution_count": 19,
   "metadata": {},
   "outputs": [
    {
     "data": {
      "text/plain": [
       "0.000362642335743252"
      ]
     },
     "execution_count": 19,
     "metadata": {},
     "output_type": "execute_result"
    }
   ],
   "source": [
    "m = MultiLayerPerceptronBase()\n",
    "m._initialize_weights()\n",
    "m._L2_reg(0.001)"
   ]
  },
  {
   "cell_type": "code",
   "execution_count": 20,
   "metadata": {},
   "outputs": [],
   "source": [
    "class MultiLayerPerceptron(MultiLayerPerceptronBase):\n",
    "    def _feedforward(self, X):\n",
    "        Z = []\n",
    "        A = []\n",
    "        x = X.copy()\n",
    "        for idx, w in enumerate(self.weights):\n",
    "            if idx != 0:\n",
    "                a_l = self._sigmoid(Z[-1])\n",
    "                a_l = self._add_bias_unit(a_l, how = \"row\")\n",
    "            else:\n",
    "                a_l = self._add_bias_unit(x.T, how=\"row\")\n",
    "            A.append(a_l)\n",
    "            z_l = w @ a_l\n",
    "            Z.append(z_l)\n",
    "        a_l = self._sigmoid(Z[-1])\n",
    "        A.append(a_l)\n",
    "        return A, Z\n",
    "    def _get_gradient(self, A, y_enc):\n",
    "        gradients = []\n",
    "        V = []\n",
    "        for idx in range(len(self.weights), 0, -1):\n",
    "            if idx == len(self.weights):\n",
    "                v_l = -2 * (y_enc - A[idx]) * A[idx]*(1-A[idx])\n",
    "                V.append(v_l)\n",
    "                grad = v_l @ A[idx-1].T\n",
    "                grad[:, 1:] += self.weights[idx-1][:, 1:] * self.l2_C\n",
    "                gradients.append(grad)\n",
    "            else:\n",
    "                v_l = A[idx]*(1-A[idx])*(self.weights[idx].T @ V[-1])\n",
    "                V.append(v_l)\n",
    "                grad = v_l[1:, :] @ A[idx-1].T\n",
    "                grad[:, 1:] += self.weights[idx-1][:, 1:] * self.l2_C\n",
    "                gradients.append(grad)\n",
    "        return list(reversed(gradients))\n",
    "    def predict(self, X):\n",
    "        A, _ = self._feedforward(X)\n",
    "        y_pred = np.argmax(A[-1], axis=0)\n",
    "        return y_pred\n",
    "    def fit(self, X, y, print_progress = False):\n",
    "        X_data, y_data = X.copy(), y.copy()\n",
    "        Y_enc = self._encode_labels(y)\n",
    "        \n",
    "        #init weights and set up matrices\n",
    "        self._initialize_weights()\n",
    "        \n",
    "        self.cost = []\n",
    "        for i in range(self.epochs):\n",
    "            if print_progress>0 and (i+1)%print_progress==0:\n",
    "                sys.stderr.write('\\rEpoch: %d/%d' % (i+1, self.epochs))\n",
    "                sys.stderr.flush()\n",
    "                \n",
    "            A, Z = self._feedforward(X)\n",
    "            \n",
    "            cost = self._cost(A[-1], Y_enc)\n",
    "            self.cost.append(cost)\n",
    "            \n",
    "            grads = self._get_gradient(A, Y_enc)\n",
    "            \n",
    "            for w, g in zip(self.weights, grads):\n",
    "                w -= self.eta * g\n",
    "        return self"
   ]
  },
  {
   "cell_type": "code",
   "execution_count": 21,
   "metadata": {},
   "outputs": [
    {
     "name": "stdout",
     "output_type": "stream",
     "text": [
      "(3, 21)\n",
      "(3, 4)\n",
      "[[-1.10244599e-01  1.20185833e-01 -9.35193714e-02 -2.46156541e-02\n",
      "  -1.99889260e-01 -3.99714752e-01 -6.98823309e-01 -7.92590114e-01\n",
      "  -4.87584144e-01 -9.24314230e-01 -1.19675854e+00 -9.65515950e-01\n",
      "  -9.63580245e-01 -1.61090726e+00 -1.39528874e+00 -1.38948680e+00\n",
      "  -1.41368767e+00 -1.98025148e+00 -1.61953668e+00 -2.09991408e+00\n",
      "  -2.36254424e+00]\n",
      " [-1.18169353e-14 -1.56049765e-01 -2.19151350e-01  1.46354870e-01\n",
      "  -2.45986031e-01  2.70835831e-01  9.75544761e-02 -2.76065812e-01\n",
      "   2.47944683e-01  9.37725133e-02  5.80023126e-02  2.71068073e-01\n",
      "   1.64469772e-01  1.61221470e-02 -1.82681119e-01  1.22739072e-01\n",
      "  -2.75690154e-02 -9.37155375e-02  9.05175482e-02  2.74490808e-01\n",
      "  -7.25047337e-02]\n",
      " [ 9.15055305e-06 -4.78439661e-02 -1.28069207e-01  3.76824022e-02\n",
      "   2.58709564e-01 -2.36193271e-01 -2.07701603e-02  4.60424513e-04\n",
      "  -3.34173679e-02  2.55090101e-01 -2.32241755e-01 -2.02157122e-01\n",
      "   2.28312102e-01  2.81892475e-01  6.78041512e-02 -9.59891901e-02\n",
      "   1.74454894e-01  1.30835593e-01 -2.62852339e-01 -1.19645141e-01\n",
      "  -2.34849950e-01]]\n",
      "[[-0.29365763 -0.00965398 -0.45264936  0.01827945]\n",
      " [-0.64228896 -0.01420559 -0.47913639 -0.00984688]\n",
      " [-1.12122329 -0.52783449 -1.06516868 -0.24579741]]\n",
      "(3, 21)\n",
      "(3, 4)\n"
     ]
    }
   ],
   "source": [
    "m = MultiLayerPerceptron()\n",
    "m._initialize_weights()\n",
    "for w in m.weights:\n",
    "    print(w.shape)\n",
    "A, Z = m._feedforward(np.arange(20).reshape(1, -1))\n",
    "y_enc = np.array([1,2,3]).reshape(-1,1)\n",
    "grads = m._get_gradient(A, y_enc)\n",
    "print(grads[0])\n",
    "print(grads[1])\n",
    "for g in grads:\n",
    "    print(g.shape)"
   ]
  },
  {
   "cell_type": "code",
   "execution_count": 22,
   "metadata": {},
   "outputs": [
    {
     "name": "stdout",
     "output_type": "stream",
     "text": [
      "(1797, 64)\n",
      "(1797,)\n",
      "-0.5 0.5\n",
      "[0 1 2 3 4 5 6 7 8 9]\n"
     ]
    }
   ],
   "source": [
    "\n",
    "\n",
    "# lets load up the handwritten digit dataset\n",
    "from sklearn.datasets import load_digits\n",
    "from sklearn.metrics import accuracy_score\n",
    "from sklearn.preprocessing import StandardScaler\n",
    "import numpy as np\n",
    "\n",
    "ds = load_digits()\n",
    "X = ds.data/16.0-0.5\n",
    "y = ds.target\n",
    "\n",
    "print(X.shape)\n",
    "print(y.shape)\n",
    "print(np.min(X),np.max(X))\n",
    "print(np.unique(y))\n",
    "\n"
   ]
  },
  {
   "cell_type": "code",
   "execution_count": 23,
   "metadata": {},
   "outputs": [
    {
     "data": {
      "image/png": "[encoded data removed]",
      "text/plain": [
       "<Figure size 432x288 with 10 Axes>"
      ]
     },
     "metadata": {},
     "output_type": "display_data"
    }
   ],
   "source": [
    "\n",
    "\n",
    "import matplotlib.pyplot as plt\n",
    "%matplotlib inline\n",
    "\n",
    "fig, ax = plt.subplots(nrows=2, ncols=5, sharex=True, sharey=True,)\n",
    "ax = ax.flatten()\n",
    "for i in range(10):\n",
    "    img = X[y == i][0].reshape(8, 8)\n",
    "    ax[i].imshow(img, cmap='Greys', interpolation='nearest')\n",
    "\n",
    "ax[0].set_xticks([])\n",
    "ax[0].set_yticks([])\n",
    "plt.tight_layout()\n",
    "plt.show()\n",
    "\n"
   ]
  },
  {
   "cell_type": "code",
   "execution_count": 24,
   "metadata": {},
   "outputs": [
    {
     "data": {
      "image/png": "[encoded data removed]",
      "text/plain": [
       "<Figure size 432x288 with 25 Axes>"
      ]
     },
     "metadata": {},
     "output_type": "display_data"
    }
   ],
   "source": [
    "fig, ax = plt.subplots(nrows=5, ncols=5, sharex=True, sharey=True,)\n",
    "ax = ax.flatten()\n",
    "digit = 7\n",
    "x_digits = X[y == digit]\n",
    "for i in range(25):\n",
    "    img = x_digits[i].reshape(8, 8)\n",
    "    ax[i].imshow(img, cmap='Greys', interpolation='nearest')\n",
    "\n",
    "ax[0].set_xticks([])\n",
    "ax[0].set_yticks([])\n",
    "plt.tight_layout()\n",
    "plt.show()"
   ]
  },
  {
   "cell_type": "code",
   "execution_count": 25,
   "metadata": {},
   "outputs": [
    {
     "name": "stdout",
     "output_type": "stream",
     "text": [
      "(1437, 64)\n",
      "(1437,)\n",
      "(360, 64)\n",
      "(360,)\n"
     ]
    }
   ],
   "source": [
    "from sklearn.model_selection import train_test_split\n",
    "\n",
    "X_train, X_test, y_train, y_test = train_test_split(X,y,test_size = 0.2)\n",
    "print(X_train.shape)\n",
    "print(y_train.shape)\n",
    "print(X_test.shape)\n",
    "print(y_test.shape)"
   ]
  },
  {
   "cell_type": "code",
   "execution_count": 26,
   "metadata": {},
   "outputs": [
    {
     "name": "stdout",
     "output_type": "stream",
     "text": [
      "Test acc: 0.9666666666666667\n"
     ]
    }
   ],
   "source": [
    "import sys\n",
    "nn = MultiLayerPerceptron([64, 50, 10], 0.01, 500, 0.001, None)\n",
    "nn.fit(X_train, y_train, print_progress=False)\n",
    "yhat = nn.predict(X_test)\n",
    "print('Test acc:',accuracy_score(y_test,yhat))"
   ]
  },
  {
   "cell_type": "code",
   "execution_count": 27,
   "metadata": {},
   "outputs": [
    {
     "data": {
      "image/png": "[encoded data removed]",
      "text/plain": [
       "<Figure size 432x288 with 1 Axes>"
      ]
     },
     "metadata": {
      "needs_background": "light"
     },
     "output_type": "display_data"
    }
   ],
   "source": [
    "plt.plot(range(len(nn.cost)), nn.cost)\n",
    "plt.ylabel('Cost')\n",
    "plt.xlabel('Epochs')\n",
    "plt.tight_layout()\n",
    "plt.show()\n",
    "\n"
   ]
  },
  {
   "cell_type": "code",
   "execution_count": 11,
   "metadata": {},
   "outputs": [],
   "source": [
    "df = pd.read_csv('../pitches.csv')"
   ]
  },
  {
   "cell_type": "code",
   "execution_count": 12,
   "metadata": {},
   "outputs": [],
   "source": [
    "#drop unkown prediction classes and prediction classes with no definition from data source\n",
    "df.drop_duplicates(inplace=True)\n",
    "df = df[df.pitch_type != 'UN']\n",
    "df = df[df.pitch_type != 'FA']\n",
    "\n",
    "features = ['break_angle', 'break_length', 'end_speed', 'start_speed', 'spin_rate']\n",
    "#remove wild pitches or intentional walks as break length outliers. Code sourced from https://stackoverflow.com/questions/23199796/detect-and-exclude-outliers-in-pandas-data-frame\n",
    "for feature in features:\n",
    "    if feature != 'pitch_type':\n",
    "        df = df[np.abs(df[feature]-df[feature].mean()) <= (12*df[feature].std())]\n",
    "\n",
    "#drop data points where prediction class is unreliable\n",
    "df = df[df.type_confidence >= 1.0]\n",
    "\n",
    "#Drop any data with incomplete records\n",
    "df.dropna(inplace=True)"
   ]
  },
  {
   "cell_type": "code",
   "execution_count": 13,
   "metadata": {},
   "outputs": [
    {
     "name": "stderr",
     "output_type": "stream",
     "text": [
      "/home/rasimon/.local/lib/python3.6/site-packages/ipykernel_launcher.py:5: SettingWithCopyWarning: \n",
      "A value is trying to be set on a copy of a slice from a DataFrame.\n",
      "Try using .loc[row_indexer,col_indexer] = value instead\n",
      "\n",
      "See the caveats in the documentation: http://pandas.pydata.org/pandas-docs/stable/indexing.html#indexing-view-versus-copy\n",
      "  \"\"\"\n",
      "/home/rasimon/.local/lib/python3.6/site-packages/ipykernel_launcher.py:7: SettingWithCopyWarning: \n",
      "A value is trying to be set on a copy of a slice from a DataFrame.\n",
      "Try using .loc[row_indexer,col_indexer] = value instead\n",
      "\n",
      "See the caveats in the documentation: http://pandas.pydata.org/pandas-docs/stable/indexing.html#indexing-view-versus-copy\n",
      "  import sys\n",
      "/home/rasimon/.local/lib/python3.6/site-packages/ipykernel_launcher.py:9: SettingWithCopyWarning: \n",
      "A value is trying to be set on a copy of a slice from a DataFrame.\n",
      "Try using .loc[row_indexer,col_indexer] = value instead\n",
      "\n",
      "See the caveats in the documentation: http://pandas.pydata.org/pandas-docs/stable/indexing.html#indexing-view-versus-copy\n",
      "  if __name__ == '__main__':\n"
     ]
    }
   ],
   "source": [
    "#separate pitches based on prediction class for visualization\n",
    "# What might be a reasonable value for bounding break_length ? I picked 100.0\n",
    "df = df[df.break_length <= 100.0] \n",
    "fast_pitches_super_group = df[df.pitch_type.isin(['FC','FF','FS','FT','SI'])]\n",
    "fast_pitches_super_group['grouping'] = 'fast_ball'\n",
    "breaking_pitches_super_group = df[df.pitch_type.isin(['CU', 'KC', 'KN', 'SL', 'SC'])]\n",
    "breaking_pitches_super_group['grouping'] = 'breaking_ball'\n",
    "slow_pitches_super_group = df[df.pitch_type.isin(['CH','EP','FO','PO','IN'])]\n",
    "slow_pitches_super_group['grouping'] = 'slow_ball'\n",
    "visualization_frames = [fast_pitches_super_group, breaking_pitches_super_group, slow_pitches_super_group]\n",
    "result = pd.concat(visualization_frames)\n"
   ]
  },
  {
   "cell_type": "code",
   "execution_count": 14,
   "metadata": {},
   "outputs": [
    {
     "name": "stderr",
     "output_type": "stream",
     "text": [
      "/home/rasimon/.local/lib/python3.6/site-packages/ipykernel_launcher.py:4: SettingWithCopyWarning: \n",
      "A value is trying to be set on a copy of a slice from a DataFrame\n",
      "\n",
      "See the caveats in the documentation: http://pandas.pydata.org/pandas-docs/stable/indexing.html#indexing-view-versus-copy\n",
      "  after removing the cwd from sys.path.\n",
      "/home/rasimon/.local/lib/python3.6/site-packages/ipykernel_launcher.py:5: SettingWithCopyWarning: \n",
      "A value is trying to be set on a copy of a slice from a DataFrame\n",
      "\n",
      "See the caveats in the documentation: http://pandas.pydata.org/pandas-docs/stable/indexing.html#indexing-view-versus-copy\n",
      "  \"\"\"\n",
      "/home/rasimon/.local/lib/python3.6/site-packages/ipykernel_launcher.py:6: SettingWithCopyWarning: \n",
      "A value is trying to be set on a copy of a slice from a DataFrame\n",
      "\n",
      "See the caveats in the documentation: http://pandas.pydata.org/pandas-docs/stable/indexing.html#indexing-view-versus-copy\n",
      "  \n"
     ]
    }
   ],
   "source": [
    "X = result[features]\n",
    "y = result['grouping']\n",
    "\n",
    "y[y=='slow_ball'] = 0\n",
    "y[y == 'fast_ball'] = 1\n",
    "y[y== 'breaking_ball'] = 2\n",
    "\n",
    "X = X.values\n",
    "y = y.values.astype(np.int)\n"
   ]
  },
  {
   "cell_type": "code",
   "execution_count": 15,
   "metadata": {},
   "outputs": [],
   "source": [
    "X_train, X_test, y_train, y_test = train_test_split(X,y,test_size = 0.4)"
   ]
  },
  {
   "cell_type": "code",
   "execution_count": 16,
   "metadata": {},
   "outputs": [
    {
     "name": "stdout",
     "output_type": "stream",
     "text": [
      "Test acc: 0.10432203587642823\n"
     ]
    }
   ],
   "source": [
    "import sys\n",
    "nn = MultiLayerPerceptron([X_train.shape[1], 50, 3], 0.1, 5, 0.001, None)\n",
    "nn.fit(X_train, y_train, print_progress=False)\n",
    "yhat = nn.predict(X_test)\n",
    "print('Test acc:', accuracy_score(y_test,yhat))"
   ]
  },
  {
   "cell_type": "code",
   "execution_count": 17,
   "metadata": {},
   "outputs": [
    {
     "data": {
      "image/png": "[encoded data removed]",
      "text/plain": [
       "<Figure size 432x288 with 1 Axes>"
      ]
     },
     "metadata": {
      "needs_background": "light"
     },
     "output_type": "display_data"
    }
   ],
   "source": [
    "plt.plot(range(len(nn.cost)), nn.cost)\n",
    "plt.ylabel('Cost')\n",
    "plt.xlabel('Epochs')\n",
    "plt.tight_layout()\n",
    "plt.show()"
   ]
  },
  {
   "cell_type": "code",
   "execution_count": null,
   "metadata": {},
   "outputs": [],
   "source": []
  }
 ],
 "metadata": {
  "kernelspec": {
   "display_name": "Python 3",
   "language": "python",
   "name": "python3"
  },
  "language_info": {
   "codemirror_mode": {
    "name": "ipython",
    "version": 3
   },
   "file_extension": ".py",
   "mimetype": "text/x-python",
   "name": "python",
   "nbconvert_exporter": "python",
   "pygments_lexer": "ipython3",
   "version": "3.6.7"
  }
 },
 "nbformat": 4,
 "nbformat_minor": 2
}
