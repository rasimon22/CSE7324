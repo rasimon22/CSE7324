{
 "cells": [
  {
   "cell_type": "code",
   "execution_count": 157,
   "metadata": {},
   "outputs": [],
   "source": [
    "import numpy as np\n",
    "import pandas as pd\n",
    "from scipy.special import expit\n",
    "\n",
    "class MultiLayerPerceptronBase(object):\n",
    "    def __init__(self, layer_widths=[20,3,3],\n",
    "                 C=0.3, epochs=5000, eta=0.0001, random_state=None):\n",
    "        np.random.seed(random_state)\n",
    "        self.l2_C = C\n",
    "        self.epochs = epochs\n",
    "        self.eta = eta\n",
    "        self.weights = []\n",
    "        self.layer_widths=layer_widths\n",
    "        \n",
    "    @staticmethod\n",
    "    def _encode_labels(y):\n",
    "        \"\"\"Encode labels into one-hot representation\"\"\"\n",
    "        onehot = pd.get_dummies(y).values.T\n",
    "        return onehot\n",
    "\n",
    "    def _initialize_weights(self):\n",
    "        \"\"\"Initialize weights with small random numbers.\"\"\"\n",
    "        \n",
    "        for idx, w in enumerate(self.layer_widths[:-1]):\n",
    "            W_element_count = ((w + 1) * self.layer_widths[idx+1])\n",
    "            W = np.random.uniform(-1,1, size = W_element_count)\n",
    "            W.reshape((self.layer_widths[idx+1], -1))\n",
    "            self.weights.append(W.reshape((self.layer_widths[idx+1], -1)))    \n",
    "#         for w in self.weights:\n",
    "#             print(w.shape)\n",
    "    @staticmethod\n",
    "    def _sigmoid(z):\n",
    "        \"\"\"Use scipy.special.expit to avoid overflow\"\"\"\n",
    "        # 1.0 / (1.0 + np.exp(-z))\n",
    "        return expit(z)\n",
    "    \n",
    "    def _derive_activations(self, a, w, v, t=\"sigmoid\"):\n",
    "        if t == \"sigmoid\": \n",
    "#             print(a.shape, w.shape, v.shape)\n",
    "            return (a*(1-a) * (w[:,1:].T @ v[1:,:]))\n",
    "    \n",
    "    def _derive_objective(self, y, a, t=\"mse\"):\n",
    "        if t == \"mse\":\n",
    "            return -2*(y-a)*a*(1-a)\n",
    "    \n",
    "    @staticmethod\n",
    "    def _add_bias_unit(X, how='column'):\n",
    "        \"\"\"Add bias unit (column or row of 1s) to array at index 0\"\"\"\n",
    "        if how == 'column':\n",
    "            ones = np.ones((X.shape[0], 1))\n",
    "            X_new = np.hstack((ones, X))\n",
    "        elif how == 'row':\n",
    "            ones = np.ones((1, X.shape[1]))\n",
    "            X_new = np.vstack((ones, X))\n",
    "        return X_new\n",
    "    \n",
    "    def _L2_reg(self, lambda_):\n",
    "        \"\"\"Compute L2-regularization cost\"\"\"\n",
    "        # only compute for non-bias terms    \n",
    "        s = 0\n",
    "        for w in self.weights:\n",
    "            s += np.mean(w[:, 1:] **2)\n",
    "        return (lambda_/len(self.weights)) * np.sqrt(s)\n",
    "    \n",
    "    def _cost(self,A,Y_enc):\n",
    "        '''Get the objective function value'''\n",
    "        cost = np.mean((Y_enc-A[-1])**2)\n",
    "        L2_term = self._L2_reg(self.l2_C)\n",
    "        return cost + L2_term"
   ]
  },
  {
   "cell_type": "code",
   "execution_count": 158,
   "metadata": {},
   "outputs": [
    {
     "data": {
      "text/plain": [
       "0.00044604379750319936"
      ]
     },
     "execution_count": 158,
     "metadata": {},
     "output_type": "execute_result"
    }
   ],
   "source": [
    "m = MultiLayerPerceptronBase()\n",
    "m._initialize_weights()\n",
    "m._L2_reg(0.001)"
   ]
  },
  {
   "cell_type": "code",
   "execution_count": 203,
   "metadata": {},
   "outputs": [],
   "source": [
    "class MultiLayerPerceptron(MultiLayerPerceptronBase):\n",
    "    def _feedforward(self, X):\n",
    "        Z = []\n",
    "        A = []\n",
    "        x = X.copy()\n",
    "        for idx, w in enumerate(self.weights):\n",
    "            if idx != 0:\n",
    "                a_l = self._sigmoid(Z[-1])\n",
    "                a_l = self._add_bias_unit(a_l, how = \"row\")\n",
    "            else:\n",
    "                a_l = self._add_bias_unit(x.T, how=\"row\")\n",
    "            A.append(a_l)\n",
    "            z_l = w @ a_l\n",
    "            Z.append(z_l)\n",
    "        a_l = self._sigmoid(Z[-1])\n",
    "        A.append(a_l)\n",
    "        return A, Z\n",
    "    def _get_gradient(self, A, y_enc):\n",
    "        gradients = []\n",
    "        V = []\n",
    "        for idx in range(len(self.weights), 0, -1):\n",
    "            if idx == len(self.weights):\n",
    "                v_l = -2 * (y_enc - A[idx]) * A[idx]*(1-A[idx])\n",
    "                V.append(v_l)\n",
    "                grad = v_l @ A[idx-1].T\n",
    "                grad[:, 1:] += self.weights[idx-1][:, 1:] * self.l2_C\n",
    "                gradients.append(grad)\n",
    "            else:\n",
    "                v_l = A[idx]*(1-A[idx])*(self.weights[idx].T @ V[-1])\n",
    "                V.append(v_l)\n",
    "                grad = v_l[1:, :] @ A[idx-1].T\n",
    "                grad[:, 1:] += self.weights[idx-1][:, 1:] * self.l2_C\n",
    "                gradients.append(grad)\n",
    "        return list(reversed(gradients))\n",
    "    def predict(self, X):\n",
    "        A, _ = self._feedforward(X)\n",
    "        y_pred = np.argmax(A[-1], axis=0)\n",
    "        return y_pred\n",
    "    def fit(self, X, y, print_progress = False):\n",
    "        X_data, y_data = X.copy(), y.copy()\n",
    "        Y_enc = self._encode_labels(y)\n",
    "        \n",
    "        #init weights and set up matrices\n",
    "        self._initialize_weights()\n",
    "        \n",
    "        self.cost = []\n",
    "        for i in range(self.epochs):\n",
    "            if print_progress>0 and (i+1)%print_progress==0:\n",
    "                sys.stderr.write('\\rEpoch: %d/%d' % (i+1, self.epochs))\n",
    "                sys.stderr.flush()\n",
    "                \n",
    "            A, Z = self._feedforward(X)\n",
    "            \n",
    "            cost = self._cost(A[-1], Y_enc)\n",
    "            self.cost.append(cost)\n",
    "            \n",
    "            grads = self._get_gradient(A, Y_enc)\n",
    "            \n",
    "            for w, g in zip(self.weights, grads):\n",
    "                w -= self.eta * g\n",
    "        return self"
   ]
  },
  {
   "cell_type": "code",
   "execution_count": 204,
   "metadata": {},
   "outputs": [
    {
     "name": "stdout",
     "output_type": "stream",
     "text": [
      "(3, 21)\n",
      "(3, 4)\n",
      "[[ 3.76377712e-11  6.49716897e-02  8.45116116e-02  2.25812942e-01\n",
      "   1.38034082e-02 -2.20096679e-01  1.28673465e-02  1.64846484e-01\n",
      "   1.90977220e-01 -5.73405472e-02  2.61404961e-01  9.71831346e-02\n",
      "  -8.05322136e-02 -9.01518176e-03  1.75484648e-01 -2.65012514e-01\n",
      "   1.96513148e-02 -1.24407414e-02 -1.23685217e-01 -9.41022149e-02\n",
      "  -2.92625191e-01]\n",
      " [ 3.71089925e-16 -6.03078065e-02  1.95111398e-01 -2.56875696e-01\n",
      "   2.98962722e-01 -1.05493992e-01 -1.24229281e-01 -2.57860310e-01\n",
      "  -1.94875616e-01 -1.21247403e-01  2.82309965e-01  1.56752202e-01\n",
      "  -7.27486766e-02  2.65250264e-01  3.62866720e-02  1.58597834e-01\n",
      "  -3.07182768e-02 -8.76030126e-02  2.25636530e-02  1.42492837e-01\n",
      "   2.49056750e-01]\n",
      " [-1.13612028e-01  4.41648006e-02  1.61459427e-01 -1.08056034e-01\n",
      "  -5.58257897e-01 -2.35348095e-01 -3.51590393e-01 -5.64082960e-01\n",
      "  -8.70428462e-01 -8.96797820e-01 -1.10864622e+00 -9.15845169e-01\n",
      "  -1.15963236e+00 -1.51480892e+00 -1.71292575e+00 -1.70928037e+00\n",
      "  -1.49893091e+00 -1.99342468e+00 -1.93565381e+00 -2.19807550e+00\n",
      "  -1.95347336e+00]]\n",
      "[[-0.17866376  0.14725784 -0.27272082 -0.16588487]\n",
      " [-0.7416396   0.26686734 -0.68322818  0.05673927]\n",
      " [-1.21519916 -0.29994591 -1.44331132 -0.11568821]]\n",
      "(3, 21)\n",
      "(3, 4)\n"
     ]
    }
   ],
   "source": [
    "m = MultiLayerPerceptron()\n",
    "m._initialize_weights()\n",
    "for w in m.weights:\n",
    "    print(w.shape)\n",
    "A, Z = m._feedforward(np.arange(20).reshape(1, -1))\n",
    "y_enc = np.array([1,2,3]).reshape(-1,1)\n",
    "grads = m._get_gradient(A, y_enc)\n",
    "print(grads[0])\n",
    "print(grads[1])\n",
    "for g in grads:\n",
    "    print(g.shape)"
   ]
  },
  {
   "cell_type": "code",
   "execution_count": 205,
   "metadata": {},
   "outputs": [
    {
     "name": "stdout",
     "output_type": "stream",
     "text": [
      "(1797, 64)\n",
      "(1797,)\n",
      "-0.5 0.5\n",
      "[0 1 2 3 4 5 6 7 8 9]\n"
     ]
    }
   ],
   "source": [
    "\n",
    "\n",
    "# lets load up the handwritten digit dataset\n",
    "from sklearn.datasets import load_digits\n",
    "from sklearn.metrics import accuracy_score\n",
    "from sklearn.preprocessing import StandardScaler\n",
    "import numpy as np\n",
    "\n",
    "ds = load_digits()\n",
    "X = ds.data/16.0-0.5\n",
    "y = ds.target\n",
    "\n",
    "print(X.shape)\n",
    "print(y.shape)\n",
    "print(np.min(X),np.max(X))\n",
    "print(np.unique(y))\n",
    "\n"
   ]
  },
  {
   "cell_type": "code",
   "execution_count": 206,
   "metadata": {},
   "outputs": [
    {
     "data": {
      "image/png": "[encoded data removed]",
      "text/plain": [
       "<Figure size 432x288 with 10 Axes>"
      ]
     },
     "metadata": {},
     "output_type": "display_data"
    }
   ],
   "source": [
    "\n",
    "\n",
    "import matplotlib.pyplot as plt\n",
    "%matplotlib inline\n",
    "\n",
    "fig, ax = plt.subplots(nrows=2, ncols=5, sharex=True, sharey=True,)\n",
    "ax = ax.flatten()\n",
    "for i in range(10):\n",
    "    img = X[y == i][0].reshape(8, 8)\n",
    "    ax[i].imshow(img, cmap='Greys', interpolation='nearest')\n",
    "\n",
    "ax[0].set_xticks([])\n",
    "ax[0].set_yticks([])\n",
    "plt.tight_layout()\n",
    "plt.show()\n",
    "\n"
   ]
  },
  {
   "cell_type": "code",
   "execution_count": 207,
   "metadata": {},
   "outputs": [
    {
     "data": {
      "image/png": "[encoded data removed]",
      "text/plain": [
       "<Figure size 432x288 with 25 Axes>"
      ]
     },
     "metadata": {},
     "output_type": "display_data"
    }
   ],
   "source": [
    "fig, ax = plt.subplots(nrows=5, ncols=5, sharex=True, sharey=True,)\n",
    "ax = ax.flatten()\n",
    "digit = 7\n",
    "x_digits = X[y == digit]\n",
    "for i in range(25):\n",
    "    img = x_digits[i].reshape(8, 8)\n",
    "    ax[i].imshow(img, cmap='Greys', interpolation='nearest')\n",
    "\n",
    "ax[0].set_xticks([])\n",
    "ax[0].set_yticks([])\n",
    "plt.tight_layout()\n",
    "plt.show()"
   ]
  },
  {
   "cell_type": "code",
   "execution_count": 208,
   "metadata": {},
   "outputs": [
    {
     "name": "stdout",
     "output_type": "stream",
     "text": [
      "(1437, 64)\n",
      "(1437,)\n",
      "(360, 64)\n",
      "(360,)\n"
     ]
    }
   ],
   "source": [
    "from sklearn.model_selection import train_test_split\n",
    "\n",
    "X_train, X_test, y_train, y_test = train_test_split(X,y,test_size = 0.2)\n",
    "print(X_train.shape)\n",
    "print(y_train.shape)\n",
    "print(X_test.shape)\n",
    "print(y_test.shape)"
   ]
  },
  {
   "cell_type": "code",
   "execution_count": 217,
   "metadata": {},
   "outputs": [
    {
     "name": "stdout",
     "output_type": "stream",
     "text": [
      "Test acc: 0.9638888888888889\n"
     ]
    }
   ],
   "source": [
    "import sys\n",
    "nn = MultiLayerPerceptron([64, 50, 10], 0.1, 500, 0.001, None)\n",
    "nn.fit(X_train, y_train, print_progress=False)\n",
    "yhat = nn.predict(X_test)\n",
    "print('Test acc:',accuracy_score(y_test,yhat))"
   ]
  },
  {
   "cell_type": "code",
   "execution_count": 201,
   "metadata": {},
   "outputs": [
    {
     "data": {
      "image/png": "[encoded data removed]",
      "text/plain": [
       "<Figure size 432x288 with 1 Axes>"
      ]
     },
     "metadata": {
      "needs_background": "light"
     },
     "output_type": "display_data"
    }
   ],
   "source": [
    "plt.plot(range(len(nn.cost)), nn.cost)\n",
    "plt.ylabel('Cost')\n",
    "plt.xlabel('Epochs')\n",
    "plt.tight_layout()\n",
    "plt.show()\n",
    "\n"
   ]
  },
  {
   "cell_type": "code",
   "execution_count": null,
   "metadata": {},
   "outputs": [],
   "source": []
  },
  {
   "cell_type": "code",
   "execution_count": null,
   "metadata": {},
   "outputs": [],
   "source": []
  }
 ],
 "metadata": {
  "kernelspec": {
   "display_name": "Python 3",
   "language": "python",
   "name": "python3"
  },
  "language_info": {
   "codemirror_mode": {
    "name": "ipython",
    "version": 3
   },
   "file_extension": ".py",
   "mimetype": "text/x-python",
   "name": "python",
   "nbconvert_exporter": "python",
   "pygments_lexer": "ipython3",
   "version": "3.6.7"
  }
 },
 "nbformat": 4,
 "nbformat_minor": 2
}
