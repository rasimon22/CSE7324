{
 "cells": [
  {
   "cell_type": "markdown",
   "metadata": {},
   "source": [
    "<h1>Preparation and Overview</h1>\n",
    "<h2>Preparation</h2>\n",
    "The data preparation procedure we chose for this lab is similar to that of lab 1. We began with a mostly complete dataset, which has many features which are unnecessary for the classification task. We took the following steps to clean the data and prepare it for our use case: <br>\n",
    "1. We first got rid of duplicate rows. We can reliably do this without a unique identifier because there are sufficiently many features to confidently say that exact duplicates of data are most likely a duplicate entry.<br>\n",
    "2. We then removed any data with an unknown prediction class, whether the unknown class is due to the pitch being unidentifiable, or because the overview does not contain the translation from abreviated label to actual prediction class.<br>\n",
    "3. Next, we removed outlier in the data. While this is not an exact science, we believe that the heuristic we used sufficiently cleans outliers out of the data without compromising the integrity of the data.<br>\n",
    "4. Finally, we removed any data points where the ground truth cannot be 100% trusted. Our dataset included a measure of confidence in the label assigned to each data point. We removed any data points where the confidence was below a threshold of 1 (out of 2).<br>\n",
    "<h2>Overview</h2>\n",
    "This data is an interesting, yet unsurprising find. Baseball is one of the most statistics-driven professional sports in the world. Nearly every happening on the field is quantified and logged for further analysis. This logging is useful for both the clubs competing in a match, and also to the entities responsible for the broadcasts. Effortless data analytics can enhance a broadcast and help enhance the viewer's understanding of the game.<br>\n",
    "With some preprocessing, broadcast networks can turn real-time images from the contest into data that a machine learning model can use to predict what sort of pitch was thrown. This information is useful for 2 main reasons. A casual fan trying to have a deeper understanding of the game can follow along more easily with a real-time indication of what's happening at a high level of the game. In kind, broadcasters and clubs can use this data to better understand trends in the opposition and their own clubs alike. While it is possible for a human to do this tedious work, automating it will cut down on mistakes, and allow real-time display, or real-time data analytics."
   ]
  },
  {
   "cell_type": "markdown",
   "metadata": {},
   "source": [
    "<h2>Class Variables</h2>\n",
    "\n",
    "The dataset consists of 39 attributes and 15 prediction classes describing the information of the pitch thrown. Of these 39 attributes, we have chosen 5 attributes that are most likely candidates to use for the classification task. These are:\n",
    "\n",
    "1. Break length - Float\n",
    "2. Break angle - Float\n",
    "3. Start Speed - Float\n",
    "4. End Speed and - Float\n",
    "5. Spin rate - Float\n",
    "\n",
    "The prediction class is represented as a string object denoting the type of pitch - in classification we will turn this data into a series of binary one-vs-all data. <br>\n",
    "We took a hierarchical approach towards the classification problem by clustering the prediction classes into three super classes, namely:\n",
    "\n",
    "1. Fast pitches (FC – Cutter, FF – Four Seam Fastball, FS – Splitter, FT – Two Seam Fastball,SI – Sinker)\n",
    "2. Breaking Balls ( CU – Curveball, KC – Knuckle Curve, KN – Knuckleball, SL – Slider, SC - Screwball)\n",
    "3. Slow Pitches ( CH – Changeup, EP – Eephus, FO – Pitchout, PO – Pitchout, IN – Intentional Ball )"
   ]
  },
  {
   "cell_type": "code",
   "execution_count": 1,
   "metadata": {},
   "outputs": [],
   "source": [
    "import numpy as np\n",
    "import pandas as pd\n",
    "from scipy.special import expit\n",
    "\n",
    "class MultiLayerPerceptronBase(object):\n",
    "    def __init__(self, layer_widths=[20,3,3],\n",
    "                 C=0.3, epochs=5000, eta=0.0001, random_state=None, activations=\"sigmoid\",\n",
    "                 objective=\"mse\"):\n",
    "        np.random.seed(random_state)\n",
    "        self.l2_C = C\n",
    "        self.epochs = epochs\n",
    "        self.eta = eta\n",
    "        self.weights = []\n",
    "        self.layer_widths=layer_widths\n",
    "        self.activations=activations\n",
    "        self.objective=objective\n",
    "        self.activation_function = getattr(self, self.activations)\n",
    "        \n",
    "    @staticmethod\n",
    "    def _encode_labels(y):\n",
    "        \"\"\"Encode labels into one-hot representation\"\"\"\n",
    "        onehot = pd.get_dummies(y).values.T\n",
    "        return onehot\n",
    "\n",
    "    def _initialize_weights(self):\n",
    "        \"\"\"Initialize weights with small random numbers.\"\"\"\n",
    "\n",
    "        for idx, w in enumerate(self.layer_widths[:-1]):\n",
    "            W_element_count = ((w + 1) * self.layer_widths[idx+1])\n",
    "            W = np.random.uniform(-1,1, size = W_element_count)\n",
    "            W.reshape((self.layer_widths[idx+1], -1))\n",
    "            self.weights.append(W.reshape((self.layer_widths[idx+1], -1))) \n",
    "\n",
    "        # For Relu\n",
    "        # https://github.com/eclarson/MachineLearningNotebooks/blob/master/08.%20Practical_NeuralNets.ipynb\n",
    "        # Line 19\n",
    "#         w = self.weights[0]\n",
    "#         init_bound = np.sqrt(6. / (w.shape[0]*w.shape[1]))\n",
    "#         w_0 = np.random.uniform(-init_bound, init_bound, size = w.shape)\n",
    "#         w = w_0\n",
    "#         w[:,:1] = 0\n",
    "#         self.weights[0] = w\n",
    "\n",
    "#         w = self.weights[-1]\n",
    "#         init_bound = np.sqrt(0.5 / (w.shape[0]*w.shape[1]))\n",
    "#         w_last = np.random.uniform(-init_bound, init_bound, size = w.shape)\n",
    "#         w = w_last\n",
    "#         w[:,:1] = 0\n",
    "#         self.weights[-1] = w\n",
    "#         for w in self.weights:\n",
    "#              print(w.shape)\n",
    "            \n",
    "    @staticmethod\n",
    "    def sigmoid(z):\n",
    "        \"\"\"Use scipy.special.expit to avoid overflow\"\"\"\n",
    "        # 1.0 / (1.0 + np.exp(-z))\n",
    "        return expit(z)\n",
    "    \n",
    "    @staticmethod\n",
    "    def relu(z):\n",
    "        temp = np.maximum(0,z.copy())\n",
    "        return temp  \n",
    "    \n",
    "    \n",
    "    def silu(self,a):\n",
    "        temp = a.copy()\n",
    "        return (a*self.sigmoid(a)) \n",
    "    \n",
    "    def _derive_activations(self, a, w, v, t=\"sigmoid\"):\n",
    "\n",
    "        if t == \"sigmoid\": \n",
    "            return (a*(1-a) * (w.T @ v))\n",
    "\n",
    "        if t == \"relu\": \n",
    "\n",
    "            temp = a.copy()\n",
    "            temp[temp<=0] = 0\n",
    "            temp[temp>0] = 1\n",
    "\n",
    "            return (temp*(w.T @ v))\n",
    "    \n",
    "        if t == \"silu\": \n",
    "            return (a + self.sigmoid(a)*(1-a)) * (w.T @ v)\n",
    "\n",
    "    \n",
    "    def _derive_objective(self, y, a, t=\"mse\"):\n",
    "        if t == \"mse\":\n",
    "            return -2*(y-a)*a*(1-a)\n",
    "    \n",
    "    @staticmethod\n",
    "    def _add_bias_unit(X, how='column'):\n",
    "        \"\"\"Add bias unit (column or row of 1s) to array at index 0\"\"\"\n",
    "        if how == 'column':\n",
    "            ones = np.ones((X.shape[0], 1))\n",
    "            X_new = np.hstack((ones, X))\n",
    "        elif how == 'row':\n",
    "            ones = np.ones((1, X.shape[1]))\n",
    "            X_new = np.vstack((ones, X))\n",
    "        return X_new\n",
    "    \n",
    "    def _L2_reg(self, lambda_):\n",
    "        \"\"\"Compute L2-regularization cost\"\"\"\n",
    "        # only compute for non-bias terms    \n",
    "        s = 0\n",
    "        for w in self.weights:\n",
    "            s += np.mean(w[:, 1:] **2)\n",
    "        return (lambda_/len(self.weights)) * np.sqrt(s)\n",
    "    \n",
    "    def _cost(self,A,Y_enc):\n",
    "        '''Get the objective function value'''\n",
    "        cost = np.mean((Y_enc-A[-1])**2)\n",
    "        L2_term = self._L2_reg(self.l2_C)\n",
    "        return cost + L2_term"
   ]
  },
  {
   "cell_type": "code",
   "execution_count": 2,
   "metadata": {},
   "outputs": [],
   "source": [
    "class MultiLayerPerceptron(MultiLayerPerceptronBase):\n",
    "    def _feedforward(self, X):\n",
    "        Z = []\n",
    "        A = []\n",
    "        x = X.copy()\n",
    "        for idx, w in enumerate(self.weights):\n",
    "            if idx != 0:\n",
    "                a_l = self.activation_function(Z[-1])\n",
    "                a_l = self._add_bias_unit(a_l, how = \"row\")\n",
    "            else:\n",
    "                a_l = self._add_bias_unit(x.T, how=\"row\")\n",
    "            A.append(a_l)\n",
    "            z_l = w @ a_l\n",
    "            Z.append(z_l)\n",
    "        a_l = self.sigmoid(Z[-1])\n",
    "        A.append(a_l)\n",
    "        return A, Z\n",
    "    \n",
    "    def _get_gradient(self, A, y_enc):\n",
    "        gradients = []\n",
    "        V = []\n",
    "        for idx in range(len(self.weights), 0, -1):\n",
    "            if idx == len(self.weights):\n",
    "#                 v_l = -2 * (y_enc - A[idx]) * A[idx]*(1-A[idx])\n",
    "                v_l = self._derive_objective(y_enc, A[idx], self.objective)\n",
    "                V.append(v_l)\n",
    "                \n",
    "                grad = v_l @ A[idx-1].T\n",
    "                grad[:, 1:] += self.weights[idx-1][:, 1:] * self.l2_C\n",
    "                gradients.append(grad)\n",
    "            else:\n",
    "                v_l = A[idx]*(1-A[idx])*(self.weights[idx].T @ V[-1])\n",
    "                v_l = self._derive_activations(A[idx], self.weights[idx],\n",
    "                                               V[-1], self.activations)\n",
    "                V.append(v_l[1:, :])\n",
    "                \n",
    "                grad = v_l[1:, :] @ A[idx-1].T\n",
    "                \n",
    "                grad[:, 1:] += self.weights[idx-1][:, 1:] * self.l2_C\n",
    "                gradients.append(grad)\n",
    "        return list(reversed(gradients))\n",
    "    \n",
    "    def predict(self, X):\n",
    "        A, _ = self._feedforward(X)\n",
    "        y_pred = np.argmax(A[-1], axis=0)\n",
    "        return y_pred\n",
    "    def fit(self, X, y, print_progress = False):\n",
    "        X_data, y_data = X.copy(), y.copy()\n",
    "        Y_enc = self._encode_labels(y)\n",
    "        \n",
    "        #init weights and set up matrices\n",
    "        self._initialize_weights()\n",
    "        \n",
    "        self.cost = []\n",
    "        for i in range(self.epochs):\n",
    "            if print_progress>0 and (i+1)%print_progress==0:\n",
    "                sys.stderr.write('\\rEpoch: %d/%d' % (i+1, self.epochs))\n",
    "                sys.stderr.flush()\n",
    "                \n",
    "            A, Z = self._feedforward(X)\n",
    "            \n",
    "            cost = self._cost(A[-1], Y_enc)\n",
    "            self.cost.append(cost)\n",
    "            \n",
    "            grads = self._get_gradient(A, Y_enc)\n",
    "            \n",
    "            for w, g in zip(self.weights, grads):\n",
    "                w -= self.eta * g\n",
    "        return self"
   ]
  },
  {
   "cell_type": "code",
   "execution_count": 3,
   "metadata": {},
   "outputs": [
    {
     "name": "stdout",
     "output_type": "stream",
     "text": [
      "(1797, 64)\n",
      "(1797,)\n",
      "-0.5 0.5\n",
      "[0 1 2 3 4 5 6 7 8 9]\n"
     ]
    }
   ],
   "source": [
    "# lets load up the handwritten digit dataset\n",
    "from sklearn.datasets import load_digits\n",
    "from sklearn.metrics import accuracy_score\n",
    "from sklearn.preprocessing import StandardScaler\n",
    "import numpy as np\n",
    "\n",
    "ds = load_digits()\n",
    "X = ds.data/16.0-0.5\n",
    "y = ds.target\n",
    "\n",
    "print(X.shape)\n",
    "print(y.shape)\n",
    "print(np.min(X),np.max(X))\n",
    "print(np.unique(y))"
   ]
  },
  {
   "cell_type": "code",
   "execution_count": 4,
   "metadata": {},
   "outputs": [
    {
     "data": {
      "image/png": "[encoded data removed]",
      "text/plain": [
       "<Figure size 432x288 with 10 Axes>"
      ]
     },
     "metadata": {},
     "output_type": "display_data"
    }
   ],
   "source": [
    "import matplotlib.pyplot as plt\n",
    "%matplotlib inline\n",
    "\n",
    "fig, ax = plt.subplots(nrows=2, ncols=5, sharex=True, sharey=True,)\n",
    "ax = ax.flatten()\n",
    "for i in range(10):\n",
    "    img = X[y == i][0].reshape(8, 8)\n",
    "    ax[i].imshow(img, cmap='Greys', interpolation='nearest')\n",
    "\n",
    "ax[0].set_xticks([])\n",
    "ax[0].set_yticks([])\n",
    "plt.tight_layout()\n",
    "plt.show()"
   ]
  },
  {
   "cell_type": "code",
   "execution_count": 5,
   "metadata": {},
   "outputs": [
    {
     "data": {
      "image/png": "[encoded data removed]",
      "text/plain": [
       "<Figure size 432x288 with 25 Axes>"
      ]
     },
     "metadata": {},
     "output_type": "display_data"
    }
   ],
   "source": [
    "fig, ax = plt.subplots(nrows=5, ncols=5, sharex=True, sharey=True,)\n",
    "ax = ax.flatten()\n",
    "digit = 7\n",
    "x_digits = X[y == digit]\n",
    "for i in range(25):\n",
    "    img = x_digits[i].reshape(8, 8)\n",
    "    ax[i].imshow(img, cmap='Greys', interpolation='nearest')\n",
    "\n",
    "ax[0].set_xticks([])\n",
    "ax[0].set_yticks([])\n",
    "plt.tight_layout()\n",
    "plt.show()"
   ]
  },
  {
   "cell_type": "code",
   "execution_count": 6,
   "metadata": {},
   "outputs": [
    {
     "name": "stdout",
     "output_type": "stream",
     "text": [
      "(1437, 64)\n",
      "(1437,)\n",
      "(360, 64)\n",
      "(360,)\n"
     ]
    }
   ],
   "source": [
    "from sklearn.model_selection import train_test_split\n",
    "\n",
    "X_train, X_test, y_train, y_test = train_test_split(X,y,test_size = 0.2)\n",
    "print(X_train.shape)\n",
    "print(y_train.shape)\n",
    "print(X_test.shape)\n",
    "print(y_test.shape)"
   ]
  },
  {
   "cell_type": "code",
   "execution_count": 7,
   "metadata": {},
   "outputs": [
    {
     "name": "stdout",
     "output_type": "stream",
     "text": [
      "Test acc: 0.9416666666666667\n"
     ]
    }
   ],
   "source": [
    "import sys\n",
    "nn = MultiLayerPerceptron([64, 50, 10], 0.3, 500, 0.001, None)\n",
    "nn.fit(X_train, y_train, print_progress=False)\n",
    "yhat = nn.predict(X_test)\n",
    "print('Test acc:',accuracy_score(y_test,yhat))"
   ]
  },
  {
   "cell_type": "code",
   "execution_count": 8,
   "metadata": {},
   "outputs": [
    {
     "data": {
      "image/png": "[encoded data removed]",
      "text/plain": [
       "<Figure size 432x288 with 1 Axes>"
      ]
     },
     "metadata": {
      "needs_background": "light"
     },
     "output_type": "display_data"
    }
   ],
   "source": [
    "plt.plot(range(len(nn.cost)), nn.cost)\n",
    "plt.ylabel('Cost')\n",
    "plt.xlabel('Epochs')\n",
    "plt.tight_layout()\n"
   ]
  },
  {
   "cell_type": "code",
   "execution_count": 9,
   "metadata": {},
   "outputs": [],
   "source": [
    "import pandas as pd\n",
    "import numpy as np\n",
    "df = pd.read_csv('../pitches.csv')"
   ]
  },
  {
   "cell_type": "code",
   "execution_count": 10,
   "metadata": {},
   "outputs": [],
   "source": [
    "#drop unkown prediction classes and prediction classes with no definition from data source\n",
    "df.drop_duplicates(inplace=True)\n",
    "df = df[df.pitch_type != 'UN']\n",
    "df = df[df.pitch_type != 'FA']\n",
    "\n",
    "features = ['break_angle', 'break_length', 'end_speed', 'start_speed', 'spin_rate']\n",
    "#remove wild pitches or intentional walks as break length outliers. Code sourced from https://stackoverflow.com/questions/23199796/detect-and-exclude-outliers-in-pandas-data-frame\n",
    "for feature in features:\n",
    "    if feature != 'pitch_type':\n",
    "        df = df[np.abs(df[feature]-df[feature].mean()) <= (12*df[feature].std())]\n",
    "\n",
    "#drop data points where prediction class is unreliable\n",
    "df = df[df.type_confidence >= 1.0]\n",
    "\n",
    "#Drop any data with incomplete records\n",
    "df.dropna(inplace=True)"
   ]
  },
  {
   "cell_type": "code",
   "execution_count": 11,
   "metadata": {},
   "outputs": [
    {
     "name": "stderr",
     "output_type": "stream",
     "text": [
      "/home/rasimon/.local/lib/python3.6/site-packages/ipykernel_launcher.py:5: SettingWithCopyWarning: \n",
      "A value is trying to be set on a copy of a slice from a DataFrame.\n",
      "Try using .loc[row_indexer,col_indexer] = value instead\n",
      "\n",
      "See the caveats in the documentation: http://pandas.pydata.org/pandas-docs/stable/indexing.html#indexing-view-versus-copy\n",
      "  \"\"\"\n",
      "/home/rasimon/.local/lib/python3.6/site-packages/ipykernel_launcher.py:7: SettingWithCopyWarning: \n",
      "A value is trying to be set on a copy of a slice from a DataFrame.\n",
      "Try using .loc[row_indexer,col_indexer] = value instead\n",
      "\n",
      "See the caveats in the documentation: http://pandas.pydata.org/pandas-docs/stable/indexing.html#indexing-view-versus-copy\n",
      "  import sys\n",
      "/home/rasimon/.local/lib/python3.6/site-packages/ipykernel_launcher.py:9: SettingWithCopyWarning: \n",
      "A value is trying to be set on a copy of a slice from a DataFrame.\n",
      "Try using .loc[row_indexer,col_indexer] = value instead\n",
      "\n",
      "See the caveats in the documentation: http://pandas.pydata.org/pandas-docs/stable/indexing.html#indexing-view-versus-copy\n",
      "  if __name__ == '__main__':\n"
     ]
    }
   ],
   "source": [
    "#separate pitches based on prediction class for visualization\n",
    "# What might be a reasonable value for bounding break_length ? I picked 100.0\n",
    "df = df[df.break_length <= 100.0] \n",
    "fast_pitches_super_group = df[df.pitch_type.isin(['FC','FF','FS','FT','SI'])]\n",
    "fast_pitches_super_group['grouping'] = 'fast_ball'\n",
    "breaking_pitches_super_group = df[df.pitch_type.isin(['CU', 'KC', 'KN', 'SL', 'SC'])]\n",
    "breaking_pitches_super_group['grouping'] = 'breaking_ball'\n",
    "slow_pitches_super_group = df[df.pitch_type.isin(['CH','EP','FO','PO','IN'])]\n",
    "slow_pitches_super_group['grouping'] = 'slow_ball'\n",
    "visualization_frames = [fast_pitches_super_group, breaking_pitches_super_group, slow_pitches_super_group]\n",
    "result = pd.concat(visualization_frames)\n"
   ]
  },
  {
   "cell_type": "code",
   "execution_count": 12,
   "metadata": {},
   "outputs": [
    {
     "name": "stdout",
     "output_type": "stream",
     "text": [
      "[[0 0 0 0 0]\n",
      " [0 0 0 0 0]\n",
      " [0 0 0 0 0]\n",
      " ...\n",
      " [0 0 0 0 0]\n",
      " [0 0 0 0 0]\n",
      " [0 0 0 0 0]] [2 2 2 ... 0 0 0]\n"
     ]
    },
    {
     "name": "stderr",
     "output_type": "stream",
     "text": [
      "/home/rasimon/.local/lib/python3.6/site-packages/ipykernel_launcher.py:8: SettingWithCopyWarning: \n",
      "A value is trying to be set on a copy of a slice from a DataFrame\n",
      "\n",
      "See the caveats in the documentation: http://pandas.pydata.org/pandas-docs/stable/indexing.html#indexing-view-versus-copy\n",
      "  \n",
      "/home/rasimon/.local/lib/python3.6/site-packages/ipykernel_launcher.py:9: SettingWithCopyWarning: \n",
      "A value is trying to be set on a copy of a slice from a DataFrame\n",
      "\n",
      "See the caveats in the documentation: http://pandas.pydata.org/pandas-docs/stable/indexing.html#indexing-view-versus-copy\n",
      "  if __name__ == '__main__':\n",
      "/home/rasimon/.local/lib/python3.6/site-packages/ipykernel_launcher.py:10: SettingWithCopyWarning: \n",
      "A value is trying to be set on a copy of a slice from a DataFrame\n",
      "\n",
      "See the caveats in the documentation: http://pandas.pydata.org/pandas-docs/stable/indexing.html#indexing-view-versus-copy\n",
      "  # Remove the CWD from sys.path while we load stuff.\n"
     ]
    }
   ],
   "source": [
    "X = result[features]\n",
    "y = result['grouping']\n",
    "\n",
    "for f in features:\n",
    "    col = X[f]\n",
    "    col -= min(col)\n",
    "    col /= (max(col) - min(col))\n",
    "y[y == \"breaking_ball\"] = 1\n",
    "y[y == \"fast_ball\"] = 2\n",
    "y[y == \"slow_ball\"] = 0\n",
    "\n",
    "y = y.values.astype(np.int)\n",
    "X = X.values.astype(np.int)\n",
    "print(X, y)"
   ]
  },
  {
   "cell_type": "code",
   "execution_count": 13,
   "metadata": {},
   "outputs": [],
   "source": [
    "X_train, X_test, y_train, y_test = train_test_split(X,y,test_size = 0.8)\n",
    "\n",
    "\n",
    "\n",
    "def weighted_accuracy(y_test, yhat):\n",
    "    percents = {}\n",
    "    weights = []\n",
    "    for label in range(0,3):\n",
    "        percents[label] = len(y_test[y_test==label]) / len(y_test)\n",
    "    for label in y_test:\n",
    "        weights.append(percents[label])\n",
    "    return accuracy_score(y_test,yhat,sample_weight=weights)"
   ]
  },
  {
   "cell_type": "code",
   "execution_count": 40,
   "metadata": {},
   "outputs": [
    {
     "name": "stderr",
     "output_type": "stream",
     "text": [
      "Epoch: 40/40"
     ]
    },
    {
     "name": "stdout",
     "output_type": "stream",
     "text": [
      "Test acc: 0.8208254777317004\n"
     ]
    }
   ],
   "source": [
    "nn = MultiLayerPerceptron([X_train.shape[1], 20, 3], 0.2, 40, .001, None, \"sigmoid\")\n",
    "nn.fit(X_train, y_train, print_progress=True)\n",
    "yhat = nn.predict(X_test)\n",
    "print('Test acc:',weighted_accuracy(y_test,yhat))"
   ]
  },
  {
   "cell_type": "code",
   "execution_count": 41,
   "metadata": {},
   "outputs": [
    {
     "data": {
      "image/png": "[encoded data removed]",
      "text/plain": [
       "<Figure size 432x288 with 1 Axes>"
      ]
     },
     "metadata": {
      "needs_background": "light"
     },
     "output_type": "display_data"
    }
   ],
   "source": [
    "plt.plot(range(1,len(nn.cost)), nn.cost[1:])\n",
    "plt.ylabel('Cost')\n",
    "plt.xlabel('Epochs')\n",
    "plt.tight_layout()\n"
   ]
  },
  {
   "cell_type": "code",
   "execution_count": 180,
   "metadata": {},
   "outputs": [
    {
     "name": "stdout",
     "output_type": "stream",
     "text": [
      "0\n",
      "1\n",
      "2\n",
      "3\n",
      "4\n",
      "5\n",
      "6\n",
      "7\n",
      "8\n",
      "9\n",
      "10\n",
      "11\n",
      "12\n",
      "13\n",
      "14\n",
      "15\n",
      "16\n",
      "17\n",
      "18\n",
      "19\n",
      "20\n",
      "21\n",
      "22\n",
      "23\n",
      "24\n",
      "25\n",
      "26\n",
      "27\n",
      "28\n",
      "29\n",
      "30\n",
      "31\n",
      "32\n",
      "33\n",
      "34\n",
      "35\n",
      "36\n",
      "37\n",
      "38\n",
      "39\n",
      "40\n",
      "41\n",
      "42\n",
      "43\n",
      "44\n",
      "45\n",
      "46\n",
      "47\n",
      "48\n",
      "49\n",
      "50\n",
      "51\n",
      "52\n",
      "53\n",
      "54\n",
      "55\n",
      "56\n",
      "57\n",
      "58\n",
      "59\n",
      "60\n",
      "61\n",
      "62\n",
      "63\n",
      "64\n",
      "65\n",
      "66\n",
      "67\n",
      "68\n",
      "69\n",
      "70\n",
      "71\n",
      "72\n",
      "73\n",
      "74\n",
      "75\n",
      "76\n",
      "77\n",
      "78\n",
      "79\n",
      "80\n",
      "81\n",
      "82\n",
      "83\n",
      "84\n",
      "85\n",
      "86\n",
      "87\n",
      "88\n",
      "89\n",
      "90\n",
      "91\n",
      "92\n",
      "93\n",
      "94\n",
      "95\n",
      "96\n",
      "97\n",
      "98\n",
      "99\n"
     ]
    }
   ],
   "source": [
    "import random\n",
    "activations = []\n",
    "C = []\n",
    "iterations = []\n",
    "eta = []\n",
    "accuracy = []\n",
    "h_layers = []\n",
    "for idx in range(100):  \n",
    "    act = [\"sigmoid\", \"relu\", \"silu\"]\n",
    "    act = act[int(random.uniform(0,2))]\n",
    "    c = random.uniform(0.1, 0.9)\n",
    "    it = int(random.uniform(5, 100))\n",
    "    e = random.uniform(0.0001, 0.1)\n",
    "    h_layer = int(random.uniform(5, 50))\n",
    "    \n",
    "    nn = MultiLayerPerceptron([X_train.shape[1], h_layer, 3], c, it, e, None, act)\n",
    "    activations.append(act)\n",
    "    iterations.append(it)\n",
    "    C.append(c)\n",
    "    eta.append(e)\n",
    "    iterations.append(it)\n",
    "    h_layers.append(h_layer)\n",
    "    nn.fit(X_train, y_train, print_progress=False)\n",
    "    yhat = nn.predict(X_test)\n",
    "    accuracy.append(weighted_accuracy(y_test,yhat))\n",
    "    print(idx)\n"
   ]
  },
  {
   "cell_type": "code",
   "execution_count": 181,
   "metadata": {},
   "outputs": [
    {
     "name": "stdout",
     "output_type": "stream",
     "text": [
      "Violin Plot of Accuracy\n"
     ]
    },
    {
     "data": {
      "image/png": "[encoded data removed]",
      "text/plain": [
       "<Figure size 432x288 with 1 Axes>"
      ]
     },
     "metadata": {},
     "output_type": "display_data"
    }
   ],
   "source": [
    "import seaborn as sns\n",
    "sns.set(style=\"whitegrid\")\n",
    "ax = sns.violinplot(y=accuracy, title=\"Accuracy\")\n",
    "print(\"Violin Plot of Accuracy\")"
   ]
  },
  {
   "cell_type": "code",
   "execution_count": 182,
   "metadata": {},
   "outputs": [
    {
     "data": {
      "text/plain": [
       "<matplotlib.axes._subplots.AxesSubplot at 0x7f677e3236d8>"
      ]
     },
     "execution_count": 182,
     "metadata": {},
     "output_type": "execute_result"
    },
    {
     "data": {
      "image/png": "[encoded data removed]",
      "text/plain": [
       "<Figure size 360x360 with 2 Axes>"
      ]
     },
     "metadata": {},
     "output_type": "display_data"
    }
   ],
   "source": [
    "\n",
    "columns = [\"C\", \"eta\", \"accuracy\",\"H_Layers\",\"Iterations\"]\n",
    "correlation_df = pd.DataFrame(columns=columns)\n",
    "\n",
    "for c,e,a,h,i in zip(C, eta, accuracy, h_layers, iterations):\n",
    "    df = pd.DataFrame(np.array([c,e,a,h,i]).reshape(1,5), columns=columns)\n",
    "    correlation_df = correlation_df.append(df, ignore_index=True)\n",
    "corr = correlation_df.corr()\n",
    "\n",
    "mask = np.zeros_like(corr, dtype=np.bool)\n",
    "mask[np.triu_indices_from(mask)] = True\n",
    "\n",
    "f, ax = plt.subplots(figsize=(5,5))\n",
    "\n",
    "cmap = sns.dark_palette((300,90,60), input = \"husl\")\n",
    "\n",
    "sns.heatmap(corr, mask=mask, cmap = cmap, vmax = .5, center=0,\n",
    "           square=True, linewidths=.5, cbar_kws={\"shrink\":.5})"
   ]
  },
  {
   "cell_type": "code",
   "execution_count": 183,
   "metadata": {},
   "outputs": [],
   "source": [
    "idx = accuracy.index(max(accuracy))\n",
    "a,c,e,a_,h,i = activations[idx],C[idx],eta[idx],accuracy[idx],h_layers[idx],iterations[idx]"
   ]
  },
  {
   "cell_type": "code",
   "execution_count": 186,
   "metadata": {},
   "outputs": [
    {
     "name": "stdout",
     "output_type": "stream",
     "text": [
      "Validation Acc: 0.8205519610928914\n",
      "Validation Acc: 0.8205525954326225\n",
      "Validation Acc: 0.8205534192856239\n",
      "0.8205526586037126\n"
     ]
    }
   ],
   "source": [
    "from sklearn.model_selection import StratifiedKFold\n",
    "skf = StratifiedKFold(n_splits=3\n",
    "                      , shuffle=True)\n",
    "skf.get_n_splits(X,y)\n",
    "accs = []\n",
    "for train_idx, test_idx in skf.split(X,y):\n",
    "    X_train, y_train = X[train_idx], y[train_idx]\n",
    "    X_test, y_test = X[test_idx], y[test_idx]\n",
    "    nn = MultiLayerPerceptron([X_train.shape[1], h, 3], c, i, e, None, a)\n",
    "    nn.fit(X_train, y_train)\n",
    "    yhat = nn.predict(X_test)\n",
    "    accs.append(weighted_accuracy(y_test,yhat))\n",
    "    print(\"Validation Acc:\",weighted_accuracy(y_test,yhat))\n",
    "print(sum(accs)/len(accs))"
   ]
  },
  {
   "cell_type": "code",
   "execution_count": null,
   "metadata": {},
   "outputs": [],
   "source": []
  },
  {
   "cell_type": "code",
   "execution_count": null,
   "metadata": {},
   "outputs": [],
   "source": []
  }
 ],
 "metadata": {
  "kernelspec": {
   "display_name": "Python 3",
   "language": "python",
   "name": "python3"
  },
  "language_info": {
   "codemirror_mode": {
    "name": "ipython",
    "version": 3
   },
   "file_extension": ".py",
   "mimetype": "text/x-python",
   "name": "python",
   "nbconvert_exporter": "python",
   "pygments_lexer": "ipython3",
   "version": "3.6.7"
  }
 },
 "nbformat": 4,
 "nbformat_minor": 2
}
