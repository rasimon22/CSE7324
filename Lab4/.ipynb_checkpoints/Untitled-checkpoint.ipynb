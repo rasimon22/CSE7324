{
 "cells": [
  {
   "cell_type": "code",
   "execution_count": 11,
   "metadata": {},
   "outputs": [],
   "source": [
    "from scipy.special import expit\n",
    "import sys\n",
    "import pandas as pd\n",
    "import numpy as np\n",
    "\n",
    "class MultiLayerPerceptronBase(object):\n",
    "    def __init__(self, layers = 2, layer_width=[4, 3, 3], C = 0.1,\n",
    "                 epochs = 500, eta = .001, activation=\"sigmoid\", obj = \"mse\", random_state = None):\n",
    "        np.random.seed(random_state)\n",
    "        self.C = C\n",
    "        self.epochs = epochs\n",
    "        self.eta = eta\n",
    "        self.layer_width = layer_width\n",
    "        self.activation=activation\n",
    "        self.obj = obj\n",
    "        #add widths for input and output layers\n",
    "#         self.layer_width.insert(0, 8)\n",
    "        #output layer\n",
    "#         self.layer_width.append(8)\n",
    "        \n",
    "        \n",
    "        \n",
    "    @staticmethod\n",
    "    def _encode_labels(y):\n",
    "        onehot = pd.get_dummies(y).values.T\n",
    "        return onehot\n",
    "    \n",
    "    def _initialize_weights(self):\n",
    "        self.weights = []\n",
    "        for idx, w in enumerate(self.layer_width[:-1]):\n",
    "            Wn_num_elements = (w + 1) * self.layer_width[idx+1]\n",
    "            self.weights.append(np.random.uniform(-1.0, 1.0, size = Wn_num_elements).\n",
    "                                reshape(self.layer_width[idx+1], w + 1))\n",
    "        for w in self.weights:\n",
    "            print(w.shape)\n",
    "    \n",
    "    @staticmethod\n",
    "    def _sigmoid(z):\n",
    "        return expit(z)\n",
    "    \n",
    "    @staticmethod\n",
    "    def _relu(z):\n",
    "        return np.maximum(0,z.copy())\n",
    "    \n",
    "    \n",
    "    def _derive_activation(self, a_l, w_l, v_last, z_l):\n",
    "        if self.activation == \"sigmoid\":\n",
    "            return a_l * (1 - a_l) * (w_l.T @ v_last)\n",
    "        \n",
    "        if self.activation == \"relu\":\n",
    "            a_l[a_l<=0] = 0\n",
    "            a_l[a_l>0] = (w_l.T @ v_last)\n",
    "            return a_l\n",
    "    \n",
    "    \n",
    "    @staticmethod\n",
    "    def _add_bias_unit(X, how='column'):\n",
    "        \"\"\"Add bias unit (column or row of 1s) to array at index 0\"\"\"\n",
    "        if how == 'column':\n",
    "            ones = np.ones((X.shape[0], 1))\n",
    "            X_new = np.hstack((ones, X))\n",
    "        elif how == 'row':\n",
    "        \n",
    "            ones = np.ones((1, X.shape[1]))\n",
    "            X_new = np.vstack((ones, X))\n",
    "        return X_new\n",
    "    \n",
    "    @staticmethod\n",
    "    def _l2_reg(lambda_, weights):\n",
    "        t = 0\n",
    "        for w in weights:\n",
    "            t += np.mean(w[:, 1:] **2)\n",
    "        t = np.sqrt(t)\n",
    "        t *= (lambda_/len(weights))\n",
    "        return t\n",
    "    def _cost(self, A_n, y_enc, weights):\n",
    "        cost = np.mean((y_enc - A_n) **2)\n",
    "        L2_term = self._l2_reg(self.C, weights)\n",
    "        return cost + L2_term\n",
    "    "
   ]
  },
  {
   "cell_type": "code",
   "execution_count": 12,
   "metadata": {},
   "outputs": [],
   "source": [
    "class MultiLayerPerceptron(MultiLayerPerceptronBase):\n",
    "    def _feedforward(self, X):\n",
    "        A = []\n",
    "        Z = []\n",
    "        for idx, W_n in enumerate(self.weights):\n",
    "            if len(Z) > 0:\n",
    "                A_n = self._sigmoid(Z[-1])\n",
    "                A_n = self._add_bias_unit(A_n, how=\"row\")\n",
    "                Z_n = W_n @ A_n\n",
    "                A.append(A_n)\n",
    "                Z.append(Z_n)\n",
    "            else:\n",
    "                A_n = self._add_bias_unit(X, how=\"row\")\n",
    "                A_n = A_n\n",
    "                Z_n = W_n @ A_n\n",
    "                A.append(A_n)\n",
    "                Z.append(Z_n)\n",
    "        A.append(self._sigmoid(Z[-1]))\n",
    "        return A, Z\n",
    "    \n",
    "    def _get_gradient(self, A, Z, Y_enc):\n",
    "        gradients = []\n",
    "        #gradient of objective function w/r to last activation\n",
    "        gradients.append(np.zeros(self.weights[-1].shape))\n",
    "        V2 = -2 * (Y_enc - A[-1]) * A[-1] * (1-A[-1])\n",
    "        gradients[-1] = V2 @ A[-2].T\n",
    "        V_last = V2\n",
    "        \n",
    "        for l in range(1, len(self.weights)):\n",
    "            gradients.append(np.zeros(self.weights[len(self.weights) - l].shape))\n",
    "            A_l = list(reversed(A))[l]\n",
    "            W_l = list(reversed(self.weights))[l-1]\n",
    "            if l == 1:\n",
    "                V_l = A_l * (1 - A_l) * (W_l.T @ V_last)\n",
    "                V_last = V_l\n",
    "            else:\n",
    "                V_l = self._derive_activation(A_l, W_l, V_last, Z[-1])\n",
    "                V_last = V_l\n",
    "            gradients[-1] = V_l[1:, :] @ list(reversed(A))[l+1].T\n",
    "    \n",
    "        return list(reversed(gradients))\n",
    "    \n",
    "    def predict(self, X):\n",
    "        A, Z = self._feedforward(X)\n",
    "        a = A[-1]\n",
    "        ypred = np.argmax(a, axis=0)\n",
    "        return ypred\n",
    "    \n",
    "    def fit(self, X, y, print_progress=False):\n",
    "        X_data, y_data = X.copy(), y.copy()\n",
    "        Y_enc = self._encode_labels(y)\n",
    "        self._initialize_weights()\n",
    "        self.cost = []\n",
    "        \n",
    "        for i in range(self.epochs):\n",
    "            if print_progress>0 and (i+1)%print_progress==0:\n",
    "                sys.stderr.write('\\rEpoch: %d/%d' % (i+1, self.epochs))\n",
    "                sys.stderr.flush()\n",
    "            \n",
    "            A, Z = self._feedforward(X_data.reshape(self.layer_width[0], -1))\n",
    " \n",
    "            cost = self._cost(A[-1], Y_enc, self.weights)\n",
    "            self.cost.append(cost)\n",
    "            grad = self._get_gradient(A,Z, Y_enc)\n",
    "            for w, g in zip(self.weights, grad):\n",
    "                g[:,1:] -= w[:,1:] * self.C\n",
    "                w -= self.eta*g\n",
    "        print(self.cost)\n",
    "        return self"
   ]
  },
  {
   "cell_type": "code",
   "execution_count": 102,
   "metadata": {},
   "outputs": [],
   "source": [
    "\n",
    "# lets load up the handwritten digit dataset\n",
    "from sklearn.datasets import load_digits, load_iris\n",
    "from sklearn.metrics import accuracy_score\n",
    "from sklearn.preprocessing import StandardScaler\n",
    "import numpy as np\n",
    "\n",
    "ds = load_iris()\n",
    "X = ds.data/16.0-0.5\n",
    "y = ds.target"
   ]
  },
  {
   "cell_type": "code",
   "execution_count": 103,
   "metadata": {},
   "outputs": [
    {
     "ename": "ValueError",
     "evalue": "cannot reshape array of size 4 into shape (8,8)",
     "output_type": "error",
     "traceback": [
      "\u001b[0;31m---------------------------------------------------------------------------\u001b[0m",
      "\u001b[0;31mValueError\u001b[0m                                Traceback (most recent call last)",
      "\u001b[0;32m<ipython-input-103-09fef154e895>\u001b[0m in \u001b[0;36m<module>\u001b[0;34m\u001b[0m\n\u001b[1;32m      5\u001b[0m \u001b[0max\u001b[0m \u001b[0;34m=\u001b[0m \u001b[0max\u001b[0m\u001b[0;34m.\u001b[0m\u001b[0mflatten\u001b[0m\u001b[0;34m(\u001b[0m\u001b[0;34m)\u001b[0m\u001b[0;34m\u001b[0m\u001b[0;34m\u001b[0m\u001b[0m\n\u001b[1;32m      6\u001b[0m \u001b[0;32mfor\u001b[0m \u001b[0mi\u001b[0m \u001b[0;32min\u001b[0m \u001b[0mrange\u001b[0m\u001b[0;34m(\u001b[0m\u001b[0;36m10\u001b[0m\u001b[0;34m)\u001b[0m\u001b[0;34m:\u001b[0m\u001b[0;34m\u001b[0m\u001b[0;34m\u001b[0m\u001b[0m\n\u001b[0;32m----> 7\u001b[0;31m     \u001b[0mimg\u001b[0m \u001b[0;34m=\u001b[0m \u001b[0mX\u001b[0m\u001b[0;34m[\u001b[0m\u001b[0my\u001b[0m \u001b[0;34m==\u001b[0m \u001b[0mi\u001b[0m\u001b[0;34m]\u001b[0m\u001b[0;34m[\u001b[0m\u001b[0;36m0\u001b[0m\u001b[0;34m]\u001b[0m\u001b[0;34m.\u001b[0m\u001b[0mreshape\u001b[0m\u001b[0;34m(\u001b[0m\u001b[0;36m8\u001b[0m\u001b[0;34m,\u001b[0m \u001b[0;36m8\u001b[0m\u001b[0;34m)\u001b[0m\u001b[0;34m\u001b[0m\u001b[0;34m\u001b[0m\u001b[0m\n\u001b[0m\u001b[1;32m      8\u001b[0m     \u001b[0max\u001b[0m\u001b[0;34m[\u001b[0m\u001b[0mi\u001b[0m\u001b[0;34m]\u001b[0m\u001b[0;34m.\u001b[0m\u001b[0mimshow\u001b[0m\u001b[0;34m(\u001b[0m\u001b[0mimg\u001b[0m\u001b[0;34m,\u001b[0m \u001b[0mcmap\u001b[0m\u001b[0;34m=\u001b[0m\u001b[0;34m'Greys'\u001b[0m\u001b[0;34m,\u001b[0m \u001b[0minterpolation\u001b[0m\u001b[0;34m=\u001b[0m\u001b[0;34m'nearest'\u001b[0m\u001b[0;34m)\u001b[0m\u001b[0;34m\u001b[0m\u001b[0;34m\u001b[0m\u001b[0m\n\u001b[1;32m      9\u001b[0m \u001b[0;34m\u001b[0m\u001b[0m\n",
      "\u001b[0;31mValueError\u001b[0m: cannot reshape array of size 4 into shape (8,8)"
     ]
    },
    {
     "data": {
      "image/png": "[encoded data removed]",
      "text/plain": [
       "<Figure size 432x288 with 10 Axes>"
      ]
     },
     "metadata": {
      "needs_background": "light"
     },
     "output_type": "display_data"
    }
   ],
   "source": [
    "import matplotlib.pyplot as plt\n",
    "%matplotlib inline\n",
    "\n",
    "fig, ax = plt.subplots(nrows=2, ncols=5, sharex=True, sharey=True,)\n",
    "ax = ax.flatten()\n",
    "for i in range(10):\n",
    "    img = X[y == i][0].reshape(8, 8)\n",
    "    ax[i].imshow(img, cmap='Greys', interpolation='nearest')\n",
    "\n",
    "ax[0].set_xticks([])\n",
    "ax[0].set_yticks([])\n",
    "plt.tight_layout()\n",
    "plt.show()"
   ]
  },
  {
   "cell_type": "code",
   "execution_count": 104,
   "metadata": {},
   "outputs": [
    {
     "ename": "IndexError",
     "evalue": "index 0 is out of bounds for axis 0 with size 0",
     "output_type": "error",
     "traceback": [
      "\u001b[0;31m---------------------------------------------------------------------------\u001b[0m",
      "\u001b[0;31mIndexError\u001b[0m                                Traceback (most recent call last)",
      "\u001b[0;32m<ipython-input-104-cce55f4e1c09>\u001b[0m in \u001b[0;36m<module>\u001b[0;34m\u001b[0m\n\u001b[1;32m      4\u001b[0m \u001b[0mx_digits\u001b[0m \u001b[0;34m=\u001b[0m \u001b[0mX\u001b[0m\u001b[0;34m[\u001b[0m\u001b[0my\u001b[0m \u001b[0;34m==\u001b[0m \u001b[0mdigit\u001b[0m\u001b[0;34m]\u001b[0m\u001b[0;34m\u001b[0m\u001b[0;34m\u001b[0m\u001b[0m\n\u001b[1;32m      5\u001b[0m \u001b[0;32mfor\u001b[0m \u001b[0mi\u001b[0m \u001b[0;32min\u001b[0m \u001b[0mrange\u001b[0m\u001b[0;34m(\u001b[0m\u001b[0;36m25\u001b[0m\u001b[0;34m)\u001b[0m\u001b[0;34m:\u001b[0m\u001b[0;34m\u001b[0m\u001b[0;34m\u001b[0m\u001b[0m\n\u001b[0;32m----> 6\u001b[0;31m     \u001b[0mimg\u001b[0m \u001b[0;34m=\u001b[0m \u001b[0mx_digits\u001b[0m\u001b[0;34m[\u001b[0m\u001b[0mi\u001b[0m\u001b[0;34m]\u001b[0m\u001b[0;34m.\u001b[0m\u001b[0mreshape\u001b[0m\u001b[0;34m(\u001b[0m\u001b[0;36m8\u001b[0m\u001b[0;34m,\u001b[0m \u001b[0;36m8\u001b[0m\u001b[0;34m)\u001b[0m\u001b[0;34m\u001b[0m\u001b[0;34m\u001b[0m\u001b[0m\n\u001b[0m\u001b[1;32m      7\u001b[0m     \u001b[0max\u001b[0m\u001b[0;34m[\u001b[0m\u001b[0mi\u001b[0m\u001b[0;34m]\u001b[0m\u001b[0;34m.\u001b[0m\u001b[0mimshow\u001b[0m\u001b[0;34m(\u001b[0m\u001b[0mimg\u001b[0m\u001b[0;34m,\u001b[0m \u001b[0mcmap\u001b[0m\u001b[0;34m=\u001b[0m\u001b[0;34m'Greys'\u001b[0m\u001b[0;34m,\u001b[0m \u001b[0minterpolation\u001b[0m\u001b[0;34m=\u001b[0m\u001b[0;34m'nearest'\u001b[0m\u001b[0;34m)\u001b[0m\u001b[0;34m\u001b[0m\u001b[0;34m\u001b[0m\u001b[0m\n\u001b[1;32m      8\u001b[0m \u001b[0;34m\u001b[0m\u001b[0m\n",
      "\u001b[0;31mIndexError\u001b[0m: index 0 is out of bounds for axis 0 with size 0"
     ]
    },
    {
     "data": {
      "image/png": "[encoded data removed]",
      "text/plain": [
       "<Figure size 432x288 with 25 Axes>"
      ]
     },
     "metadata": {
      "needs_background": "light"
     },
     "output_type": "display_data"
    }
   ],
   "source": [
    "fig, ax = plt.subplots(nrows=5, ncols=5, sharex=True, sharey=True,)\n",
    "ax = ax.flatten()\n",
    "digit = 7\n",
    "x_digits = X[y == digit]\n",
    "for i in range(25):\n",
    "    img = x_digits[i].reshape(8, 8)\n",
    "    ax[i].imshow(img, cmap='Greys', interpolation='nearest')\n",
    "\n",
    "ax[0].set_xticks([])\n",
    "ax[0].set_yticks([])\n",
    "plt.tight_layout()\n",
    "plt.show()"
   ]
  },
  {
   "cell_type": "code",
   "execution_count": 105,
   "metadata": {},
   "outputs": [
    {
     "name": "stdout",
     "output_type": "stream",
     "text": [
      "(90, 4)\n",
      "(90,)\n",
      "(60, 4)\n",
      "(60,)\n"
     ]
    }
   ],
   "source": [
    "from sklearn.model_selection import train_test_split\n",
    "\n",
    "X_train, X_test, y_train, y_test = train_test_split(X,y,test_size = 0.4)\n",
    "print(X_train.shape)\n",
    "print(y_train.shape)\n",
    "print(X_test.shape)\n",
    "print(y_test.shape)"
   ]
  },
  {
   "cell_type": "code",
   "execution_count": 120,
   "metadata": {},
   "outputs": [
    {
     "name": "stderr",
     "output_type": "stream",
     "text": [
      "Epoch: 440/500"
     ]
    },
    {
     "name": "stdout",
     "output_type": "stream",
     "text": [
      "(10, 5)\n",
      "(3, 11)\n"
     ]
    },
    {
     "name": "stderr",
     "output_type": "stream",
     "text": [
      "Epoch: 500/500"
     ]
    },
    {
     "name": "stdout",
     "output_type": "stream",
     "text": [
      "[0.6006126760760665, 0.6005894690969675, 0.6005662653962665, 0.6005430649760227, 0.6005198678382946, 0.6004966739851396, 0.600473483418614, 0.6004502961407723, 0.600427112153669, 0.6004039314593566, 0.600380754059887, 0.6003575799573106, 0.6003344091536773, 0.6003112416510351, 0.6002880774514314, 0.6002649165569125, 0.6002417589695234, 0.6002186046913078, 0.6001954537243086, 0.6001723060705676, 0.6001491617321253, 0.6001260207110211, 0.6001028830092934, 0.6000797486289794, 0.6000566175721151, 0.6000334898407356, 0.6000103654368745, 0.5999872443625647, 0.5999641266198376, 0.5999410122107238, 0.5999179011372524, 0.5998947934014519, 0.5998716890053492, 0.5998485879509701, 0.5998254902403395, 0.5998023958754811, 0.5997793048584175, 0.5997562171911697, 0.5997331328757585, 0.5997100519142023, 0.5996869743085198, 0.5996639000607273, 0.5996408291728408, 0.5996177616468747, 0.5995946974848426, 0.5995716366887566, 0.5995485792606279, 0.5995255252024663, 0.5995024745162807, 0.5994794272040791, 0.5994563832678677, 0.5994333427096519, 0.5994103055314359, 0.5993872717352231, 0.5993642413230151, 0.5993412142968131, 0.5993181906586164, 0.5992951704104235, 0.5992721535542319, 0.5992491400920376, 0.5992261300258357, 0.59920312335762, 0.5991801200893834, 0.5991571202231171, 0.5991341237608119, 0.5991111307044567, 0.5990881410560397, 0.5990651548175477, 0.5990421719909667, 0.599019192578281, 0.5989962165814741, 0.5989732440025282, 0.5989502748434246, 0.5989273091061429, 0.598904346792662, 0.5988813879049595, 0.5988584324450117, 0.598835480414794, 0.5988125318162802, 0.5987895866514434, 0.5987666449222555, 0.5987437066306867, 0.5987207717787064, 0.5986978403682829, 0.598674912401383, 0.598651987879973, 0.5986290668060172, 0.5986061491814791, 0.5985832350083211, 0.5985603242885044, 0.5985374170239887, 0.5985145132167329, 0.5984916128686945, 0.5984687159818298, 0.5984458225580944, 0.5984229325994419, 0.5984000461078254, 0.5983771630851962, 0.5983542835335052, 0.5983314074547013, 0.5983085348507328, 0.5982856657235465, 0.5982628000750879, 0.5982399379073019, 0.5982170792221314, 0.5981942240215188, 0.5981713723074049, 0.5981485240817295, 0.5981256793464311, 0.598102838103447, 0.598080000354713, 0.5980571661021645, 0.5980343353477353, 0.5980115080933576, 0.5979886843409626, 0.5979658640924808, 0.597943047349841, 0.5979202341149709, 0.5978974243897969, 0.5978746181762444, 0.5978518154762377, 0.5978290162916993, 0.5978062206245511, 0.5977834284767136, 0.597760639850106, 0.5977378547466463, 0.5977150731682515, 0.5976922951168373, 0.5976695205943177, 0.5976467496026063, 0.5976239821436149, 0.5976012182192545, 0.5975784578314343, 0.5975557009820629, 0.5975329476730475, 0.5975101979062938, 0.5974874516837065, 0.5974647090071892, 0.5974419698786441, 0.5974192342999721, 0.5973965022730732, 0.5973737737998459, 0.5973510488821874, 0.597328327521994, 0.5973056097211608, 0.597282895481581, 0.5972601848051475, 0.5972374776937512, 0.5972147741492824, 0.5971920741736295, 0.5971693777686803, 0.5971466849363212, 0.5971239956784368, 0.5971013099969115, 0.5970786278936275, 0.5970559493704664, 0.5970332744293083, 0.5970106030720321, 0.5969879353005154, 0.5969652711166347, 0.596942610522265, 0.5969199535192807, 0.5968973001095541, 0.5968746502949569, 0.5968520040773593, 0.5968293614586301, 0.5968067224406373, 0.5967840870252471, 0.5967614552143251, 0.5967388270097351, 0.5967162024133401, 0.5966935814270014, 0.5966709640525794, 0.5966483502919331, 0.5966257401469202, 0.5966031336193973, 0.5965805307112197, 0.5965579314242415, 0.5965353357603155, 0.596512743721293, 0.5964901553090245, 0.5964675705253589, 0.5964449893721441, 0.5964224118512265, 0.5963998379644515, 0.5963772677136627, 0.5963547011007035, 0.596332138127415, 0.5963095787956374, 0.5962870231072097, 0.5962644710639697, 0.5962419226677538, 0.5962193779203973, 0.5961968368237338, 0.5961742993795964, 0.5961517655898161, 0.5961292354562233, 0.5961067089806469, 0.5960841861649142, 0.5960616670108521, 0.5960391515202847, 0.5960166396950368, 0.5959941315369306, 0.5959716270477873, 0.5959491262294268, 0.5959266290836678, 0.595904135612328, 0.5958816458172234, 0.5958591597001692, 0.5958366772629786, 0.5958141985074641, 0.5957917234354368, 0.5957692520487068, 0.5957467843490822, 0.5957243203383705, 0.5957018600183777, 0.5956794033909084, 0.595656950457766, 0.5956345012207525, 0.5956120556816691, 0.5955896138423153, 0.5955671757044891, 0.5955447412699877, 0.5955223105406071, 0.5954998835181413, 0.5954774602043837, 0.5954550406011261, 0.5954326247101591, 0.5954102125332721, 0.5953878040722531, 0.5953653993288887, 0.5953429983049643, 0.5953206010022642, 0.5952982074225713, 0.5952758175676669, 0.5952534314393316, 0.5952310490393443, 0.5952086703694826, 0.595186295431523, 0.5951639242272404, 0.5951415567584087, 0.5951191930268005, 0.595096833034187, 0.5950744767823383, 0.5950521242730227, 0.5950297755080075, 0.595007430489059, 0.5949850892179418, 0.5949627516964193, 0.5949404179262536, 0.5949180879092056, 0.594895761647035, 0.5948734391414996, 0.5948511203943566, 0.5948288054073616, 0.5948064941822688, 0.5947841867208314, 0.5947618830248009, 0.5947395830959277, 0.594717286935961, 0.5946949945466486, 0.5946727059297368, 0.5946504210869707, 0.5946281400200943, 0.5946058627308504, 0.5945835892209798, 0.5945613194922226, 0.5945390535463172, 0.5945167913850012, 0.5944945330100107, 0.5944722784230796, 0.5944500276259421, 0.5944277806203297, 0.5944055374079735, 0.5943832979906025, 0.594361062369945, 0.5943388305477278, 0.5943166025256763, 0.5942943783055146, 0.5942721578889656, 0.5942499412777507, 0.59422772847359, 0.5942055194782024, 0.5941833142933055, 0.5941611129206155, 0.594138915361847, 0.594116721618714, 0.5940945316929283, 0.5940723455862011, 0.594050163300242, 0.5940279848367589, 0.594005810197459, 0.5939836393840479, 0.5939614723982298, 0.5939393092417076, 0.5939171499161829, 0.593894994423356, 0.593872842764926, 0.5938506949425904, 0.5938285509580452, 0.5938064108129859, 0.5937842745091058, 0.5937621420480972, 0.5937400134316511, 0.5937178886614569, 0.5936957677392032, 0.5936736506665768, 0.5936515374452634, 0.5936294280769472, 0.5936073225633112, 0.5935852209060367, 0.5935631231068043, 0.5935410291672928, 0.5935189390891797, 0.5934968528741413, 0.5934747705238526, 0.593452692039987, 0.5934306174242168, 0.5934085466782129, 0.5933864798036446, 0.5933644168021801, 0.5933423576754866, 0.5933203024252294, 0.5932982510530725, 0.5932762035606789, 0.5932541599497099, 0.5932321202218257, 0.5932100843786849, 0.5931880524219453, 0.5931660243532624, 0.5931440001742914, 0.5931219798866854, 0.5930999634920963, 0.5930779509921751, 0.5930559423885708, 0.5930339376829317, 0.593011936876904, 0.5929899399721332, 0.5929679469702631, 0.5929459578729364, 0.592923972681794, 0.5929019913984759, 0.5928800140246204, 0.592858040561865, 0.5928360710118451, 0.5928141053761953, 0.5927921436565485, 0.5927701858545364, 0.5927482319717896, 0.5927262820099366, 0.5927043359706052, 0.5926823938554218, 0.5926604556660112, 0.5926385214039969, 0.592616591071001, 0.5925946646686442, 0.5925727421985463, 0.5925508236623249, 0.592528909061597, 0.5925069983979779, 0.5924850916730816, 0.5924631888885206, 0.5924412900459062, 0.5924193951468482, 0.5923975041929552, 0.5923756171858343, 0.5923537341270912, 0.5923318550183304, 0.5923099798611549, 0.5922881086571663, 0.592266241407965, 0.5922443781151498, 0.5922225187803183, 0.5922006634050667, 0.5921788119909897, 0.5921569645396808, 0.5921351210527321, 0.5921132815317341, 0.5920914459782765, 0.5920696143939466, 0.5920477867803315, 0.5920259631390161, 0.5920041434715844, 0.5919823277796187, 0.5919605160646999, 0.5919387083284079, 0.5919169045723209, 0.5918951047980159, 0.5918733090070682, 0.5918515172010523, 0.5918297293815407, 0.5918079455501047, 0.5917861657083147, 0.5917643898577389, 0.5917426179999448, 0.5917208501364982, 0.5916990862689637, 0.5916773263989041, 0.5916555705278813, 0.5916338186574557, 0.5916120707891859, 0.59159032692463, 0.5915685870653435, 0.5915468512128819, 0.591525119368798, 0.5915033915346442, 0.5914816677119709, 0.5914599479023274, 0.5914382321072614, 0.5914165203283197, 0.591394812567047, 0.5913731088249872, 0.5913514091036824, 0.5913297134046736, 0.5913080217295004, 0.5912863340797008, 0.5912646504568113, 0.5912429708623674, 0.5912212952979033, 0.5911996237649513, 0.5911779562650424, 0.5911562927997065, 0.591134633370472, 0.5911129779788658, 0.5910913266264133, 0.5910696793146388, 0.5910480360450653, 0.5910263968192138, 0.5910047616386044, 0.5909831305047557, 0.5909615034191849, 0.5909398803834075, 0.5909182613989383, 0.5908966464672901, 0.5908750355899743, 0.5908534287685014, 0.5908318260043801, 0.5908102272991174, 0.5907886326542198, 0.5907670420711915, 0.5907454555515358, 0.5907238730967544, 0.5907022947083478, 0.5906807203878148, 0.590659150136653, 0.5906375839563587, 0.5906160218484263, 0.5905944638143494, 0.59057290985562, 0.5905513599737284, 0.5905298141701638, 0.5905082724464139, 0.5904867348039651, 0.5904652012443021, 0.5904436717689086, 0.5904221463792663, 0.5904006250768564, 0.5903791078631578, 0.5903575947396484, 0.5903360857078048, 0.5903145807691018, 0.5902930799250132, 0.5902715831770111, 0.5902500905265662, 0.5902286019751481, 0.5902071175242247, 0.5901856371752625, 0.5901641609297266, 0.5901426887890808, 0.5901212207547875, 0.5900997568283073, 0.5900782970111, 0.5900568413046234, 0.5900353897103344, 0.5900139422296882, 0.5899924988641384, 0.5899710596151376, 0.5899496244841368, 0.5899281934725855, 0.5899067665819318, 0.5898853438136225, 0.5898639251691029, 0.589842510649817, 0.5898211002572069, 0.5897996939927141, 0.5897782918577783, 0.5897568938538372, 0.5897354999823279, 0.5897141102446859, 0.5896927246423448, 0.5896713431767373, 0.5896499658492946, 0.5896285926614464, 0.5896072236146209, 0.5895858587102449, 0.5895644979497437, 0.5895431413345416, 0.5895217888660609, 0.5895004405457229, 0.5894790963749472]\n",
      "[2 2 2 2 2 2 2 2 2 2 2 2 2 2 2 2 2 2 2 2 2 2 2 2 2 2 2 2 2 2 2 2 2 2 2 2 2\n",
      " 2 2 2 2 2 2 2 2 2 2 2 2 2 2 2 2 2 2 2 2 2 2 2]\n",
      "[1 2 1 2 0 2 2 2 1 2 2 0 1 1 1 1 1 0 2 0 0 1 1 0 1 0 1 1 1 2 2 1 0 0 0 1 1\n",
      " 1 0 1 2 0 0 2 0 0 0 0 0 1 0 1 2 0 0 0 2 2 2 2]\n",
      "Test acc: 0.2833333333333333\n"
     ]
    }
   ],
   "source": [
    "\n",
    "nn = MultiLayerPerceptron(2, [X_train.shape[1], 10 , 3], 0.7, 500, 0.000005, \"relu\")\n",
    "nn.fit(X_train, y_train, print_progress=10)\n",
    "yhat = nn.predict(X_test.T)\n",
    "print(yhat)\n",
    "print(y_test)\n",
    "print('Test acc:',accuracy_score(y_test,yhat))"
   ]
  },
  {
   "cell_type": "code",
   "execution_count": 8,
   "metadata": {},
   "outputs": [
    {
     "data": {
      "image/png": "[encoded data removed]",
      "text/plain": [
       "<Figure size 432x288 with 1 Axes>"
      ]
     },
     "metadata": {
      "needs_background": "light"
     },
     "output_type": "display_data"
    }
   ],
   "source": [
    "plt.plot(range(len(nn.cost)), nn.cost)\n",
    "plt.ylabel('Cost')\n",
    "plt.xlabel('Epochs')\n",
    "plt.tight_layout()\n",
    "plt.show()"
   ]
  },
  {
   "cell_type": "code",
   "execution_count": 33,
   "metadata": {},
   "outputs": [],
   "source": [
    "import pandas as pd\n",
    "import numpy as np\n",
    "df = pd.read_csv('../pitches.csv')"
   ]
  },
  {
   "cell_type": "code",
   "execution_count": 43,
   "metadata": {},
   "outputs": [],
   "source": [
    "#drop unkown prediction classes and prediction classes with no definition from data source\n",
    "df.drop_duplicates(inplace=True)\n",
    "df = df[df.pitch_type != 'UN']\n",
    "df = df[df.pitch_type != 'FA']\n",
    "\n",
    "features = ['break_angle', 'break_length', 'end_speed', 'start_speed', 'spin_rate']\n",
    "#remove wild pitches or intentional walks as break length outliers. Code sourced from https://stackoverflow.com/questions/23199796/detect-and-exclude-outliers-in-pandas-data-frame\n",
    "for feature in features:\n",
    "    if feature != 'pitch_type':\n",
    "        df = df[np.abs(df[feature]-df[feature].mean()) <= (12*df[feature].std())]\n",
    "\n",
    "#drop data points where prediction class is unreliable\n",
    "df = df[df.type_confidence >= 1.0]\n",
    "\n",
    "#Drop any data with incomplete records\n",
    "df.dropna(inplace=True)"
   ]
  },
  {
   "cell_type": "code",
   "execution_count": 44,
   "metadata": {},
   "outputs": [
    {
     "name": "stderr",
     "output_type": "stream",
     "text": [
      "/Users/rasimon/anaconda3/lib/python3.6/site-packages/ipykernel_launcher.py:5: SettingWithCopyWarning: \n",
      "A value is trying to be set on a copy of a slice from a DataFrame.\n",
      "Try using .loc[row_indexer,col_indexer] = value instead\n",
      "\n",
      "See the caveats in the documentation: http://pandas.pydata.org/pandas-docs/stable/indexing.html#indexing-view-versus-copy\n",
      "  \"\"\"\n",
      "/Users/rasimon/anaconda3/lib/python3.6/site-packages/ipykernel_launcher.py:7: SettingWithCopyWarning: \n",
      "A value is trying to be set on a copy of a slice from a DataFrame.\n",
      "Try using .loc[row_indexer,col_indexer] = value instead\n",
      "\n",
      "See the caveats in the documentation: http://pandas.pydata.org/pandas-docs/stable/indexing.html#indexing-view-versus-copy\n",
      "  import sys\n",
      "/Users/rasimon/anaconda3/lib/python3.6/site-packages/ipykernel_launcher.py:9: SettingWithCopyWarning: \n",
      "A value is trying to be set on a copy of a slice from a DataFrame.\n",
      "Try using .loc[row_indexer,col_indexer] = value instead\n",
      "\n",
      "See the caveats in the documentation: http://pandas.pydata.org/pandas-docs/stable/indexing.html#indexing-view-versus-copy\n",
      "  if __name__ == '__main__':\n"
     ]
    }
   ],
   "source": [
    "#separate pitches based on prediction class for visualization\n",
    "# What might be a reasonable value for bounding break_length ? I picked 100.0\n",
    "df = df[df.break_length <= 100.0] \n",
    "fast_pitches_super_group = df[df.pitch_type.isin(['FC','FF','FS','FT','SI'])]\n",
    "fast_pitches_super_group['grouping'] = 'fast_ball'\n",
    "breaking_pitches_super_group = df[df.pitch_type.isin(['CU', 'KC', 'KN', 'SL', 'SC'])]\n",
    "breaking_pitches_super_group['grouping'] = 'breaking_ball'\n",
    "slow_pitches_super_group = df[df.pitch_type.isin(['CH','EP','FO','PO','IN'])]\n",
    "slow_pitches_super_group['grouping'] = 'slow_ball'\n",
    "visualization_frames = [fast_pitches_super_group, breaking_pitches_super_group, slow_pitches_super_group]\n",
    "result = pd.concat(visualization_frames)\n",
    "\n"
   ]
  },
  {
   "cell_type": "code",
   "execution_count": 121,
   "metadata": {},
   "outputs": [
    {
     "name": "stderr",
     "output_type": "stream",
     "text": [
      "/Users/rasimon/anaconda3/lib/python3.6/site-packages/ipykernel_launcher.py:7: SettingWithCopyWarning: \n",
      "A value is trying to be set on a copy of a slice from a DataFrame\n",
      "\n",
      "See the caveats in the documentation: http://pandas.pydata.org/pandas-docs/stable/indexing.html#indexing-view-versus-copy\n",
      "  import sys\n",
      "/Users/rasimon/anaconda3/lib/python3.6/site-packages/ipykernel_launcher.py:8: SettingWithCopyWarning: \n",
      "A value is trying to be set on a copy of a slice from a DataFrame\n",
      "\n",
      "See the caveats in the documentation: http://pandas.pydata.org/pandas-docs/stable/indexing.html#indexing-view-versus-copy\n",
      "  \n"
     ]
    },
    {
     "name": "stdout",
     "output_type": "stream",
     "text": [
      "[[0.18151354 0.10402685 0.77719298 0.79799666 0.35418581]\n",
      " [0.13767104 0.11073826 0.77719298 0.79632721 0.41338523]\n",
      " [0.12929349 0.12080537 0.79649123 0.81803005 0.40693084]\n",
      " ...\n",
      " [0.31471656 0.19127517 0.76315789 0.74290484 0.23965995]\n",
      " [0.3387322  0.19798658 0.75789474 0.75292154 0.29175051]\n",
      " [0.21641999 0.23489933 0.72280702 0.69949917 0.15629783]] [2 2 2 ... 0 0 0]\n"
     ]
    },
    {
     "name": "stderr",
     "output_type": "stream",
     "text": [
      "/Users/rasimon/anaconda3/lib/python3.6/site-packages/ipykernel_launcher.py:9: SettingWithCopyWarning: \n",
      "A value is trying to be set on a copy of a slice from a DataFrame\n",
      "\n",
      "See the caveats in the documentation: http://pandas.pydata.org/pandas-docs/stable/indexing.html#indexing-view-versus-copy\n",
      "  if __name__ == '__main__':\n"
     ]
    }
   ],
   "source": [
    "X = result[features]\n",
    "y = result['grouping']\n",
    "for f in features:\n",
    "    col = X[f]\n",
    "    col -= min(col)\n",
    "    col /= (max(col) - min(col))\n",
    "y[y == \"breaking_ball\"] = 1\n",
    "y[y == \"fast_ball\"] = 2\n",
    "y[y == \"slow_ball\"] = 0\n",
    "\n",
    "y = y.values\n",
    "X = X.values\n",
    "print(X, y)"
   ]
  },
  {
   "cell_type": "code",
   "execution_count": 122,
   "metadata": {},
   "outputs": [],
   "source": [
    "X_train, X_test, y_train, y_test = train_test_split(X,y,test_size = 0.4)"
   ]
  },
  {
   "cell_type": "code",
   "execution_count": null,
   "metadata": {},
   "outputs": [],
   "source": []
  },
  {
   "cell_type": "code",
   "execution_count": 124,
   "metadata": {},
   "outputs": [
    {
     "name": "stdout",
     "output_type": "stream",
     "text": [
      "(10, 6)\n",
      "(3, 11)\n"
     ]
    },
    {
     "name": "stderr",
     "output_type": "stream",
     "text": [
      "Epoch: 30/30"
     ]
    },
    {
     "name": "stdout",
     "output_type": "stream",
     "text": [
      "[0.49995331008014365, 2.045023670795409, 2.0450739325678073, 2.0451241969530294, 2.045174463951177, 2.045224733562352, 2.0452750057866576, 2.045325280624194, 2.0453755580750657, 2.045425838139373, 2.0454761208172187, 2.045526406108704, 2.0455766940139326, 2.045626984533005, 2.045677277666025, 2.0457275734130924, 2.045777871774312, 2.045828172749783, 2.04587847633961, 2.045928782543894, 2.045979091362737, 2.0460294027962416, 2.04607971684451, 2.046130033507644, 2.0461803527857456, 2.046230674678917, 2.046280999187261, 2.046331326310879, 2.0463816560498724, 2.0464319884043456]\n",
      "yhat [2 2 2 ... 2 2 2]\n",
      "ytest [2 2 2 ... 2 2 1]\n",
      "Test acc: 0.6232029163725797\n"
     ]
    }
   ],
   "source": [
    "nn = MultiLayerPerceptron(2, [X_train.shape[1], 10, 3], 0.4, 30, 0.0001, \"relu\")\n",
    "nn.fit(X_train, y_train, print_progress=10)\n",
    "yhat = nn.predict(X_test.T)\n",
    "\n",
    "\n",
    "\n",
    "print(\"yhat\",yhat)\n",
    "print(\"ytest\", y_test)\n",
    "\n",
    "print('Test acc:',accuracy_score(y_test.astype(np.int),yhat))"
   ]
  },
  {
   "cell_type": "code",
   "execution_count": 125,
   "metadata": {},
   "outputs": [
    {
     "data": {
      "image/png": "[encoded data removed]",
      "text/plain": [
       "<Figure size 432x288 with 1 Axes>"
      ]
     },
     "metadata": {
      "needs_background": "light"
     },
     "output_type": "display_data"
    }
   ],
   "source": [
    "plt.plot(range(len(nn.cost)), nn.cost)\n",
    "plt.ylabel('Cost')\n",
    "plt.xlabel('Epochs')\n",
    "plt.tight_layout()\n",
    "plt.show()"
   ]
  },
  {
   "cell_type": "code",
   "execution_count": null,
   "metadata": {},
   "outputs": [],
   "source": []
  }
 ],
 "metadata": {
  "kernelspec": {
   "display_name": "Python 3",
   "language": "python",
   "name": "python3"
  },
  "language_info": {
   "codemirror_mode": {
    "name": "ipython",
    "version": 3
   },
   "file_extension": ".py",
   "mimetype": "text/x-python",
   "name": "python",
   "nbconvert_exporter": "python",
   "pygments_lexer": "ipython3",
   "version": "3.6.7"
  }
 },
 "nbformat": 4,
 "nbformat_minor": 2
}
