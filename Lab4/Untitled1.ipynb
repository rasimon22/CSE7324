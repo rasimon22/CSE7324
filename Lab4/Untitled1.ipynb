{
 "cells": [
  {
   "cell_type": "markdown",
   "metadata": {},
   "source": [
    "<h1>Preparation and Overview</h1>\n",
    "<h2>Preparation</h2>\n",
    "The data preparation procedure we chose for this lab is similar to that of lab 1. We began with a mostly complete dataset, which has many features which are unnecessary for the classification task. We took the following steps to clean the data and prepare it for our use case: <br>\n",
    "1. We first got rid of duplicate rows. We can reliably do this without a unique identifier because there are sufficiently many features to confidently say that exact duplicates of data are most likely a duplicate entry.<br>\n",
    "2. We then removed any data with an unknown prediction class, whether the unknown class is due to the pitch being unidentifiable, or because the overview does not contain the translation from abreviated label to actual prediction class.<br>\n",
    "3. Next, we removed outlier in the data. While this is not an exact science, we believe that the heuristic we used sufficiently cleans outliers out of the data without compromising the integrity of the data.<br>\n",
    "4. Finally, we removed any data points where the ground truth cannot be 100% trusted. Our dataset included a measure of confidence in the label assigned to each data point. We removed any data points where the confidence was below a threshold of 1 (out of 2).<br>\n",
    "<h2>Overview</h2>\n",
    "This data is an interesting, yet unsurprising find. Baseball is one of the most statistics-driven professional sports in the world. Nearly every happening on the field is quantified and logged for further analysis. This logging is useful for both the clubs competing in a match, and also to the entities responsible for the broadcasts. Effortless data analytics can enhance a broadcast and help enhance the viewer's understanding of the game.<br>\n",
    "With some preprocessing, broadcast networks can turn real-time images from the contest into data that a machine learning model can use to predict what sort of pitch was thrown. This information is useful for 2 main reasons. A casual fan trying to have a deeper understanding of the game can follow along more easily with a real-time indication of what's happening at a high level of the game. In kind, broadcasters and clubs can use this data to better understand trends in the opposition and their own clubs alike. While it is possible for a human to do this tedious work, automating it will cut down on mistakes, and allow real-time display, or real-time data analytics."
   ]
  },
  {
   "cell_type": "markdown",
   "metadata": {},
   "source": [
    "<h2>Class Variables</h2>\n",
    "\n",
    "The dataset consists of 39 attributes and 15 prediction classes describing the information of the pitch thrown. Of these 39 attributes, we have chosen 5 attributes that are most likely candidates to use for the classification task. These are:\n",
    "\n",
    "1. Break length - Float\n",
    "2. Break angle - Float\n",
    "3. Start Speed - Float\n",
    "4. End Speed and - Float\n",
    "5. Spin rate - Float\n",
    "\n",
    "The prediction class is represented as a string object denoting the type of pitch - in classification we will turn this data into a series of binary one-vs-all data. <br>\n",
    "We took a hierarchical approach towards the classification problem by clustering the prediction classes into three super classes, namely:\n",
    "\n",
    "1. Fast pitches (FC – Cutter, FF – Four Seam Fastball, FS – Splitter, FT – Two Seam Fastball,SI – Sinker)\n",
    "2. Breaking Balls ( CU – Curveball, KC – Knuckle Curve, KN – Knuckleball, SL – Slider, SC - Screwball)\n",
    "3. Slow Pitches ( CH – Changeup, EP – Eephus, FO – Pitchout, PO – Pitchout, IN – Intentional Ball )"
   ]
  },
  {
   "cell_type": "code",
   "execution_count": 45,
   "metadata": {},
   "outputs": [],
   "source": [
    "import pandas as pd\n",
    "import numpy as np\n",
    "df = pd.read_csv('pitches.csv')"
   ]
  },
  {
   "cell_type": "code",
   "execution_count": 46,
   "metadata": {},
   "outputs": [],
   "source": [
    "#drop unkown prediction classes and prediction classes with no definition from data source\n",
    "df.drop_duplicates(inplace=True)\n",
    "df = df[df.pitch_type != 'UN']\n",
    "df = df[df.pitch_type != 'FA']\n",
    "\n",
    "features = ['break_angle', 'break_length', 'end_speed', 'start_speed', 'spin_rate', 'pitch_type']\n",
    "#remove wild pitches or intentional walks as break length outliers. Code sourced from https://stackoverflow.com/questions/23199796/detect-and-exclude-outliers-in-pandas-data-frame\n",
    "for feature in features:\n",
    "    if feature != 'pitch_type':\n",
    "        df = df[np.abs(df[feature]-df[feature].mean()) <= (12*df[feature].std())]\n",
    "\n",
    "#drop data points where prediction class is unreliable\n",
    "df = df[df.type_confidence >= 1.0]\n",
    "\n",
    "#Drop any data with incomplete records\n",
    "df.dropna(inplace=True)"
   ]
  },
  {
   "cell_type": "code",
   "execution_count": 47,
   "metadata": {},
   "outputs": [],
   "source": [
    "#Summary Statistics For Each Feature in the Feature Vector\n",
    "desc = df[features].groupby('pitch_type').describe()\n",
    "pd.options.display.max_columns = None\n",
    "\n",
    "# for feature in features:\n",
    "#     if feature != 'pitch_type':\n",
    "#         print(feature)\n",
    "#         display(desc[feature])"
   ]
  },
  {
   "cell_type": "code",
   "execution_count": 48,
   "metadata": {
    "scrolled": true
   },
   "outputs": [
    {
     "name": "stderr",
     "output_type": "stream",
     "text": [
      "C:\\ProgramData\\Anaconda3\\lib\\site-packages\\ipykernel_launcher.py:5: SettingWithCopyWarning: \n",
      "A value is trying to be set on a copy of a slice from a DataFrame.\n",
      "Try using .loc[row_indexer,col_indexer] = value instead\n",
      "\n",
      "See the caveats in the documentation: http://pandas.pydata.org/pandas-docs/stable/indexing.html#indexing-view-versus-copy\n",
      "  \"\"\"\n",
      "C:\\ProgramData\\Anaconda3\\lib\\site-packages\\ipykernel_launcher.py:7: SettingWithCopyWarning: \n",
      "A value is trying to be set on a copy of a slice from a DataFrame.\n",
      "Try using .loc[row_indexer,col_indexer] = value instead\n",
      "\n",
      "See the caveats in the documentation: http://pandas.pydata.org/pandas-docs/stable/indexing.html#indexing-view-versus-copy\n",
      "  import sys\n",
      "C:\\ProgramData\\Anaconda3\\lib\\site-packages\\ipykernel_launcher.py:9: SettingWithCopyWarning: \n",
      "A value is trying to be set on a copy of a slice from a DataFrame.\n",
      "Try using .loc[row_indexer,col_indexer] = value instead\n",
      "\n",
      "See the caveats in the documentation: http://pandas.pydata.org/pandas-docs/stable/indexing.html#indexing-view-versus-copy\n",
      "  if __name__ == '__main__':\n"
     ]
    }
   ],
   "source": [
    "#separate pitches based on prediction class for visualization\n",
    "# What might be a reasonable value for bounding break_length ? I picked 100.0\n",
    "df = df[df.break_length <= 100.0] \n",
    "fast_pitches_super_group = df[df.pitch_type.isin(['FC','FF','FS','FT','SI'])]\n",
    "fast_pitches_super_group['grouping'] = 'fast_ball'\n",
    "breaking_pitches_super_group = df[df.pitch_type.isin(['CU', 'KC', 'KN', 'SL', 'SC'])]\n",
    "breaking_pitches_super_group['grouping'] = 'breaking_ball'\n",
    "slow_pitches_super_group = df[df.pitch_type.isin(['CH','EP','FO','PO','IN'])]\n",
    "slow_pitches_super_group['grouping'] = 'slow_ball'\n",
    "visualization_frames = [fast_pitches_super_group, breaking_pitches_super_group, slow_pitches_super_group]\n",
    "df = pd.concat(visualization_frames).sample(frac=1)"
   ]
  },
  {
   "cell_type": "code",
   "execution_count": 56,
   "metadata": {},
   "outputs": [
    {
     "name": "stdout",
     "output_type": "stream",
     "text": [
      "             0         1         2         3         4\n",
      "0     0.387879  0.310185  0.488764  0.503049  0.464536\n",
      "1     0.157576  0.672840  0.775281  0.756098  0.584621\n",
      "2     0.248485  0.439815  0.601124  0.557927  0.389977\n",
      "3     0.278788  0.729938  0.744382  0.740854  0.575892\n",
      "4     0.260606  0.421296  0.730337  0.753049  0.263158\n",
      "5     0.296970  0.233796  0.691011  0.716463  0.601322\n",
      "6     0.224242  0.783179  0.817416  0.765244  0.722100\n",
      "7     0.187879  0.889660  0.879213  0.829268  0.883797\n",
      "8     0.309091  0.664352  0.629213  0.609756  0.473140\n",
      "9     0.212121  0.327160  0.758427  0.722561  0.479846\n",
      "10    0.284848  0.754630  0.853933  0.841463  0.638878\n",
      "11    0.254545  0.684414  0.679775  0.670732  0.528657\n",
      "12    0.375758  0.541667  0.587079  0.570122  0.169980\n",
      "13    0.163636  0.769290  0.775281  0.725610  0.697919\n",
      "14    0.739394  0.391975  0.244382  0.250000  0.316959\n",
      "15    0.254545  0.584877  0.761236  0.750000  0.349760\n",
      "16    0.145455  0.604938  0.738764  0.740854  0.573067\n",
      "17    0.393939  0.310957  0.533708  0.503049  0.426143\n",
      "18    0.200000  0.711420  0.702247  0.676829  0.618461\n",
      "19    0.145455  0.706790  0.755618  0.719512  0.684718\n",
      "20    0.303030  0.402006  0.668539  0.685976  0.235407\n",
      "21    0.406061  0.293210  0.483146  0.475610  0.505513\n",
      "22    0.600000  0.521605  0.247191  0.256098  0.078250\n",
      "23    0.424242  0.472222  0.474719  0.466463  0.069009\n",
      "24    0.563636  0.606481  0.292135  0.286585  0.340429\n",
      "25    0.157576  0.402778  0.851124  0.814024  0.445043\n",
      "26    0.345455  0.724537  0.601124  0.573171  0.610184\n",
      "27    0.157576  0.654321  0.741573  0.734756  0.584682\n",
      "28    0.151515  0.555556  0.865169  0.823171  0.504499\n",
      "29    0.139394  0.719136  0.935393  0.923780  0.623918\n",
      "...        ...       ...       ...       ...       ...\n",
      "2970  0.375758  0.615741  0.609551  0.631098  0.356146\n",
      "2971  0.127273  0.422840  0.867978  0.853659  0.510012\n",
      "2972  0.357576  0.722994  0.471910  0.432927  0.634307\n",
      "2973  0.321212  0.771605  0.853933  0.820122  0.670495\n",
      "2974  0.539394  0.585648  0.379213  0.344512  0.263794\n",
      "2975  0.284848  0.756944  0.744382  0.698171  0.618833\n",
      "2976  0.678788  0.438272  0.337079  0.326220  0.255031\n",
      "2977  0.109091  0.728395  0.898876  0.875000  0.677125\n",
      "2978  0.218182  0.675154  0.632022  0.612805  0.586125\n",
      "2979  0.284848  0.709877  0.643258  0.652439  0.609903\n",
      "2980  0.260606  0.515432  0.685393  0.682927  0.303337\n",
      "2981  0.193939  0.557099  0.702247  0.722561  0.462946\n",
      "2982  0.757576  0.578704  0.176966  0.189024  0.364187\n",
      "2983  0.290909  0.708333  0.778090  0.762195  0.542919\n",
      "2984  0.072727  0.466049  0.814607  0.759146  0.640872\n",
      "2985  0.387879  0.759259  0.685393  0.661585  0.720013\n",
      "2986  0.175758  0.716821  0.783708  0.731707  0.642178\n",
      "2987  0.212121  0.197531  0.803371  0.786585  0.682669\n",
      "2988  0.115152  0.709877  0.831461  0.807927  0.692977\n",
      "2989  0.351515  0.683642  0.528090  0.524390  0.559149\n",
      "2990  0.345455  0.487654  0.511236  0.539634  0.234170\n",
      "2991  0.375758  0.387346  0.603933  0.539634  0.233899\n",
      "2992  0.236364  0.721451  0.837079  0.823171  0.574507\n",
      "2993  0.284848  0.641975  0.511236  0.515244  0.505533\n",
      "2994  0.339394  0.351080  0.561798  0.579268  0.355455\n",
      "2995  0.096970  0.751543  0.887640  0.865854  0.723368\n",
      "2996  0.212121  0.570216  0.750000  0.765244  0.411317\n",
      "2997  0.121212  0.648148  0.612360  0.600610  0.697143\n",
      "2998  0.163636  0.672840  0.780899  0.753049  0.597697\n",
      "2999  0.109091  0.712191  0.879213  0.859756  0.678601\n",
      "\n",
      "[3000 rows x 5 columns]\n"
     ]
    }
   ],
   "source": [
    "df_scaled = df[['break_length','break_angle','start_speed', 'end_speed','spin_rate']].head(3000)\n",
    "#df_scaled = df_scaled[df_scaled.break_length ==  (df_scaled.break_length - df_scaled[['break_length']].min)/\n",
    "#                     (df_scaled[['break_length']].max - df_scaled[['break_length']].min)] \n",
    "#\n",
    "#df_scaled = df_scaled[df_scaled.break_angle ==  (df_scaled.break_angle - df_scaled[['break_angle']].min)/\n",
    "#                     (df_scaled[['break_angle']].max - df_scaled[['break_angle']].min)] \n",
    "#\n",
    "#df_scaled = df_scaled[df_scaled.start_speed ==  (df_scaled.start_speed - df_scaled[['start_speed']].min)/\n",
    "#                     (df_scaled[['start_speed']].max - df_scaled[['start_speed']].min)] \n",
    "#\n",
    "#df_scaled = df_scaled[df_scaled.end_speed ==  (df_scaled.end_speed - df_scaled[['end_speed']].min)/\n",
    "#                     (df_scaled[['end_speed']].max - df_scaled[['end_speed']].min)] \n",
    "#\n",
    "#df_scaled = df_scaled[df_scaled.spin_rate ==  (df_scaled.spin_rate - df_scaled[['spin_rate']].min)/\n",
    "#                    (df_scaled[['spin_rate']].max - df_scaled[['spin_rate']].min)] \n",
    "\n",
    "from sklearn import preprocessing\n",
    "\n",
    "x = df_scaled.values #returns a numpy array\n",
    "min_max_scaler = preprocessing.MinMaxScaler()\n",
    "x_scaled = min_max_scaler.fit_transform(x)\n",
    "df_scaled = pd.DataFrame(x_scaled)\n",
    "print(df_scaled)"
   ]
  },
  {
   "cell_type": "code",
   "execution_count": 16,
   "metadata": {},
   "outputs": [],
   "source": [
    "import numpy as np\n",
    "import pandas as pd\n",
    "from scipy.special import expit\n",
    "\n",
    "class MultiLayerPerceptronBase(object):\n",
    "    def __init__(self, layer_widths=[20,3,3],\n",
    "                 C=0.3, epochs=5000, eta=0.0001, random_state=None):\n",
    "        np.random.seed(random_state)\n",
    "        self.l2_C = C\n",
    "        self.epochs = epochs\n",
    "        self.eta = eta\n",
    "        self.weights = []\n",
    "        self.layer_widths=layer_widths\n",
    "        \n",
    "    @staticmethod\n",
    "    def _encode_labels(y):\n",
    "        \"\"\"Encode labels into one-hot representation\"\"\"\n",
    "        onehot = pd.get_dummies(y).values.T\n",
    "        return onehot\n",
    "\n",
    "    def _initialize_weights(self):\n",
    "        \"\"\"Initialize weights with small random numbers.\"\"\"\n",
    "        \n",
    "        for idx, w in enumerate(self.layer_widths[:-1]):\n",
    "            W_element_count = ((w + 1) * self.layer_widths[idx+1])\n",
    "            W = np.random.uniform(-1,1, size = W_element_count)\n",
    "            W.reshape((self.layer_widths[idx+1], -1))\n",
    "            self.weights.append(W.reshape((self.layer_widths[idx+1], -1))) \n",
    "         \n",
    "        for w in self.weights:\n",
    "             print(w.shape)\n",
    "            \n",
    "    @staticmethod\n",
    "    def _sigmoid(z):\n",
    "        \"\"\"Use scipy.special.expit to avoid overflow\"\"\"\n",
    "        # 1.0 / (1.0 + np.exp(-z))\n",
    "        return expit(z)\n",
    "    \n",
    "    def _derive_activations(self, a, w, v, t=\"sigmoid\"):\n",
    "        if t == \"sigmoid\": \n",
    "#             print(a.shape, w.shape, v.shape)\n",
    "            return (a*(1-a) * (w[:,1:].T @ v[1:,:]))\n",
    "        \n",
    "        if t == \"relu\": \n",
    "#             print(a.shape, w.shape, v.shape)\n",
    "            temp = np.maximum(0,a.copy())\n",
    "            return (temp * (w[:,1:].T @ v[1:,:]))\n",
    "\n",
    "    \n",
    "    def _derive_objective(self, y, a, t=\"mse\"):\n",
    "        if t == \"mse\":\n",
    "            return -2*(y-a)*a*(1-a)\n",
    "    \n",
    "    @staticmethod\n",
    "    def _add_bias_unit(X, how='column'):\n",
    "        \"\"\"Add bias unit (column or row of 1s) to array at index 0\"\"\"\n",
    "        if how == 'column':\n",
    "            ones = np.ones((X.shape[0], 1))\n",
    "            X_new = np.hstack((ones, X))\n",
    "        elif how == 'row':\n",
    "            ones = np.ones((1, X.shape[1]))\n",
    "            X_new = np.vstack((ones, X))\n",
    "        return X_new\n",
    "    \n",
    "    def _L2_reg(self, lambda_):\n",
    "        \"\"\"Compute L2-regularization cost\"\"\"\n",
    "        # only compute for non-bias terms    \n",
    "        s = 0\n",
    "        for w in self.weights:\n",
    "            s += np.mean(w[:, 1:] **2)\n",
    "        return (lambda_/len(self.weights)) * np.sqrt(s)\n",
    "    \n",
    "    def _cost(self,A,Y_enc):\n",
    "        '''Get the objective function value'''\n",
    "        cost = np.mean((Y_enc-A[-1])**2)\n",
    "        L2_term = self._L2_reg(self.l2_C)\n",
    "        return cost + L2_term"
   ]
  },
  {
   "cell_type": "code",
   "execution_count": 3,
   "metadata": {},
   "outputs": [],
   "source": [
    "class MultiLayerPerceptron(MultiLayerPerceptronBase):\n",
    "    def _feedforward(self, X):\n",
    "        Z = []\n",
    "        A = []\n",
    "        x = X.copy()\n",
    "        for idx, w in enumerate(self.weights):\n",
    "            if idx != 0:\n",
    "                a_l = self._sigmoid(Z[-1])\n",
    "                a_l = self._add_bias_unit(a_l, how = \"row\")\n",
    "            else:\n",
    "                a_l = self._add_bias_unit(x.T, how=\"row\")\n",
    "            A.append(a_l)\n",
    "            z_l = w @ a_l\n",
    "            Z.append(z_l)\n",
    "        a_l = self._sigmoid(Z[-1])\n",
    "        A.append(a_l)\n",
    "        return A, Z\n",
    "    def _get_gradient(self, A, y_enc):\n",
    "        gradients = []\n",
    "        V = []\n",
    "        for idx in range(len(self.weights), 0, -1):\n",
    "            if idx == len(self.weights):\n",
    "                v_l = -2 * (y_enc - A[idx]) * A[idx]*(1-A[idx])\n",
    "                V.append(v_l)\n",
    "                grad = v_l @ A[idx-1].T\n",
    "                grad[:, 1:] += self.weights[idx-1][:, 1:] * self.l2_C\n",
    "                gradients.append(grad)\n",
    "            else:\n",
    "                v_l = A[idx]*(1-A[idx])*(self.weights[idx].T @ V[-1])\n",
    "                V.append(v_l[1:, :])\n",
    "                \n",
    "                grad = v_l[1:, :] @ A[idx-1].T\n",
    "                \n",
    "                grad[:, 1:] += self.weights[idx-1][:, 1:] * self.l2_C\n",
    "                gradients.append(grad)\n",
    "        return list(reversed(gradients))\n",
    "    def predict(self, X):\n",
    "        A, _ = self._feedforward(X)\n",
    "        y_pred = np.argmax(A[-1], axis=0)\n",
    "        return y_pred\n",
    "    def fit(self, X, y, print_progress = False):\n",
    "        X_data, y_data = X.copy(), y.copy()\n",
    "        Y_enc = self._encode_labels(y)\n",
    "        \n",
    "        #init weights and set up matrices\n",
    "        self._initialize_weights()\n",
    "        \n",
    "        self.cost = []\n",
    "        for i in range(self.epochs):\n",
    "            if print_progress>0 and (i+1)%print_progress==0:\n",
    "                sys.stderr.write('\\rEpoch: %d/%d' % (i+1, self.epochs))\n",
    "                sys.stderr.flush()\n",
    "                \n",
    "            A, Z = self._feedforward(X)\n",
    "            \n",
    "            cost = self._cost(A[-1], Y_enc)\n",
    "            self.cost.append(cost)\n",
    "            \n",
    "            grads = self._get_gradient(A, Y_enc)\n",
    "            \n",
    "            for w, g in zip(self.weights, grads):\n",
    "                w -= self.eta * g\n",
    "        return self"
   ]
  },
  {
   "cell_type": "code",
   "execution_count": 4,
   "metadata": {},
   "outputs": [
    {
     "name": "stdout",
     "output_type": "stream",
     "text": [
      "(1797, 64)\n",
      "(1797,)\n",
      "-0.5 0.5\n",
      "[0 1 2 3 4 5 6 7 8 9]\n"
     ]
    }
   ],
   "source": [
    "# lets load up the handwritten digit dataset\n",
    "from sklearn.datasets import load_digits\n",
    "from sklearn.metrics import accuracy_score\n",
    "from sklearn.preprocessing import StandardScaler\n",
    "import numpy as np\n",
    "\n",
    "ds = load_digits()\n",
    "X = ds.data/16.0-0.5\n",
    "y = ds.target\n",
    "\n",
    "print(X.shape)\n",
    "print(y.shape)\n",
    "print(np.min(X),np.max(X))\n",
    "print(np.unique(y))"
   ]
  },
  {
   "cell_type": "code",
   "execution_count": 5,
   "metadata": {},
   "outputs": [
    {
     "data": {
      "image/png": "[encoded data removed]",
      "text/plain": [
       "<Figure size 432x288 with 10 Axes>"
      ]
     },
     "metadata": {},
     "output_type": "display_data"
    }
   ],
   "source": [
    "import matplotlib.pyplot as plt\n",
    "%matplotlib inline\n",
    "\n",
    "fig, ax = plt.subplots(nrows=2, ncols=5, sharex=True, sharey=True,)\n",
    "ax = ax.flatten()\n",
    "for i in range(10):\n",
    "    img = X[y == i][0].reshape(8, 8)\n",
    "    ax[i].imshow(img, cmap='Greys', interpolation='nearest')\n",
    "\n",
    "ax[0].set_xticks([])\n",
    "ax[0].set_yticks([])\n",
    "plt.tight_layout()\n",
    "plt.show()"
   ]
  },
  {
   "cell_type": "code",
   "execution_count": 6,
   "metadata": {},
   "outputs": [
    {
     "data": {
      "image/png": "[encoded data removed]",
      "text/plain": [
       "<Figure size 432x288 with 25 Axes>"
      ]
     },
     "metadata": {},
     "output_type": "display_data"
    }
   ],
   "source": [
    "fig, ax = plt.subplots(nrows=5, ncols=5, sharex=True, sharey=True,)\n",
    "ax = ax.flatten()\n",
    "digit = 7\n",
    "x_digits = X[y == digit]\n",
    "for i in range(25):\n",
    "    img = x_digits[i].reshape(8, 8)\n",
    "    ax[i].imshow(img, cmap='Greys', interpolation='nearest')\n",
    "\n",
    "ax[0].set_xticks([])\n",
    "ax[0].set_yticks([])\n",
    "plt.tight_layout()\n",
    "plt.show()"
   ]
  },
  {
   "cell_type": "code",
   "execution_count": 7,
   "metadata": {},
   "outputs": [
    {
     "name": "stdout",
     "output_type": "stream",
     "text": [
      "(1437, 64)\n",
      "(1437,)\n",
      "(360, 64)\n",
      "(360,)\n"
     ]
    }
   ],
   "source": [
    "from sklearn.model_selection import train_test_split\n",
    "\n",
    "X_train, X_test, y_train, y_test = train_test_split(X,y,test_size = 0.2)\n",
    "print(X_train.shape)\n",
    "print(y_train.shape)\n",
    "print(X_test.shape)\n",
    "print(y_test.shape)"
   ]
  },
  {
   "cell_type": "code",
   "execution_count": 17,
   "metadata": {},
   "outputs": [
    {
     "name": "stdout",
     "output_type": "stream",
     "text": [
      "(40, 65)\n",
      "(20, 41)\n",
      "(10, 21)\n",
      "Test acc: 0.9833333333333333\n"
     ]
    }
   ],
   "source": [
    "import sys\n",
    "nn = MultiLayerPerceptron([64, 40, 20, 10], 0.5, 500, 0.001, None)\n",
    "nn.fit(X_train, y_train, print_progress=False)\n",
    "yhat = nn.predict(X_test)\n",
    "print('Test acc:',accuracy_score(y_test,yhat))"
   ]
  },
  {
   "cell_type": "code",
   "execution_count": 18,
   "metadata": {},
   "outputs": [
    {
     "data": {
      "image/png": "[encoded data removed]",
      "text/plain": [
       "<Figure size 432x288 with 1 Axes>"
      ]
     },
     "metadata": {
      "needs_background": "light"
     },
     "output_type": "display_data"
    }
   ],
   "source": [
    "plt.plot(range(len(nn.cost)), nn.cost)\n",
    "plt.ylabel('Cost')\n",
    "plt.xlabel('Epochs')\n",
    "plt.tight_layout()\n"
   ]
  },
  {
   "cell_type": "code",
   "execution_count": 93,
   "metadata": {},
   "outputs": [],
   "source": [
    "X_train, X_test, y_train, y_test = train_test_split(df_scaled, df.grouping.head(3000),\n",
    "                                     test_size=.2, random_state=42)"
   ]
  },
  {
   "cell_type": "code",
   "execution_count": 94,
   "metadata": {},
   "outputs": [
    {
     "name": "stdout",
     "output_type": "stream",
     "text": [
      "(40, 6)\n",
      "(50, 41)\n",
      "(3, 51)\n",
      "Test acc: 0.0\n"
     ]
    }
   ],
   "source": [
    "nn = MultiLayerPerceptron([5, 40,50, 3], 0.1, 500, 0.001, None)\n",
    "nn.fit(X_train, y_train, print_progress=False)\n",
    "yhat = nn.predict(X_test)\n",
    "print('Test acc:',accuracy_score(y_test,yhat))"
   ]
  },
  {
   "cell_type": "code",
   "execution_count": null,
   "metadata": {},
   "outputs": [],
   "source": []
  }
 ],
 "metadata": {
  "kernelspec": {
   "display_name": "Python 3",
   "language": "python",
   "name": "python3"
  },
  "language_info": {
   "codemirror_mode": {
    "name": "ipython",
    "version": 3
   },
   "file_extension": ".py",
   "mimetype": "text/x-python",
   "name": "python",
   "nbconvert_exporter": "python",
   "pygments_lexer": "ipython3",
   "version": "3.6.7"
  }
 },
 "nbformat": 4,
 "nbformat_minor": 2
}
