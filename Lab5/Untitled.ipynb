{
 "cells": [
  {
   "cell_type": "markdown",
   "metadata": {},
   "source": [
    "# Wide and Deep networks\n",
    "\n",
    "Muralidhar Madabhushi Balaji and Rick Simon\n",
    "\n",
    "# 1.0 Data Understanding\n",
    "\n",
    "We had little missing data(based on the count of each feature). We found that only the \"Code\" feature had missing values. We decided not to interpolate these values, as the code is nominal data, and the result of the ensuing play after each pitch is not something we thought was wise to interpolate. We have more than enough data without these rows anyway.\n",
    "    \n",
    "Even with a mostly pristine dataset, we still had some housekeeping items to take care of.\n",
    "    \n",
    "* The first bit of data cleanup we did is to get rid of duplicate rows.<br> Even without the unique identifier, there is a sufficient number of features, many of which relate to the state of the ball game, to determine if an entry is a duplicate.<br> The probability of each and every feature being identical for 2 seperate pitches,especially considering some of the data is unrelated to the actual throw,<br> is incredibly low.\n",
    "        \n",
    "* The next important step we took to groom out dataset is to remove pitches where the prediction class is listed as unknown, or where it was listed as 'FA'.<br> While the data itself was in great condition as is, the overview written by the data aggregator wasn't quite as outstanding. <br>This value('FA') wasn't found in the key that was provided to translate the pitch_type codes into their real-world values, so we dropped this data.<br> Likewise, we dropped all unknown prediction classes, as it's an incorrect practice to interpolate this data.\n",
    "        \n",
    "       \n",
    "* Next, we removed outliers in the data. It isn't always easy to differentiate true outliers from valuable data points that happen to be unusual.<br> Luckily, some of the features had very obvious outliers well over 10 times the standard deviation apart from the mean. <br> After some tweaking of the parameters,<br> we found that removing any value more than 12 standard deviations away from the mean produced acceptable numbers that make<br> sense in the context of the business case.We enlisted the advice of a subject matter expert to help us decide on what summary statistics look most realistic.\n",
    "      \n",
    "\n",
    "* Finally, we removed any data points that the classifiers were not fully confident in. <br>Fortunately, the curators of this data provided a confidence interval that we could use to remove pitches that were 'guesses' of sorts. <br>This is helpful because we can train a prediction model based only on data that is concrete.<br> We also removed any values that were missing in this step, as we have sufficient data to do so, and interpolating this data can be difficult.\n",
    "    \n"
   ]
  },
  {
   "cell_type": "markdown",
   "metadata": {},
   "source": [
    "The dataset consists of 39 attributes and 15 prediction classes describing the information of the pitch thrown. We removed data of five prediction classes ('UN','FA', 'SC', 'FO', 'EP') as these are significantly lower and extremely rare pitches. Of these 39 attributes, we have chosen 23 attributes that are most likely candidates to use for the classification task. The important numeric features among these are: <br><br>1. Break length <br>2. Break angle <br>3. Start speed <br>4. End speed <br>5. Spin rate <br>6. Pitch Number <br>7. ax <br> 8. ay <br> 9. az <br> 10. Nasty <br> 11. x <br> 12. y<br><br>\n",
    "The important categorical features among these are:<br><br> 1. on_1b <br> 2. on_2b <br> 3. on_3b <br> 4. outs <br> 5. s_count and <br> 6. b_count\n",
    "\n"
   ]
  },
  {
   "cell_type": "code",
   "execution_count": 1,
   "metadata": {},
   "outputs": [],
   "source": [
    "import pandas as pd\n",
    "import numpy as np\n",
    "from sklearn.preprocessing import OneHotEncoder\n",
    "from sklearn.model_selection import train_test_split\n",
    "\n",
    "df = pd.read_csv(\"../pitches.csv\")\n"
   ]
  },
  {
   "cell_type": "code",
   "execution_count": 2,
   "metadata": {},
   "outputs": [],
   "source": [
    "from sklearn.preprocessing import LabelEncoder\n",
    "#drop unkown prediction classes and prediction classes with no definition from data source\n",
    "df.drop_duplicates(inplace=True)\n",
    "df = df[df.pitch_type != 'UN']\n",
    "df = df[df.pitch_type != 'FA']\n",
    "df = df[df.pitch_type != 'SC']\n",
    "df = df[df.pitch_type != 'FO']\n",
    "df = df[df.pitch_type != 'EP']\n",
    "\n",
    "\n",
    "\n",
    "\n",
    "features = ['break_angle', 'break_length', 'end_speed', 'start_speed', 'spin_rate', 'pitch_num',\n",
    "           'ax', 'ay', 'az', 'nasty', 'sz_bot', 'sz_top', 'vx0', 'vy0', 'vz0', 'x', 'y']\n",
    "categorical_features = ['on_1b', 'on_2b', 'on_3b', 'outs', 's_count', 'b_count']\n",
    "\n",
    "#remove wild pitches or intentional walks as break length outliers. Code sourced from https://stackoverflow.com/questions/23199796/detect-and-exclude-outliers-in-pandas-data-frame\n",
    "for feature in features:\n",
    "    if feature != 'pitch_type':\n",
    "        df = df[np.abs(df[feature]-df[feature].mean()) <= (12*df[feature].std())]\n",
    "\n",
    "#drop data points where prediction class is unreliable\n",
    "df = df[df.type_confidence >= 1.0]\n",
    "\n",
    "#Drop any data with incomplete records\n",
    "df.dropna(inplace=True)\n",
    "#normalize angles from -1 to 1 to avoid neuron saturation\n",
    "df['break_angle']/=180"
   ]
  },
  {
   "cell_type": "code",
   "execution_count": 3,
   "metadata": {},
   "outputs": [
    {
     "name": "stdout",
     "output_type": "stream",
     "text": [
      "Index(['ab_id', 'ax', 'ay', 'az', 'b_count', 'b_score', 'break_angle',\n",
      "       'break_length', 'break_y', 'code', 'end_speed', 'nasty', 'on_1b',\n",
      "       'on_2b', 'on_3b', 'outs', 'pfx_x', 'pfx_z', 'pitch_num', 'pitch_type',\n",
      "       'px', 'pz', 's_count', 'spin_dir', 'spin_rate', 'start_speed', 'sz_bot',\n",
      "       'sz_top', 'type', 'type_confidence', 'vx0', 'vy0', 'vz0', 'x', 'x0',\n",
      "       'y', 'y0', 'z0', 'zone'],\n",
      "      dtype='object')\n"
     ]
    }
   ],
   "source": [
    "print(df.columns)"
   ]
  },
  {
   "cell_type": "markdown",
   "metadata": {},
   "source": [
    "# Accuracy Metric\n",
    "\n",
    "\n",
    "We have used weighted averaging as the accuracy metric. To accomplish this, we have calculated the percentage of classes in the training set and used the inverse of percentages as weights."
   ]
  },
  {
   "cell_type": "code",
   "execution_count": 4,
   "metadata": {},
   "outputs": [
    {
     "name": "stderr",
     "output_type": "stream",
     "text": [
      "/home/rasimon/.local/lib/python3.6/site-packages/sklearn/preprocessing/_encoders.py:368: FutureWarning: The handling of integer data will change in version 0.22. Currently, the categories are determined based on the range [0, max(values)], while in the future they will be determined based on the unique values.\n",
      "If you want the future behaviour and silence this warning, you can specify \"categories='auto'\".\n",
      "In case you used a LabelEncoder before this OneHotEncoder to convert the categories to integers, then you can now use the OneHotEncoder directly.\n",
      "  warnings.warn(msg, FutureWarning)\n"
     ]
    },
    {
     "name": "stdout",
     "output_type": "stream",
     "text": [
      "<class 'scipy.sparse.csr.csr_matrix'>\n"
     ]
    },
    {
     "name": "stderr",
     "output_type": "stream",
     "text": [
      "/home/rasimon/.local/lib/python3.6/site-packages/sklearn/preprocessing/data.py:625: DataConversionWarning: Data with input dtype int64, float64 were all converted to float64 by StandardScaler.\n",
      "  return self.partial_fit(X, y)\n",
      "/home/rasimon/.local/lib/python3.6/site-packages/sklearn/base.py:462: DataConversionWarning: Data with input dtype int64, float64 were all converted to float64 by StandardScaler.\n",
      "  return self.fit(X, **fit_params).transform(X)\n",
      "/home/rasimon/.local/lib/python3.6/site-packages/sklearn/preprocessing/data.py:625: DataConversionWarning: Data with input dtype int64, float64 were all converted to float64 by StandardScaler.\n",
      "  return self.partial_fit(X, y)\n",
      "/home/rasimon/.local/lib/python3.6/site-packages/sklearn/base.py:462: DataConversionWarning: Data with input dtype int64, float64 were all converted to float64 by StandardScaler.\n",
      "  return self.fit(X, **fit_params).transform(X)\n"
     ]
    },
    {
     "name": "stdout",
     "output_type": "stream",
     "text": [
      "{\n",
      "  \"type_CH\": 9.610044998839465,\n",
      "  \"type_CU\": 12.044593339151488,\n",
      "  \"type_FC\": 18.936382413691355,\n",
      "  \"type_FF\": 2.817787847254238,\n",
      "  \"type_FS\": 63.67870609247867,\n",
      "  \"type_FT\": 8.588899744375594,\n",
      "  \"type_KC\": 40.391100481480315,\n",
      "  \"type_KN\": 384.74460431654677,\n",
      "  \"type_SI\": 11.91058072418849,\n",
      "  \"type_SL\": 6.181558985720133\n",
      "}\n",
      "done\n"
     ]
    },
    {
     "data": {
      "text/plain": [
       "47"
      ]
     },
     "execution_count": 4,
     "metadata": {},
     "output_type": "execute_result"
    }
   ],
   "source": [
    "from sklearn.preprocessing import StandardScaler\n",
    "import json\n",
    "import gc\n",
    "scaler = StandardScaler()\n",
    "ohe = OneHotEncoder()\n",
    "X = df\n",
    "y = pd.get_dummies(df['pitch_type'],prefix='type')\n",
    "\n",
    "\n",
    "X_train, X_test, y_train, y_test = train_test_split(X, y, test_size = .25, random_state=None)\n",
    "\n",
    "X_train_ohe = ohe.fit_transform(X_train[categorical_features])\n",
    "print(type(X_train_ohe))\n",
    "X_test_ohe = ohe.transform(X_test[categorical_features])\n",
    "\n",
    "X_train = X_train[features]\n",
    "X_test = X_test[features]\n",
    "\n",
    "scaler.fit_transform(X_train)\n",
    "scaler.fit_transform(X_test)\n",
    "testing_weights = {}\n",
    "weights = []\n",
    "for col in y_test.columns:\n",
    "    testing_weights[col] = 1/(len(y_train[y_train[col] == 1]) / len(y_train))\n",
    "print(json.dumps(testing_weights, indent=2))\n",
    "for _, row in y_test.iterrows():\n",
    "    for col in testing_weights.keys():\n",
    "        if row[col] == 1:\n",
    "            weights.append(testing_weights[col])\n",
    "print(\"done\")\n",
    "for i in weights:\n",
    "    if i > 100:\n",
    "        i = 100\n",
    "del testing_weights\n",
    "gc.collect()"
   ]
  },
  {
   "cell_type": "markdown",
   "metadata": {},
   "source": [
    "The dataset consists 15 prediction classes describing the information of the pitch thrown. The prediction classes are as follows: <br><br>1. FC – Cutter <br> 2. FF – Four Seam Fastball <br> 3. FS – Splitter <br> 4. FT – Two Seam Fastball <br> 5. SI – Sinker <br> 6. CU – Curveball <br> 7. KC – Knuckle Curve <br> 8. KN – Knuckleball <br> 9. SL – Slider <br> 10. SC - Screwball <br> 11. CH – Changeup <br> 12. EP – Eephus <br> 13. FO – Pitchout <br> 14. PO – Pitchout <br> 15. IN – Intentional Ball\n",
    "\n"
   ]
  },
  {
   "cell_type": "markdown",
   "metadata": {},
   "source": [
    "# 1.1 Wide and Deep Network\n",
    "\n",
    "We have used a wide network of 1 fully connected layer with relu activation and a dense nework of 5-layers with ReLu activation and an output layer with signoid activation. Although we used a wide network for this task, we do not anticipate it having large impact here. The reason for that is that most of the data that would help in the classification of pitch is numeric and not categorical. We could only find 5 categorical variables that might be useful in classification ( 'on_1b', 'on_2b', 'on_3b' ). These represent the state of the game and the hope is that if the current ball is hit (as informed by the state of the game) it would possibly favor the judgement of the next pitch to be something different. The hope is that the embeddings and wide layer might be able to memorize this. But, barring this, we do not have any reasonable categorical attributes in the dataset that might be useful for this task."
   ]
  },
  {
   "cell_type": "code",
   "execution_count": 27,
   "metadata": {},
   "outputs": [
    {
     "name": "stdout",
     "output_type": "stream",
     "text": [
      "__________________________________________________________________________________________________\n",
      "Layer (type)                    Output Shape         Param #     Connected to                     \n",
      "==================================================================================================\n",
      "input_18 (InputLayer)           (None, 17)           0                                            \n",
      "__________________________________________________________________________________________________\n",
      "dense_94 (Dense)                (None, 34)           612         input_18[0][0]                   \n",
      "__________________________________________________________________________________________________\n",
      "dense_95 (Dense)                (None, 30)           1050        dense_94[0][0]                   \n",
      "__________________________________________________________________________________________________\n",
      "dense_96 (Dense)                (None, 27)           837         dense_95[0][0]                   \n",
      "__________________________________________________________________________________________________\n",
      "dropout_29 (Dropout)            (None, 27)           0           dense_96[0][0]                   \n",
      "__________________________________________________________________________________________________\n",
      "dense_97 (Dense)                (None, 19)           532         dropout_29[0][0]                 \n",
      "__________________________________________________________________________________________________\n",
      "dropout_30 (Dropout)            (None, 19)           0           dense_97[0][0]                   \n",
      "__________________________________________________________________________________________________\n",
      "dense_98 (Dense)                (None, 15)           300         dropout_30[0][0]                 \n",
      "__________________________________________________________________________________________________\n",
      "input_19 (InputLayer)           (None, 17)           0                                            \n",
      "__________________________________________________________________________________________________\n",
      "dropout_31 (Dropout)            (None, 15)           0           dense_98[0][0]                   \n",
      "__________________________________________________________________________________________________\n",
      "dense_93 (Dense)                (None, 3)            54          input_19[0][0]                   \n",
      "__________________________________________________________________________________________________\n",
      "dense_99 (Dense)                (None, 13)           208         dropout_31[0][0]                 \n",
      "__________________________________________________________________________________________________\n",
      "concat_1 (Concatenate)          (None, 16)           0           dense_93[0][0]                   \n",
      "                                                                 dense_99[0][0]                   \n",
      "__________________________________________________________________________________________________\n",
      "dropout_32 (Dropout)            (None, 16)           0           concat_1[0][0]                   \n",
      "__________________________________________________________________________________________________\n",
      "combined (Dense)                (None, 10)           170         dropout_32[0][0]                 \n",
      "==================================================================================================\n",
      "Total params: 3,763\n",
      "Trainable params: 3,763\n",
      "Non-trainable params: 0\n",
      "__________________________________________________________________________________________________\n"
     ]
    }
   ],
   "source": [
    "from keras.layers import Dense, Activation, Input, Dropout\n",
    "from keras.layers import Embedding, Flatten, concatenate\n",
    "from keras.models import Model\n",
    "from sklearn.preprocessing import StandardScaler\n",
    "\n",
    "inputs = Input(shape=(X_train[features].shape[1],))\n",
    "inputs_wide = Input(shape=(X_train_ohe.shape[1],))\n",
    "output_wide = Dense(units=3, activation='relu')(inputs_wide)\n",
    "\n",
    "\n",
    "x = Dense(units=34, activation='relu')(inputs)\n",
    "x = Dense(units=30, activation='relu')(x)\n",
    "x = Dense(units=27, activation='relu')(x)\n",
    "x = Dropout(.25)(x)\n",
    "x = Dense(units=19, activation='relu')(x)\n",
    "x = Dropout(.25)(x)\n",
    "x = Dense(units=15, activation='relu')(x)\n",
    "x = Dropout(.25)(x)\n",
    "output_deep = Dense(13, activation ='sigmoid')(x)\n",
    "\n",
    "final_branch = concatenate([output_wide, output_deep], name='concat_1')\n",
    "final_branch = Dropout(.3)(final_branch)\n",
    "final_branch = Dense(units=10, activation='softmax', name = 'combined')(final_branch)\n",
    "\n",
    "model = Model(inputs = [inputs, inputs_wide], outputs = final_branch)\n",
    "model.compile(optimizer='adam', loss = 'mean_squared_error', metrics=['accuracy'])\n",
    "model.summary()\n",
    "\n"
   ]
  },
  {
   "cell_type": "code",
   "execution_count": 7,
   "metadata": {},
   "outputs": [
    {
     "name": "stdout",
     "output_type": "stream",
     "text": [
      "Epoch 1/10\n",
      "1283508/1283508 [==============================] - 130s 101us/step - loss: 0.0596 - acc: 0.5618\n",
      "Epoch 2/10\n",
      "1283508/1283508 [==============================] - 94s 74us/step - loss: 0.0507 - acc: 0.6325\n",
      "Epoch 3/10\n",
      "1283508/1283508 [==============================] - 82s 64us/step - loss: 0.0497 - acc: 0.6407\n",
      "Epoch 4/10\n",
      "1283508/1283508 [==============================] - 74s 58us/step - loss: 0.0493 - acc: 0.6461\n",
      "Epoch 5/10\n",
      "1283508/1283508 [==============================] - 71s 55us/step - loss: 0.0492 - acc: 0.6485\n",
      "Epoch 6/10\n",
      "1283508/1283508 [==============================] - 70s 54us/step - loss: 0.0476 - acc: 0.6615\n",
      "Epoch 7/10\n",
      "1283508/1283508 [==============================] - 68s 53us/step - loss: 0.0477 - acc: 0.6617\n",
      "Epoch 8/10\n",
      "1283508/1283508 [==============================] - 68s 53us/step - loss: 0.0474 - acc: 0.6645\n",
      "Epoch 9/10\n",
      "1283508/1283508 [==============================] - 67s 52us/step - loss: 0.0480 - acc: 0.6589\n",
      "Epoch 10/10\n",
      "1283508/1283508 [==============================] - 67s 53us/step - loss: 0.0472 - acc: 0.6649\n"
     ]
    }
   ],
   "source": [
    "history = model.fit([X_train, X_train_ohe] ,y_train, epochs=10, batch_size=50, verbose=1)"
   ]
  },
  {
   "cell_type": "code",
   "execution_count": 11,
   "metadata": {},
   "outputs": [
    {
     "data": {
      "image/png": "[encoded data removed]",
      "text/plain": [
       "<Figure size 432x288 with 1 Axes>"
      ]
     },
     "metadata": {
      "needs_background": "light"
     },
     "output_type": "display_data"
    }
   ],
   "source": [
    "import matplotlib.pyplot as plt\n",
    "training_loss = history.history['loss']\n",
    "test_loss = history.history['acc']\n",
    "\n",
    "epoch_count = range(1, len(training_loss) + 1)\n",
    "\n",
    "plt.plot(epoch_count, training_loss, 'r--')\n",
    "plt.plot(epoch_count, test_loss, 'b-')\n",
    "plt.legend(['Training Loss', 'Test Loss'])\n",
    "plt.xlabel('Epoch')\n",
    "plt.ylabel('Loss')\n",
    "plt.show()\n"
   ]
  },
  {
   "cell_type": "markdown",
   "metadata": {},
   "source": [
    "We are not sure why the loss with test data keeps increasing. One of the hypothesis we had was that we overfit. Although this is unlikely (since we used dropout and ran for very few epochs) due to having dense layers we thought it could be a factor. Hence, we decided to reduce the total number of layers.  And this is clearly seen in the weighted accuracy that we obtained which was only 35%"
   ]
  },
  {
   "cell_type": "code",
   "execution_count": 12,
   "metadata": {},
   "outputs": [
    {
     "name": "stdout",
     "output_type": "stream",
     "text": [
      "0.3499446289538348\n"
     ]
    }
   ],
   "source": [
    "\n",
    "from sklearn import metrics as mt\n",
    "\n",
    "yhat_proba = model.predict([X_test, X_test_ohe])\n",
    "yhat = np.round(yhat_proba)\n",
    "print(mt.accuracy_score(y_test, yhat,sample_weight=weights))"
   ]
  },
  {
   "cell_type": "code",
   "execution_count": 40,
   "metadata": {},
   "outputs": [
    {
     "name": "stdout",
     "output_type": "stream",
     "text": [
      "__________________________________________________________________________________________________\n",
      "Layer (type)                    Output Shape         Param #     Connected to                     \n",
      "==================================================================================================\n",
      "input_44 (InputLayer)           (None, 17)           0                                            \n",
      "__________________________________________________________________________________________________\n",
      "dense_236 (Dense)               (None, 50)           900         input_44[0][0]                   \n",
      "__________________________________________________________________________________________________\n",
      "dense_237 (Dense)               (None, 34)           1734        dense_236[0][0]                  \n",
      "__________________________________________________________________________________________________\n",
      "dense_238 (Dense)               (None, 30)           1050        dense_237[0][0]                  \n",
      "__________________________________________________________________________________________________\n",
      "dense_239 (Dense)               (None, 26)           806         dense_238[0][0]                  \n",
      "__________________________________________________________________________________________________\n",
      "dense_240 (Dense)               (None, 22)           594         dense_239[0][0]                  \n",
      "__________________________________________________________________________________________________\n",
      "dense_241 (Dense)               (None, 20)           460         dense_240[0][0]                  \n",
      "__________________________________________________________________________________________________\n",
      "dropout_69 (Dropout)            (None, 20)           0           dense_241[0][0]                  \n",
      "__________________________________________________________________________________________________\n",
      "input_45 (InputLayer)           (None, 17)           0                                            \n",
      "__________________________________________________________________________________________________\n",
      "dense_242 (Dense)               (None, 18)           378         dropout_69[0][0]                 \n",
      "__________________________________________________________________________________________________\n",
      "dense_234 (Dense)               (None, 20)           360         input_45[0][0]                   \n",
      "__________________________________________________________________________________________________\n",
      "dropout_70 (Dropout)            (None, 18)           0           dense_242[0][0]                  \n",
      "__________________________________________________________________________________________________\n",
      "dense_235 (Dense)               (None, 3)            63          dense_234[0][0]                  \n",
      "__________________________________________________________________________________________________\n",
      "dense_243 (Dense)               (None, 16)           304         dropout_70[0][0]                 \n",
      "__________________________________________________________________________________________________\n",
      "concat_1 (Concatenate)          (None, 19)           0           dense_235[0][0]                  \n",
      "                                                                 dense_243[0][0]                  \n",
      "__________________________________________________________________________________________________\n",
      "dense_244 (Dense)               (None, 16)           320         concat_1[0][0]                   \n",
      "__________________________________________________________________________________________________\n",
      "dropout_71 (Dropout)            (None, 16)           0           dense_244[0][0]                  \n",
      "__________________________________________________________________________________________________\n",
      "dense_245 (Dense)               (None, 13)           221         dropout_71[0][0]                 \n",
      "__________________________________________________________________________________________________\n",
      "combined (Dense)                (None, 10)           140         dense_245[0][0]                  \n",
      "==================================================================================================\n",
      "Total params: 7,330\n",
      "Trainable params: 7,330\n",
      "Non-trainable params: 0\n",
      "__________________________________________________________________________________________________\n"
     ]
    }
   ],
   "source": [
    "inputs_2 = Input(shape=(X_train[features].shape[1],))\n",
    "inputs_wide_2 = Input(shape=(X_train_ohe.shape[1],))\n",
    "output_wide_2 = Dense(units=20, activation='relu')(inputs_wide_2)\n",
    "output_wide_2 = Dense(3, activation='relu')(output_wide_2)\n",
    "\n",
    "x = Dense(units=50, activation='relu')(inputs_2)\n",
    "x = Dense(units=34, activation='relu')(x)\n",
    "x = Dense(units=30, activation='relu')(x)\n",
    "x = Dense(units=26, activation='relu')(x)\n",
    "x = Dense(units=22, activation='relu')(x)\n",
    "x = Dense(units=20, activation='relu')(x)\n",
    "x = Dropout(.15)(x)\n",
    "x = Dense(units=18, activation='relu')(x)\n",
    "x = Dropout(.2)(x)\n",
    "output_deep_2 = Dense(16, activation ='sigmoid')(x)\n",
    "\n",
    "final_branch = concatenate([output_wide_2, output_deep_2], name='concat_1')\n",
    "final_branch = Dense(16,activation='relu')(final_branch)\n",
    "final_branch = Dropout(.3)(final_branch)\n",
    "final_branch = Dense(13, activation='relu')(final_branch)\n",
    "final_branch = Dense(units=10, activation='softmax', name = 'combined')(final_branch)\n",
    "\n",
    "model = Model(inputs = [inputs_2, inputs_wide_2], outputs = final_branch)\n",
    "model.compile(optimizer='adam', loss = 'mean_squared_error', metrics=['accuracy'])\n",
    "model.summary()"
   ]
  },
  {
   "cell_type": "code",
   "execution_count": 16,
   "metadata": {},
   "outputs": [
    {
     "name": "stdout",
     "output_type": "stream",
     "text": [
      "Epoch 1/10\n",
      "1283508/1283508 [==============================] - 154s 120us/step - loss: 0.0511 - acc: 0.6250\n",
      "Epoch 2/10\n",
      "1283508/1283508 [==============================] - 100s 78us/step - loss: 0.0445 - acc: 0.6779\n",
      "Epoch 3/10\n",
      "1283508/1283508 [==============================] - 86s 67us/step - loss: 0.0434 - acc: 0.6864\n",
      "Epoch 4/10\n",
      "1283508/1283508 [==============================] - 83s 65us/step - loss: 0.0425 - acc: 0.6924\n",
      "Epoch 5/10\n",
      "1283508/1283508 [==============================] - 83s 65us/step - loss: 0.0457 - acc: 0.6643\n",
      "Epoch 6/10\n",
      "1283508/1283508 [==============================] - 84s 65us/step - loss: 0.0456 - acc: 0.6699\n",
      "Epoch 7/10\n",
      "1283508/1283508 [==============================] - 84s 66us/step - loss: 0.0446 - acc: 0.6761\n",
      "Epoch 8/10\n",
      "1283508/1283508 [==============================] - 84s 66us/step - loss: 0.0482 - acc: 0.6490\n",
      "Epoch 9/10\n",
      "1283508/1283508 [==============================] - 83s 65us/step - loss: 0.0454 - acc: 0.6735\n",
      "Epoch 10/10\n",
      "1283508/1283508 [==============================] - 83s 65us/step - loss: 0.0581 - acc: 0.5595\n"
     ]
    }
   ],
   "source": [
    "history = model.fit([X_train, X_train_ohe] ,y_train, epochs=10, batch_size=32, verbose=1)"
   ]
  },
  {
   "cell_type": "code",
   "execution_count": 17,
   "metadata": {},
   "outputs": [
    {
     "data": {
      "image/png": "[encoded data removed]",
      "text/plain": [
       "<Figure size 432x288 with 1 Axes>"
      ]
     },
     "metadata": {
      "needs_background": "light"
     },
     "output_type": "display_data"
    }
   ],
   "source": [
    "import matplotlib.pyplot as plt\n",
    "training_loss = history.history['loss']\n",
    "test_loss = history.history['acc']\n",
    "\n",
    "epoch_count = range(1, len(training_loss) + 1)\n",
    "\n",
    "plt.plot(epoch_count, training_loss, 'r--')\n",
    "plt.plot(epoch_count, test_loss, 'b-')\n",
    "plt.legend(['Training Loss', 'Test Loss'])\n",
    "plt.xlabel('Epoch')\n",
    "plt.ylabel('Loss')\n",
    "plt.show()\n"
   ]
  },
  {
   "cell_type": "code",
   "execution_count": 18,
   "metadata": {},
   "outputs": [
    {
     "name": "stdout",
     "output_type": "stream",
     "text": [
      "0.31270095475860915\n"
     ]
    }
   ],
   "source": [
    "\n",
    "from sklearn import metrics as mt\n",
    "from sklearn.metrics import confusion_matrix\n",
    "\n",
    "yhat_proba = model.predict([X_test, X_test_ohe])\n",
    "yhat = np.round(yhat_proba)\n",
    "print(mt.accuracy_score(y_test, yhat,sample_weight=weights))"
   ]
  },
  {
   "cell_type": "code",
   "execution_count": 64,
   "metadata": {},
   "outputs": [
    {
     "name": "stdout",
     "output_type": "stream",
     "text": [
      "_________________________________________________________________\n",
      "Layer (type)                 Output Shape              Param #   \n",
      "=================================================================\n",
      "input_58 (InputLayer)        (None, 17)                0         \n",
      "_________________________________________________________________\n",
      "dense_342 (Dense)            (None, 50)                900       \n",
      "_________________________________________________________________\n",
      "dense_343 (Dense)            (None, 34)                1734      \n",
      "_________________________________________________________________\n",
      "dense_344 (Dense)            (None, 30)                1050      \n",
      "_________________________________________________________________\n",
      "dense_345 (Dense)            (None, 26)                806       \n",
      "_________________________________________________________________\n",
      "dense_346 (Dense)            (None, 22)                594       \n",
      "_________________________________________________________________\n",
      "dropout_93 (Dropout)         (None, 22)                0         \n",
      "_________________________________________________________________\n",
      "dense_347 (Dense)            (None, 20)                460       \n",
      "_________________________________________________________________\n",
      "dropout_94 (Dropout)         (None, 20)                0         \n",
      "_________________________________________________________________\n",
      "dense_348 (Dense)            (None, 18)                378       \n",
      "_________________________________________________________________\n",
      "dropout_95 (Dropout)         (None, 18)                0         \n",
      "_________________________________________________________________\n",
      "dense_349 (Dense)            (None, 10)                190       \n",
      "=================================================================\n",
      "Total params: 6,112\n",
      "Trainable params: 6,112\n",
      "Non-trainable params: 0\n",
      "_________________________________________________________________\n"
     ]
    }
   ],
   "source": [
    "inputs = Input(shape=(X_train[features].shape[1],))\n",
    "\n",
    "x = Dense(units=50, activation='relu')(inputs)\n",
    "x = Dense(units=34, activation='relu')(x)\n",
    "x = Dense(units=30, activation='relu')(x)\n",
    "x = Dense(units=26, activation='relu')(x)\n",
    "x = Dense(units=22, activation='relu')(x)\n",
    "x = Dropout(.15)(x)\n",
    "\n",
    "x = Dense(units=20, activation='relu')(x)\n",
    "x = Dropout(.15)(x)\n",
    "x = Dense(units=18, activation='relu')(x)\n",
    "x = Dropout(.15)(x)\n",
    "output= Dense(10, activation ='softmax')(x)\n",
    "\n",
    "\n",
    "model_mlp = Model(inputs = inputs, outputs = output)\n",
    "model_mlp.compile(optimizer='adam', loss = 'mean_squared_error', metrics=['accuracy'])\n",
    "model_mlp.summary()"
   ]
  },
  {
   "cell_type": "code",
   "execution_count": null,
   "metadata": {},
   "outputs": [
    {
     "name": "stdout",
     "output_type": "stream",
     "text": [
      "Epoch 1/10\n",
      "1283508/1283508 [==============================] - 167s 130us/step - loss: 0.0463 - acc: 0.6641\n",
      "Epoch 2/10\n",
      "1283508/1283508 [==============================] - 115s 90us/step - loss: 0.0408 - acc: 0.7039\n",
      "Epoch 3/10\n",
      " 204032/1283508 [===>..........................] - ETA: 1:28 - loss: 0.0402 - acc: 0.7096"
     ]
    }
   ],
   "source": [
    "history = model_mlp.fit(X_train ,y_train, epochs=10, batch_size=32, verbose=1)"
   ]
  },
  {
   "cell_type": "code",
   "execution_count": null,
   "metadata": {},
   "outputs": [],
   "source": [
    "import matplotlib.pyplot as plt\n",
    "training_loss = history.history['loss']\n",
    "test_loss = history.history['acc']\n",
    "\n",
    "epoch_count = range(1, len(training_loss) + 1)\n",
    "\n",
    "plt.plot(epoch_count, training_loss, 'r--')\n",
    "plt.plot(epoch_count, test_loss, 'b-')\n",
    "plt.legend(['Training Loss', 'Test Loss'])\n",
    "plt.xlabel('Epoch')\n",
    "plt.ylabel('Loss')\n",
    "plt.show()\n"
   ]
  },
  {
   "cell_type": "code",
   "execution_count": null,
   "metadata": {},
   "outputs": [],
   "source": []
  }
 ],
 "metadata": {
  "kernelspec": {
   "display_name": "Python 3",
   "language": "python",
   "name": "python3"
  },
  "language_info": {
   "codemirror_mode": {
    "name": "ipython",
    "version": 3
   },
   "file_extension": ".py",
   "mimetype": "text/x-python",
   "name": "python",
   "nbconvert_exporter": "python",
   "pygments_lexer": "ipython3",
   "version": "3.7.3"
  }
 },
 "nbformat": 4,
 "nbformat_minor": 2
}
