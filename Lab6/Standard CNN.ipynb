{
 "cells": [
  {
   "cell_type": "code",
   "execution_count": 2,
   "metadata": {},
   "outputs": [
    {
     "name": "stderr",
     "output_type": "stream",
     "text": [
      "Using TensorFlow backend.\n"
     ]
    },
    {
     "data": {
      "text/plain": [
       "'2.2.4'"
      ]
     },
     "execution_count": 2,
     "metadata": {},
     "output_type": "execute_result"
    }
   ],
   "source": [
    "import keras\n",
    "from keras.models import Sequential\n",
    "from keras.layers import Reshape\n",
    "from keras.layers import Dense, Dropout, Activation, Flatten\n",
    "from keras.layers import Conv2D, MaxPooling2D\n",
    "from keras.preprocessing.image import ImageDataGenerator\n",
    "from keras.callbacks import EarlyStopping\n",
    "from keras.regularizers import l2\n",
    "from keras.layers import average \n",
    "from keras.models import Input, Model\n",
    "\n",
    "keras.__version__"
   ]
  },
  {
   "cell_type": "code",
   "execution_count": 4,
   "metadata": {},
   "outputs": [],
   "source": [
    "import h5py\n",
    "import numpy as np\n",
    "from sklearn import metrics as mt\n",
    "from matplotlib import pyplot as plt\n",
    "from skimage.io import imshow\n",
    "import seaborn as sns\n",
    "%matplotlib inline"
   ]
  },
  {
   "cell_type": "code",
   "execution_count": 5,
   "metadata": {},
   "outputs": [],
   "source": [
    "arrays = {}\n",
    "f = h5py.File('MNIST_Autocorrelation.mat')"
   ]
  },
  {
   "cell_type": "code",
   "execution_count": 6,
   "metadata": {},
   "outputs": [
    {
     "name": "stdout",
     "output_type": "stream",
     "text": [
      "['TestData', 'TestLabels', 'TrainData', 'TrainLabels']\n"
     ]
    }
   ],
   "source": [
    "print(list(f.keys()))\n",
    "\n",
    "for k, v in f.items():\n",
    "    arrays[k] = np.array(v)"
   ]
  },
  {
   "cell_type": "code",
   "execution_count": 23,
   "metadata": {},
   "outputs": [],
   "source": [
    "X_train = arrays['TrainData']\n",
    "y_train = arrays['TrainLabels'].squeeze()\n",
    "X_test = arrays['TestData']\n",
    "y_test = arrays['TestLabels'].squeeze()\n",
    "\n",
    "NUM_CLASSES = 10\n",
    "NUM_TRAIN_IMAGES = 10000"
   ]
  },
  {
   "cell_type": "code",
   "execution_count": 24,
   "metadata": {},
   "outputs": [
    {
     "name": "stdout",
     "output_type": "stream",
     "text": [
      "(60000, 56, 56, 1)\n"
     ]
    }
   ],
   "source": [
    "# https://bic-berkeley.github.io/psych-214-fall-2016/numpy_transpose.html\n",
    "#X_train = X_train[:,:,0:NUM_TRAIN_IMAGES]\n",
    "X_train = X_train.transpose(2, 0, 1)\n",
    "X_train = X_train/255.0 - 0.5\n",
    "img_wh = 56;\n",
    "# NEW: Let's start by fixing the sizes\n",
    "X_train = np.expand_dims(X_train.reshape((-1,img_wh,img_wh)), axis=3)\n",
    "print(X_train.shape)"
   ]
  },
  {
   "cell_type": "code",
   "execution_count": 25,
   "metadata": {},
   "outputs": [
    {
     "name": "stdout",
     "output_type": "stream",
     "text": [
      "(10000, 56, 56, 1)\n"
     ]
    }
   ],
   "source": [
    "# https://bic-berkeley.github.io/psych-214-fall-2016/numpy_transpose.html\n",
    "X_test = X_test.transpose(2, 0, 1)\n",
    "X_test = X_test/255.0 - 0.5\n",
    "img_wh = 56;\n",
    "# NEW: Let's start by fixing the sizes\n",
    "X_test = np.expand_dims(X_test.reshape((-1,img_wh,img_wh)), axis=3)\n",
    "print(X_test.shape)"
   ]
  },
  {
   "cell_type": "code",
   "execution_count": 10,
   "metadata": {},
   "outputs": [
    {
     "data": {
      "image/png": "[encoded data removed]",
      "text/plain": [
       "<Figure size 432x288 with 2 Axes>"
      ]
     },
     "metadata": {
      "needs_background": "light"
     },
     "output_type": "display_data"
    }
   ],
   "source": [
    "plt.subplot(1,2,1)\n",
    "plt.imshow(X_train[10].squeeze(),cmap='gray')\n",
    "plt.subplot(1,2,2)\n",
    "plt.imshow(X_test[10].squeeze(),cmap='gray')\n",
    "plt.show()"
   ]
  },
  {
   "cell_type": "code",
   "execution_count": 26,
   "metadata": {},
   "outputs": [
    {
     "name": "stdout",
     "output_type": "stream",
     "text": [
      "(60000, 10)\n",
      "(10000, 10)\n"
     ]
    }
   ],
   "source": [
    "# and one hot encoding the output values\n",
    "#y_train = y_train[0:NUM_TRAIN_IMAGES]\n",
    "\n",
    "y_train_ohe = keras.utils.to_categorical(y_train, NUM_CLASSES)\n",
    "y_test_ohe = keras.utils.to_categorical(y_test, NUM_CLASSES)\n",
    "print(y_train_ohe.shape)\n",
    "print(y_test_ohe.shape)"
   ]
  },
  {
   "cell_type": "code",
   "execution_count": 27,
   "metadata": {},
   "outputs": [
    {
     "name": "stdout",
     "output_type": "stream",
     "text": [
      "Epoch 1/20\n",
      "60000/60000 [==============================] - 512s 9ms/step - loss: 1.7410 - acc: 0.3787\n",
      "Epoch 2/20\n",
      "60000/60000 [==============================] - 502s 8ms/step - loss: 1.1340 - acc: 0.5963\n",
      "Epoch 3/20\n",
      "60000/60000 [==============================] - 496s 8ms/step - loss: 1.0057 - acc: 0.6567\n",
      "Epoch 4/20\n",
      "60000/60000 [==============================] - 500s 8ms/step - loss: 0.8825 - acc: 0.6959\n",
      "Epoch 5/20\n",
      "60000/60000 [==============================] - 496s 8ms/step - loss: 0.8215 - acc: 0.7201\n",
      "Epoch 6/20\n",
      "60000/60000 [==============================] - 496s 8ms/step - loss: 0.7725 - acc: 0.7347\n",
      "Epoch 7/20\n",
      "60000/60000 [==============================] - 497s 8ms/step - loss: 0.7312 - acc: 0.7538\n",
      "Epoch 8/20\n",
      "60000/60000 [==============================] - 494s 8ms/step - loss: 0.6953 - acc: 0.7654\n",
      "Epoch 9/20\n",
      "60000/60000 [==============================] - 490s 8ms/step - loss: 0.6554 - acc: 0.7805\n",
      "Epoch 10/20\n",
      "60000/60000 [==============================] - 497s 8ms/step - loss: 0.6273 - acc: 0.7887\n",
      "Epoch 11/20\n",
      "60000/60000 [==============================] - 501s 8ms/step - loss: 0.6014 - acc: 0.7977\n",
      "Epoch 12/20\n",
      "60000/60000 [==============================] - 501s 8ms/step - loss: 0.5802 - acc: 0.8067\n",
      "Epoch 13/20\n",
      "60000/60000 [==============================] - 511s 9ms/step - loss: 0.5566 - acc: 0.8122\n",
      "Epoch 14/20\n",
      "60000/60000 [==============================] - 502s 8ms/step - loss: 0.5408 - acc: 0.8204\n",
      "Epoch 15/20\n",
      "60000/60000 [==============================] - 507s 8ms/step - loss: 0.5279 - acc: 0.8237\n",
      "Epoch 16/20\n",
      "60000/60000 [==============================] - 491s 8ms/step - loss: 0.5096 - acc: 0.8300\n",
      "Epoch 17/20\n",
      "60000/60000 [==============================] - 468s 8ms/step - loss: 0.5003 - acc: 0.8336\n",
      "Epoch 18/20\n",
      "60000/60000 [==============================] - 468s 8ms/step - loss: 0.4845 - acc: 0.8370\n",
      "Epoch 19/20\n",
      "60000/60000 [==============================] - 466s 8ms/step - loss: 0.4680 - acc: 0.8447\n",
      "Epoch 20/20\n",
      "60000/60000 [==============================] - 467s 8ms/step - loss: 0.4632 - acc: 0.8461\n",
      "Wall time: 2h 44min 24s\n"
     ]
    }
   ],
   "source": [
    "%%time \n",
    "\n",
    "cnn = Sequential()\n",
    "\n",
    "# let's start with an AlexNet style convolutional phase\n",
    "cnn.add(Conv2D(filters=32,\n",
    "                input_shape = (img_wh,img_wh,1),\n",
    "                kernel_size=(3,3), \n",
    "                padding='same', \n",
    "                activation='relu', data_format=\"channels_last\")) # more compact syntax\n",
    "\n",
    "# no max pool before next conv layer!!\n",
    "cnn.add(Conv2D(filters=64,\n",
    "                kernel_size=(3,3), \n",
    "                padding='same', \n",
    "                activation='relu')) # more compact syntax\n",
    "cnn.add(MaxPooling2D(pool_size=(2, 2), data_format=\"channels_last\"))\n",
    "    \n",
    "\n",
    "# add one layer on flattened output\n",
    "cnn.add(Dropout(0.25)) # add some dropout for regularization after conv layers\n",
    "cnn.add(Flatten())\n",
    "cnn.add(Dense(128, activation='relu'))\n",
    "cnn.add(Dropout(0.5)) # add some dropout for regularization, again!\n",
    "cnn.add(Dense(NUM_CLASSES, activation='softmax'))\n",
    "\n",
    "# Let's train the model \n",
    "cnn.compile(loss='categorical_crossentropy', # 'categorical_crossentropy' 'mean_squared_error'\n",
    "              optimizer='rmsprop', # 'adadelta' 'rmsprop'\n",
    "              metrics=['accuracy'])\n",
    "\n",
    "\n",
    "cnn.fit(X_train, y_train_ohe, \n",
    "        batch_size=256, epochs=20, \n",
    "        shuffle=True, verbose=1)\n"
   ]
  },
  {
   "cell_type": "code",
   "execution_count": 28,
   "metadata": {},
   "outputs": [],
   "source": [
    "def summarize_net(net, X_test, y_test, title_text=''):\n",
    "    plt.figure(figsize=(15,5))\n",
    "    yhat = np.argmax(net.predict(X_test), axis=1)\n",
    "    acc = mt.accuracy_score(y_test,yhat)\n",
    "    cm = mt.confusion_matrix(y_test,yhat)\n",
    "    cm = cm/np.sum(cm,axis=1)[:,np.newaxis]\n",
    "    sns.heatmap(cm, annot=True, fmt='.2f')\n",
    "    plt.title(title_text+'{:.4f}'.format(acc))"
   ]
  },
  {
   "cell_type": "code",
   "execution_count": 29,
   "metadata": {},
   "outputs": [
    {
     "data": {
      "image/png": "[encoded data removed]",
      "text/plain": [
       "<Figure size 1080x360 with 2 Axes>"
      ]
     },
     "metadata": {
      "needs_background": "light"
     },
     "output_type": "display_data"
    }
   ],
   "source": [
    "summarize_net(cnn, X_test, y_test, title_text='Prediction Score: ')"
   ]
  },
  {
   "cell_type": "code",
   "execution_count": null,
   "metadata": {},
   "outputs": [],
   "source": []
  }
 ],
 "metadata": {
  "kernelspec": {
   "display_name": "Python 3",
   "language": "python",
   "name": "python3"
  },
  "language_info": {
   "codemirror_mode": {
    "name": "ipython",
    "version": 2
   },
   "file_extension": ".py",
   "mimetype": "text/x-python",
   "name": "python",
   "nbconvert_exporter": "python",
   "pygments_lexer": "ipython2",
   "version": "2.7.15"
  }
 },
 "nbformat": 4,
 "nbformat_minor": 2
}
