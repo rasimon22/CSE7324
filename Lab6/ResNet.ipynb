{
 "cells": [
  {
   "cell_type": "code",
   "execution_count": 32,
   "metadata": {},
   "outputs": [
    {
     "data": {
      "text/plain": [
       "'2.2.4'"
      ]
     },
     "execution_count": 32,
     "metadata": {},
     "output_type": "execute_result"
    }
   ],
   "source": [
    "import keras\n",
    "from keras.models import Sequential\n",
    "from keras.layers import Reshape\n",
    "from keras.layers import Dense, Dropout, Activation, Flatten\n",
    "from keras.layers import Conv2D, MaxPooling2D\n",
    "from keras.preprocessing.image import ImageDataGenerator\n",
    "from keras.callbacks import EarlyStopping\n",
    "from keras.regularizers import l2\n",
    "from keras.layers import average \n",
    "from keras.models import Input, Model, model_from_json\n",
    "import os\n",
    "\n",
    "keras.__version__"
   ]
  },
  {
   "cell_type": "code",
   "execution_count": 2,
   "metadata": {},
   "outputs": [],
   "source": [
    "import h5py\n",
    "import numpy as np\n",
    "from sklearn import metrics as mt\n",
    "from matplotlib import pyplot as plt\n",
    "from skimage.io import imshow\n",
    "import seaborn as sns\n",
    "%matplotlib inline"
   ]
  },
  {
   "cell_type": "code",
   "execution_count": 3,
   "metadata": {},
   "outputs": [],
   "source": [
    "arrays = {}\n",
    "f = h5py.File('MNIST_Autocorrelation.mat')"
   ]
  },
  {
   "cell_type": "code",
   "execution_count": 4,
   "metadata": {},
   "outputs": [
    {
     "name": "stdout",
     "output_type": "stream",
     "text": [
      "[u'TestData', u'TestLabels', u'TrainData', u'TrainLabels']\n"
     ]
    }
   ],
   "source": [
    "print(list(f.keys()))\n",
    "\n",
    "for k, v in f.items():\n",
    "    arrays[k] = np.array(v)"
   ]
  },
  {
   "cell_type": "code",
   "execution_count": 5,
   "metadata": {},
   "outputs": [],
   "source": [
    "X_train = arrays['TrainData']\n",
    "y_train = arrays['TrainLabels'].squeeze()\n",
    "X_test = arrays['TestData']\n",
    "y_test = arrays['TestLabels'].squeeze()\n",
    "\n",
    "NUM_CLASSES = 10\n",
    "NUM_TRAIN_IMAGES = 10000"
   ]
  },
  {
   "cell_type": "code",
   "execution_count": 6,
   "metadata": {},
   "outputs": [
    {
     "name": "stdout",
     "output_type": "stream",
     "text": [
      "(60000, 56, 56, 1)\n"
     ]
    }
   ],
   "source": [
    "# https://bic-berkeley.github.io/psych-214-fall-2016/numpy_transpose.html\n",
    "#X_train = X_train[:,:,0:NUM_TRAIN_IMAGES]\n",
    "X_train = X_train.transpose(2, 0, 1)\n",
    "X_train = X_train/255.0 - 0.5\n",
    "img_wh = 56;\n",
    "# NEW: Let's start by fixing the sizes\n",
    "X_train = np.expand_dims(X_train.reshape((-1,img_wh,img_wh)), axis=3)\n",
    "print(X_train.shape)"
   ]
  },
  {
   "cell_type": "code",
   "execution_count": 7,
   "metadata": {},
   "outputs": [
    {
     "name": "stdout",
     "output_type": "stream",
     "text": [
      "(10000, 56, 56, 1)\n"
     ]
    }
   ],
   "source": [
    "# https://bic-berkeley.github.io/psych-214-fall-2016/numpy_transpose.html\n",
    "X_test = X_test.transpose(2, 0, 1)\n",
    "X_test = X_test/255.0 - 0.5\n",
    "img_wh = 56;\n",
    "# NEW: Let's start by fixing the sizes\n",
    "X_test = np.expand_dims(X_test.reshape((-1,img_wh,img_wh)), axis=3)\n",
    "print(X_test.shape)"
   ]
  },
  {
   "cell_type": "code",
   "execution_count": 8,
   "metadata": {},
   "outputs": [
    {
     "data": {
      "image/png": "[encoded data removed]",
      "text/plain": [
       "<matplotlib.figure.Figure at 0x7f0db283fdd0>"
      ]
     },
     "metadata": {
      "needs_background": "light"
     },
     "output_type": "display_data"
    }
   ],
   "source": [
    "plt.subplot(1,2,1)\n",
    "plt.imshow(X_train[10].squeeze(),cmap='gray')\n",
    "plt.subplot(1,2,2)\n",
    "plt.imshow(X_test[10].squeeze(),cmap='gray')\n",
    "plt.show()"
   ]
  },
  {
   "cell_type": "code",
   "execution_count": 9,
   "metadata": {},
   "outputs": [
    {
     "name": "stdout",
     "output_type": "stream",
     "text": [
      "(60000, 10)\n",
      "(10000, 10)\n"
     ]
    }
   ],
   "source": [
    "# and one hot encoding the output values\n",
    "#y_train = y_train[0:NUM_TRAIN_IMAGES]\n",
    "\n",
    "y_train_ohe = keras.utils.to_categorical(y_train, NUM_CLASSES)\n",
    "y_test_ohe = keras.utils.to_categorical(y_test, NUM_CLASSES)\n",
    "print(y_train_ohe.shape)\n",
    "print(y_test_ohe.shape)"
   ]
  },
  {
   "cell_type": "code",
   "execution_count": 10,
   "metadata": {},
   "outputs": [],
   "source": [
    "def summarize_net(net, X_test, y_test, title_text=''):\n",
    "    plt.figure(figsize=(15,5))\n",
    "    yhat = np.argmax(net.predict(X_test), axis=1)\n",
    "    acc = mt.accuracy_score(y_test,yhat)\n",
    "    cm = mt.confusion_matrix(y_test,yhat)\n",
    "    cm = cm/np.sum(cm,axis=1)[:,np.newaxis].astype(np.float16)\n",
    "    sns.heatmap(cm, annot=True, fmt='.2f')\n",
    "    plt.title(title_text+'{:.4f}'.format(acc))"
   ]
  },
  {
   "cell_type": "code",
   "execution_count": 40,
   "metadata": {},
   "outputs": [
    {
     "name": "stdout",
     "output_type": "stream",
     "text": [
      "started model load\n",
      "__________________________________________________________________________________________________\n",
      "Layer (type)                    Output Shape         Param #     Connected to                     \n",
      "==================================================================================================\n",
      "input_1 (InputLayer)            (None, 56, 56, 1)    0                                            \n",
      "__________________________________________________________________________________________________\n",
      "conv2d_1 (Conv2D)               (None, 56, 56, 32)   320         input_1[0][0]                    \n",
      "__________________________________________________________________________________________________\n",
      "max_pooling2d_1 (MaxPooling2D)  (None, 28, 28, 32)   0           conv2d_1[0][0]                   \n",
      "__________________________________________________________________________________________________\n",
      "conv2d_2 (Conv2D)               (None, 28, 28, 32)   9248        max_pooling2d_1[0][0]            \n",
      "__________________________________________________________________________________________________\n",
      "max_pooling2d_2 (MaxPooling2D)  (None, 14, 14, 32)   0           conv2d_2[0][0]                   \n",
      "__________________________________________________________________________________________________\n",
      "conv2d_3 (Conv2D)               (None, 14, 14, 64)   2112        max_pooling2d_2[0][0]            \n",
      "__________________________________________________________________________________________________\n",
      "conv2d_4 (Conv2D)               (None, 14, 14, 64)   36928       conv2d_3[0][0]                   \n",
      "__________________________________________________________________________________________________\n",
      "conv2d_5 (Conv2D)               (None, 14, 14, 32)   2080        conv2d_4[0][0]                   \n",
      "__________________________________________________________________________________________________\n",
      "add_1 (Add)                     (None, 14, 14, 32)   0           conv2d_5[0][0]                   \n",
      "                                                                 max_pooling2d_2[0][0]            \n",
      "__________________________________________________________________________________________________\n",
      "activation_1 (Activation)       (None, 14, 14, 32)   0           add_1[0][0]                      \n",
      "__________________________________________________________________________________________________\n",
      "max_pooling2d_3 (MaxPooling2D)  (None, 7, 7, 32)     0           activation_1[0][0]               \n",
      "__________________________________________________________________________________________________\n",
      "flatten_1 (Flatten)             (None, 1568)         0           max_pooling2d_3[0][0]            \n",
      "__________________________________________________________________________________________________\n",
      "dropout_1 (Dropout)             (None, 1568)         0           flatten_1[0][0]                  \n",
      "__________________________________________________________________________________________________\n",
      "dense_1 (Dense)                 (None, 256)          401664      dropout_1[0][0]                  \n",
      "__________________________________________________________________________________________________\n",
      "activation_2 (Activation)       (None, 256)          0           dense_1[0][0]                    \n",
      "__________________________________________________________________________________________________\n",
      "dropout_2 (Dropout)             (None, 256)          0           activation_2[0][0]               \n",
      "__________________________________________________________________________________________________\n",
      "dense_2 (Dense)                 (None, 10)           2570        dropout_2[0][0]                  \n",
      "__________________________________________________________________________________________________\n",
      "activation_3 (Activation)       (None, 10)           0           dense_2[0][0]                    \n",
      "==================================================================================================\n",
      "Total params: 454,922\n",
      "Trainable params: 454,922\n",
      "Non-trainable params: 0\n",
      "__________________________________________________________________________________________________\n",
      "CPU times: user 347 ms, sys: 11.6 ms, total: 358 ms\n",
      "Wall time: 350 ms\n"
     ]
    }
   ],
   "source": [
    "%%time\n",
    "try:\n",
    "    print(\"started model load\")\n",
    "    with open('model.json', 'r') as file:\n",
    "        loaded_model_json = file.read()\n",
    "    resnet = model_from_json(loaded_model_json)\n",
    "    # load weights into new model\n",
    "    resnet.load_weights(\"model.h5\")\n",
    "    resnet.summary()\n",
    "except Exception as e:\n",
    "# now lets use the LeNet architecture with batch norm\n",
    "# We will also use ReLU where approriate and drop out \n",
    "    from keras.layers.normalization import BatchNormalization\n",
    "    from keras.layers import Add\n",
    "    from keras.layers import average, concatenate\n",
    "    from keras.models import Input, Model\n",
    "    from keras.regularizers import l2 \n",
    "    l2_lambda = 0.0001\n",
    "\n",
    "    input_holder = Input(shape=(img_wh, img_wh, 1))\n",
    "\n",
    "    # start with a conv layer\n",
    "    x = Conv2D(filters=32,\n",
    "                   input_shape = (img_wh,img_wh,1),\n",
    "                   kernel_size=(3,3),\n",
    "                   kernel_initializer='he_uniform', \n",
    "                   kernel_regularizer=l2(l2_lambda),\n",
    "                   padding='same', \n",
    "                   activation='relu', \n",
    "                   data_format=\"channels_last\")(input_holder)\n",
    "\n",
    "    x = MaxPooling2D(pool_size=(2, 2), data_format=\"channels_last\")(x)\n",
    "\n",
    "    x = Conv2D(filters=32,\n",
    "                   kernel_size=(3,3),\n",
    "                   kernel_initializer='he_uniform', \n",
    "                   kernel_regularizer=l2(l2_lambda),\n",
    "                   padding='same', \n",
    "                   activation='relu', \n",
    "                   data_format=\"channels_last\")(x)\n",
    "\n",
    "    x_split = MaxPooling2D(pool_size=(2, 2), data_format=\"channels_last\")(x)\n",
    "\n",
    "    x = Conv2D(filters=64,\n",
    "                   kernel_size=(1,1),\n",
    "                   kernel_initializer='he_uniform', \n",
    "                   kernel_regularizer=l2(l2_lambda),\n",
    "                   padding='same', \n",
    "                   activation='relu', \n",
    "                   data_format=\"channels_last\")(x_split)\n",
    "\n",
    "    x = Conv2D(filters=64,\n",
    "                   kernel_size=(3,3),\n",
    "                   kernel_initializer='he_uniform', \n",
    "                   kernel_regularizer=l2(l2_lambda),\n",
    "                   padding='same', \n",
    "                   activation='relu', \n",
    "                   data_format=\"channels_last\")(x)\n",
    "\n",
    "    x = Conv2D(filters=32,\n",
    "                   kernel_size=(1,1),\n",
    "                   kernel_initializer='he_uniform', \n",
    "                   kernel_regularizer=l2(l2_lambda),\n",
    "                   padding='same', \n",
    "                   activation='relu', \n",
    "                   data_format=\"channels_last\")(x)\n",
    "\n",
    "    # now add back in the split layer, x_split (residual added in)\n",
    "    x = Add()([x, x_split])\n",
    "    x = Activation(\"relu\")(x)\n",
    "\n",
    "    x = MaxPooling2D(pool_size=(2, 2), data_format=\"channels_last\")(x)\n",
    "\n",
    "    x = Flatten()(x)\n",
    "    x = Dropout(0.25)(x)\n",
    "    x = Dense(256)(x)\n",
    "    x = Activation(\"relu\")(x)\n",
    "    x = Dropout(0.5)(x)\n",
    "    x = Dense(NUM_CLASSES)(x)\n",
    "    x = Activation('softmax')(x)\n",
    "\n",
    "    resnet = Model(inputs=input_holder,outputs=x)\n",
    "\n",
    "    resnet.summary()"
   ]
  },
  {
   "cell_type": "code",
   "execution_count": 41,
   "metadata": {},
   "outputs": [],
   "source": [
    "resnet.compile(loss='categorical_crossentropy', # 'categorical_crossentropy' 'mean_squared_error'\n",
    "                optimizer='adam', # 'adadelta' 'rmsprop'\n",
    "                metrics=['accuracy'])"
   ]
  },
  {
   "cell_type": "code",
   "execution_count": 42,
   "metadata": {},
   "outputs": [
    {
     "name": "stdout",
     "output_type": "stream",
     "text": [
      "Train on 60000 samples, validate on 10000 samples\n",
      "Epoch 1/20\n",
      "60000/60000 [==============================] - 7s 115us/step - loss: 0.2310 - acc: 0.9396 - val_loss: 0.1869 - val_acc: 0.9529\n",
      "Epoch 2/20\n",
      "60000/60000 [==============================] - 6s 107us/step - loss: 0.2282 - acc: 0.9403 - val_loss: 0.1843 - val_acc: 0.9556\n",
      "Epoch 3/20\n",
      "60000/60000 [==============================] - 6s 105us/step - loss: 0.2227 - acc: 0.9417 - val_loss: 0.1814 - val_acc: 0.9563\n",
      "Epoch 4/20\n",
      "60000/60000 [==============================] - 6s 105us/step - loss: 0.2230 - acc: 0.9414 - val_loss: 0.1879 - val_acc: 0.9521\n",
      "Epoch 5/20\n",
      "60000/60000 [==============================] - 6s 106us/step - loss: 0.2202 - acc: 0.9415 - val_loss: 0.1888 - val_acc: 0.9540\n",
      "Epoch 6/20\n",
      "60000/60000 [==============================] - 6s 106us/step - loss: 0.2182 - acc: 0.9424 - val_loss: 0.1817 - val_acc: 0.9553\n",
      "Epoch 7/20\n",
      "60000/60000 [==============================] - 6s 105us/step - loss: 0.2181 - acc: 0.9427 - val_loss: 0.1784 - val_acc: 0.9579\n",
      "Epoch 8/20\n",
      "60000/60000 [==============================] - 6s 105us/step - loss: 0.2151 - acc: 0.9431 - val_loss: 0.1757 - val_acc: 0.9569\n",
      "Epoch 9/20\n",
      "60000/60000 [==============================] - 6s 104us/step - loss: 0.2112 - acc: 0.9451 - val_loss: 0.1813 - val_acc: 0.9571\n",
      "Epoch 10/20\n",
      "60000/60000 [==============================] - 6s 106us/step - loss: 0.2139 - acc: 0.9440 - val_loss: 0.1736 - val_acc: 0.9589\n",
      "Epoch 11/20\n",
      "60000/60000 [==============================] - 6s 107us/step - loss: 0.2094 - acc: 0.9454 - val_loss: 0.1797 - val_acc: 0.9559\n",
      "Epoch 12/20\n",
      "60000/60000 [==============================] - 6s 106us/step - loss: 0.2094 - acc: 0.9452 - val_loss: 0.1839 - val_acc: 0.9556\n",
      "Epoch 13/20\n",
      "60000/60000 [==============================] - 6s 106us/step - loss: 0.2073 - acc: 0.9460 - val_loss: 0.1791 - val_acc: 0.9577\n",
      "Epoch 14/20\n",
      "60000/60000 [==============================] - 6s 106us/step - loss: 0.2059 - acc: 0.9462 - val_loss: 0.1790 - val_acc: 0.9578\n"
     ]
    }
   ],
   "source": [
    "history = resnet.fit(X_train, y_train_ohe, batch_size=256, \n",
    "                      epochs=20, verbose=1,\n",
    "                      validation_data=(X_test,y_test_ohe),\n",
    "                      callbacks=[EarlyStopping(monitor='val_loss', patience=4)]\n",
    "                     )"
   ]
  },
  {
   "cell_type": "code",
   "execution_count": 43,
   "metadata": {},
   "outputs": [
    {
     "name": "stdout",
     "output_type": "stream",
     "text": [
      "Weights Saved to Disk\n"
     ]
    }
   ],
   "source": [
    "model_json = resnet.to_json()\n",
    "with open(\"model.json\", 'w+') as json_file:\n",
    "    json_file.write(model_json)\n",
    "resnet.save_weights(\"model.h5\")\n",
    "print(\"Weights Saved to Disk\")"
   ]
  },
  {
   "cell_type": "code",
   "execution_count": 44,
   "metadata": {},
   "outputs": [
    {
     "data": {
      "image/png": "[encoded data removed]",
      "text/plain": [
       "<matplotlib.figure.Figure at 0x7f0bf474e710>"
      ]
     },
     "metadata": {
      "needs_background": "light"
     },
     "output_type": "display_data"
    },
    {
     "data": {
      "image/png": "[encoded data removed]",
      "text/plain": [
       "<matplotlib.figure.Figure at 0x7f0bf46ed210>"
      ]
     },
     "metadata": {
      "needs_background": "light"
     },
     "output_type": "display_data"
    }
   ],
   "source": [
    "plt.plot(history.history['val_loss'], label=\"Val_loss\")\n",
    "plt.plot(history.history['loss'], label=\"training_loss\")\n",
    "plt.legend()\n",
    "\n",
    "summarize_net(resnet, X_test, y_test, title_text='ResNet Prediction Score:')"
   ]
  },
  {
   "cell_type": "code",
   "execution_count": null,
   "metadata": {},
   "outputs": [],
   "source": []
  }
 ],
 "metadata": {
  "kernelspec": {
   "display_name": "Python 3",
   "language": "python",
   "name": "python3"
  },
  "language_info": {
   "codemirror_mode": {
    "name": "ipython",
    "version": 3
   },
   "file_extension": ".py",
   "mimetype": "text/x-python",
   "name": "python",
   "nbconvert_exporter": "python",
   "pygments_lexer": "ipython3",
   "version": "3.7.3"
  }
 },
 "nbformat": 4,
 "nbformat_minor": 2
}
